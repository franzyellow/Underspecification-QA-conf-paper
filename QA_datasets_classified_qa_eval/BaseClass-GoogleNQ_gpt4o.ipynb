{
 "cells": [
  {
   "cell_type": "code",
   "execution_count": 1,
   "metadata": {
    "id": "6QW7wXE_KEzL",
    "outputId": "42c33c0b-c8c8-44bb-d9ec-e1e90f067069"
   },
   "outputs": [
    {
     "name": "stdout",
     "output_type": "stream",
     "text": [
      "Wed Sep 10 13:52:06 2025       \n",
      "+-----------------------------------------------------------------------------------------+\n",
      "| NVIDIA-SMI 575.57.08              Driver Version: 575.57.08      CUDA Version: 12.9     |\n",
      "|-----------------------------------------+------------------------+----------------------+\n",
      "| GPU  Name                 Persistence-M | Bus-Id          Disp.A | Volatile Uncorr. ECC |\n",
      "| Fan  Temp   Perf          Pwr:Usage/Cap |           Memory-Usage | GPU-Util  Compute M. |\n",
      "|                                         |                        |               MIG M. |\n",
      "|=========================================+========================+======================|\n",
      "|   0  NVIDIA A100-SXM4-40GB          On  |   00000000:31:00.0 Off |                    0 |\n",
      "| N/A   30C    P0             50W /  400W |       0MiB /  40960MiB |      0%      Default |\n",
      "|                                         |                        |             Disabled |\n",
      "+-----------------------------------------+------------------------+----------------------+\n",
      "                                                                                         \n",
      "+-----------------------------------------------------------------------------------------+\n",
      "| Processes:                                                                              |\n",
      "|  GPU   GI   CI              PID   Type   Process name                        GPU Memory |\n",
      "|        ID   ID                                                               Usage      |\n",
      "|=========================================================================================|\n",
      "|  No running processes found                                                             |\n",
      "+-----------------------------------------------------------------------------------------+\n"
     ]
    }
   ],
   "source": [
    "!nvidia-smi\n",
    "%matplotlib inline"
   ]
  },
  {
   "cell_type": "code",
   "execution_count": null,
   "metadata": {
    "id": "IVQvDLF6Kdot",
    "outputId": "2dea4a8f-0278-4482-e473-ef636f84f3a4"
   },
   "outputs": [
    {
     "data": {
      "text/plain": [
       "True"
      ]
     },
     "execution_count": 1,
     "metadata": {},
     "output_type": "execute_result"
    }
   ],
   "source": [
    "import os\n",
    "import pandas as pd\n",
    "from sklearn.metrics import classification_report\n",
    "import matplotlib.pyplot as plt\n",
    "from sklearn.metrics import confusion_matrix\n",
    "from sklearn.metrics import ConfusionMatrixDisplay\n",
    "from tqdm import tqdm\n",
    "from typing import List, Literal, List, Dict, Any, Optional\n",
    "import numpy as np\n",
    "import seaborn as sns\n",
    "\n",
    "from datasets import load_dataset\n",
    "import random\n",
    "import json\n",
    "import re\n",
    "from functools import partial\n",
    "from datasets import Dataset\n",
    "from copy import deepcopy\n",
    "import evaluate\n",
    "import nltk\n",
    "from scipy.stats import ttest_ind\n",
    "import string\n",
    "from collections import Counter\n",
    "\n",
    "import openai\n",
    "import os\n",
    "import time\n",
    "import pandas as pd\n",
    "\n",
    "from ragas.llms import LangchainLLMWrapper\n",
    "from langchain_deepseek import ChatDeepSeek\n",
    "from ragas.dataset_schema import SingleTurnSample\n",
    "from ragas.metrics import AnswerAccuracy\n",
    "from dotenv import load_dotenv\n",
    "load_dotenv()"
   ]
  },
  {
   "cell_type": "code",
   "execution_count": 3,
   "metadata": {
    "id": "FjVVTogDKnAu"
   },
   "outputs": [],
   "source": [
    "# For Snellius\n",
    "input_csv = \"../data/few_shots.csv\"\n",
    "df_few_shots = pd.read_csv(input_csv)\n",
    "real_csv = \"../data/Test_1155.csv\"\n",
    "df_test_1155 = pd.read_csv(real_csv)\n",
    "learning_csv = \"../data/in-context_learning_set.csv\"\n",
    "df_in_context_learning = pd.read_csv(learning_csv)"
   ]
  },
  {
   "cell_type": "code",
   "execution_count": null,
   "metadata": {
    "id": "eBUGMoW9KqYU"
   },
   "outputs": [],
   "source": [
    "\"\"\"\n",
    "module load CUDA/12.4.0\n",
    "source ~/sglang-venv-2/bin/activate\n",
    "huggingface-cli login\n",
    "\n",
    "\n",
    "# 创建所有必要的目录\n",
    "mkdir -p /scratch-local/yhuang/sglang_cache\n",
    "mkdir -p /scratch-local/yhuang/huggingface_cache\n",
    "mkdir -p /scratch-local/yhuang/torch_cache\n",
    "mkdir -p /scratch-local/yhuang/cuda_cache\n",
    "mkdir -p /scratch-local/yhuang/xdg_cache\n",
    "mkdir -p /scratch-local/yhuang/tmp\n",
    "mkdir -p /scratch-local/yhuang/logs\n",
    "\n",
    "# 设置所有相关环境变量\n",
    "export SGLANG_CACHE_DIR=/scratch-local/yhuang/sglang_cache\n",
    "export TRANSFORMERS_CACHE=/scratch-local/yhuang/huggingface_cache\n",
    "export HF_HOME=/scratch-local/yhuang/huggingface_cache\n",
    "export HF_DATASETS_CACHE=/scratch-local/yhuang/huggingface_cache/datasets\n",
    "export TORCH_HOME=/scratch-local/yhuang/torch_cache\n",
    "export CUDA_CACHE_PATH=/scratch-local/yhuang/cuda_cache\n",
    "export XDG_CACHE_HOME=/scratch-local/yhuang/xdg_cache\n",
    "export TMPDIR=/scratch-local/yhuang/tmp\n",
    "export TEMP=/scratch-local/yhuang/tmp\n",
    "export TMP=/scratch-local/yhuang/tmp\n",
    "export SGLANG_LOG_DIR=/scratch-local/yhuang/logs\n",
    "\n",
    "# launching\n",
    "python -m sglang.launch_server --port 7501 --model-path Qwen/Qwen3-4B --trust-remote-code\n",
    "CUDA_VISIBLE_DEVICES=0,1 python -m sglang.launch_server --port 7501 --model-path Qwen/Qwen3-32B --trust-remote-code --tp 2\n",
    "\"\"\""
   ]
  },
  {
   "cell_type": "markdown",
   "metadata": {
    "id": "xuHEtpv3o53c"
   },
   "source": [
    "## Loading the GoogleNQ sample"
   ]
  },
  {
   "cell_type": "code",
   "execution_count": 3,
   "metadata": {
    "id": "xAbSKjCl7lIs"
   },
   "outputs": [],
   "source": [
    "import os\n",
    "\n",
    "os.environ[\"HF_DATASETS_CACHE\"] = \"/scratch-local/yhuang/huggingface_cache\"\n",
    "# 确保目录存在\n",
    "os.makedirs('/scratch-local/yhuang/huggingface_cache', exist_ok=True)"
   ]
  },
  {
   "cell_type": "code",
   "execution_count": 4,
   "metadata": {},
   "outputs": [],
   "source": [
    "GoogleNQ_sample = load_dataset(\n",
    "    \"json\",\n",
    "    data_files=\"GoogleNQ_sample.jsonl\",\n",
    "    split=\"train\"  # 必须指定 split，否则默认返回 DatasetDict\n",
    ")\n",
    "\n",
    "GoogleNQ_pilot = load_dataset(\n",
    "    \"json\",\n",
    "    data_files=\"NQ_baseline_test.jsonl\",\n",
    "    split=\"train\"  # 必须指定 split，否则默认返回 DatasetDict\n",
    ")"
   ]
  },
  {
   "cell_type": "markdown",
   "metadata": {
    "id": "bl0WhadFqB4E"
   },
   "source": [
    "## Using the off-the-shelf Qwen3-4B for classification"
   ]
  },
  {
   "cell_type": "markdown",
   "metadata": {
    "id": "eqnuHS6h0125"
   },
   "source": [
    "#### Prompt setting"
   ]
  },
  {
   "cell_type": "code",
   "execution_count": 5,
   "metadata": {
    "id": "zcrSOnuO03r2"
   },
   "outputs": [],
   "source": [
    "system_prompt = \"\"\"\n",
    "You are an expert analyst. Your task is to analyze and determine whether an input user query is \"fully specified\" or \"underspecified\".\n",
    "\n",
    "\"\"\"\n",
    "\n",
    "task_FS_UND = \"\"\"\n",
    "Analyze the following input user query:\n",
    "\n",
    "{\"query\": \"TARGET\"}\n",
    "\n",
    "Please provide your analysis in the following JSON format:\n",
    "\n",
    "{\"query\": \"TARGET\", \"reasoning\": \"[YOUR_DETAILED_REASONING]\", \"judgment\": \"[fully specified/underspecified]\"}\n",
    "\"\"\""
   ]
  },
  {
   "cell_type": "markdown",
   "metadata": {},
   "source": [
    "#### Loading the model"
   ]
  },
  {
   "cell_type": "code",
   "execution_count": 6,
   "metadata": {},
   "outputs": [
    {
     "data": {
      "application/vnd.jupyter.widget-view+json": {
       "model_id": "7fb8fc7abdf343ef9a982f8c90d6ff94",
       "version_major": 2,
       "version_minor": 0
      },
      "text/plain": [
       "Loading checkpoint shards:   0%|          | 0/3 [00:00<?, ?it/s]"
      ]
     },
     "metadata": {},
     "output_type": "display_data"
    },
    {
     "name": "stdout",
     "output_type": "stream",
     "text": [
      "cuda\n"
     ]
    }
   ],
   "source": [
    "Qwen3_4B = \"Qwen/Qwen3-4B\"\n",
    "\n",
    "import os\n",
    "os.environ['TRANSFORMERS_CACHE'] = '/scratch-local/yhuang/huggingface_cache'\n",
    "# 确保目录存在\n",
    "os.makedirs('/scratch-local/yhuang/huggingface_cache', exist_ok=True)\n",
    "\n",
    "# Load model directly\n",
    "from transformers import AutoTokenizer, AutoModelForCausalLM\n",
    "\n",
    "tokenizer = AutoTokenizer.from_pretrained(Qwen3_4B, padding_side='left')\n",
    "model = AutoModelForCausalLM.from_pretrained(Qwen3_4B)\n",
    "\n",
    "# 将模型移到可用设备\n",
    "device = torch.device(\"cuda\" if torch.cuda.is_available() else \"cpu\")\n",
    "print(device)\n",
    "model = model.to(device)"
   ]
  },
  {
   "cell_type": "markdown",
   "metadata": {
    "id": "9vPKoVGs0nUE"
   },
   "source": [
    "#### Helper functions"
   ]
  },
  {
   "cell_type": "code",
   "execution_count": 7,
   "metadata": {
    "id": "kNa4o0uAwt4x"
   },
   "outputs": [],
   "source": [
    "def batch_generate_responses_qwen3(prompts, system_prompt=system_prompt,\n",
    "                             temperature=0.7, max_new_tokens=32768, batch_size=5,\n",
    "                             enable_thinking=True, parse_thinking=True):\n",
    "    \"\"\"\n",
    "    批量生成Qwen 3模型的回复\n",
    "\n",
    "    参数:\n",
    "        prompts: 字符串列表，每个字符串是一个提示词\n",
    "        system_prompt: 系统提示词\n",
    "        max_new_tokens: 生成的最大token数，默认为512\n",
    "        batch_size: 每批处理的提示词数量，默认为4\n",
    "        enable_thinking: 是否启用思考模式，默认为True\n",
    "        parse_thinking: 是否解析思考内容，默认为True\n",
    "\n",
    "    返回:\n",
    "        如果parse_thinking=True，返回(思考内容列表, 回复内容列表)的元组\n",
    "        如果parse_thinking=False，返回回复列表\n",
    "    \"\"\"\n",
    "\n",
    "    responses = []\n",
    "    thinking_contents = [] if parse_thinking else None\n",
    "\n",
    "    # 按批次处理\n",
    "    for i in tqdm(range(0, len(prompts), batch_size)):\n",
    "        batch_prompts = prompts[i:i+batch_size]\n",
    "        batch_texts = []\n",
    "\n",
    "        # 为每个提示词准备输入文本\n",
    "        for prompt in batch_prompts:\n",
    "            if system_prompt:\n",
    "                messages = [\n",
    "                    {\"role\": \"system\", \"content\": system_prompt},\n",
    "                    {\"role\": \"user\", \"content\": prompt}\n",
    "                ]\n",
    "            else:\n",
    "                messages = [\n",
    "                    {\"role\": \"user\", \"content\": prompt}\n",
    "                ]\n",
    "\n",
    "            text = tokenizer.apply_chat_template(\n",
    "                messages,\n",
    "                tokenize=False,\n",
    "                add_generation_prompt=True,\n",
    "                enable_thinking=enable_thinking  # 启用思考模式\n",
    "            )\n",
    "            batch_texts.append(text)\n",
    "\n",
    "        # 批量编码输入\n",
    "        model_inputs = tokenizer(batch_texts, return_tensors=\"pt\", padding=True, truncation=True).to(model.device)\n",
    "\n",
    "        # 生成回复\n",
    "        with torch.no_grad():\n",
    "            generated_ids = model.generate(\n",
    "                **model_inputs,\n",
    "                max_new_tokens=max_new_tokens,\n",
    "                do_sample=True,\n",
    "                temperature=temperature,\n",
    "                top_p=0.9,\n",
    "                repetition_penalty=1.2\n",
    "            )\n",
    "\n",
    "        # 处理生成的回复\n",
    "        batch_responses = []\n",
    "        batch_thinking = [] if parse_thinking else None\n",
    "\n",
    "        for input_ids, output_ids in zip(model_inputs.input_ids, generated_ids):\n",
    "            response_ids = output_ids[len(input_ids):].tolist()\n",
    "\n",
    "            if parse_thinking and enable_thinking:\n",
    "                # 解析思考内容\n",
    "                try:\n",
    "                    # 寻找</think>对应的token ID (151668)\n",
    "                    index = len(response_ids) - response_ids[::-1].index(151668)\n",
    "                except ValueError:\n",
    "                    index = 0\n",
    "\n",
    "                thinking_content = tokenizer.decode(response_ids[:index], skip_special_tokens=True).strip(\"\\n\")\n",
    "                content = tokenizer.decode(response_ids[index:], skip_special_tokens=True).strip(\"\\n\")\n",
    "\n",
    "                batch_thinking.append(thinking_content)\n",
    "                batch_responses.append(content)\n",
    "            else:\n",
    "                # 不解析思考内容，直接返回完整回复\n",
    "                response = tokenizer.decode(response_ids, skip_special_tokens=True)\n",
    "                batch_responses.append(response)\n",
    "\n",
    "        responses.extend(batch_responses)\n",
    "        if parse_thinking:\n",
    "            thinking_contents.extend(batch_thinking)\n",
    "\n",
    "    if parse_thinking:\n",
    "        return thinking_contents, responses\n",
    "    else:\n",
    "        return responses\n",
    "\n",
    "def get_judgments_from_responses(responses: List[str]) -> List[Optional[str]]:\n",
    "    \"\"\"\n",
    "    推荐的解析函数，结合了多种方法的优点\n",
    "    \"\"\"\n",
    "    judgments = []\n",
    "\n",
    "    for i, response in enumerate(responses):\n",
    "        judgment = None\n",
    "\n",
    "        try:\n",
    "            # 方法1: 尝试直接解析JSON\n",
    "            clean_response = response.strip()\n",
    "            if clean_response.startswith('{') and clean_response.endswith('}'):\n",
    "                data = json.loads(clean_response)\n",
    "                judgment = data.get('judgment')\n",
    "            else:\n",
    "                # 方法2: 寻找JSON部分\n",
    "                start_idx = clean_response.find('{')\n",
    "                end_idx = clean_response.rfind('}')\n",
    "                if start_idx != -1 and end_idx != -1:\n",
    "                    json_part = clean_response[start_idx:end_idx+1]\n",
    "                    data = json.loads(json_part)\n",
    "                    judgment = data.get('judgment')\n",
    "\n",
    "        except json.JSONDecodeError:\n",
    "            # 方法3: 使用正则表达式作为后备\n",
    "            pattern = r'\"judgment\"\\s*:\\s*\"([^\"]*)\"'\n",
    "            match = re.search(pattern, response)\n",
    "            if match:\n",
    "                judgment = match.group(1)\n",
    "\n",
    "        if judgment is None:\n",
    "            print(f\"Warning: response {i} cannot retrieve judgment\")\n",
    "            print(f\"Respond content: {response[:200]}...\")\n",
    "            judgment = \"error\"\n",
    "\n",
    "        judgments.append(judgment)\n",
    "\n",
    "    return judgments\n",
    "\n",
    "\n",
    "\n",
    "def run_experiment(input_prompts, test_df):\n",
    "  output = batch_generate_responses_qwen3(input_prompts)\n",
    "  df = test_df.copy()\n",
    "  df['thinking'] = output[0]\n",
    "  df['model_response'] = output[1]\n",
    "  to_process = output[1]\n",
    "  processed_judgments = get_judgments_from_responses(to_process)\n",
    "  df['model_pred'] = processed_judgments\n",
    "\n",
    "  return df\n",
    "\n",
    "def prepare_test_prompts(test_df, task_text, learning_df=None, instruction_text=None, theory=False):\n",
    "  print(\"Start preparing prompts...\")\n",
    "  if learning_df is not None and instruction_text is not None:\n",
    "    print(f\"# learning samples: {len(learning_df)}\")\n",
    "    examples = []\n",
    "    if theory:\n",
    "      for _, row in learning_df.iterrows():\n",
    "        example = {\n",
    "                \"query\": row['request'],\n",
    "                \"reasoning\": row['reasoning'],\n",
    "                \"category\": row['category'],\n",
    "                \"judgment\": row['gold_judgment']\n",
    "              }\n",
    "        examples.append(json.dumps(example, ensure_ascii=False))\n",
    "\n",
    "      examples_text = '\\n\\n'.join(examples)\n",
    "      base_prompt = instruction_text + examples_text + task_text\n",
    "    else:\n",
    "      for _, row in learning_df.iterrows():\n",
    "        example = {\n",
    "                \"query\": row['request'],\n",
    "                \"judgment\": row['gold_judgment']\n",
    "              }\n",
    "        examples.append(json.dumps(example, ensure_ascii=False))\n",
    "\n",
    "      examples_text = '\\n\\n'.join(examples)\n",
    "      base_prompt = instruction_text + examples_text + task_text\n",
    "\n",
    "  else:\n",
    "    base_prompt = task_text\n",
    "\n",
    "  print(f\"# Testing data points: {len(test_df)}\")\n",
    "  test_prompts = []\n",
    "  for _, row in test_df.iterrows():\n",
    "    query = row['question']\n",
    "    complete_prompt = base_prompt.replace(\"TARGET\", query)\n",
    "    test_prompts.append(complete_prompt)\n",
    "\n",
    "  print(f\"Generation complete: {len(test_prompts)} prompts\")\n",
    "\n",
    "  avg_length = sum(len(p) for p in test_prompts) // len(test_prompts)\n",
    "  print(f\"Average prompt length: {avg_length:,} bytes (~{avg_length//4:,} tokens)\")\n",
    "\n",
    "  return test_prompts\n",
    "\n",
    "\n",
    "def add_columns_to_dataset(dataset, columns_dict, inplace=False):\n",
    "    \"\"\"\n",
    "    Adding multiple columns to a HuggingFace Dataset\n",
    "\n",
    "    params：\n",
    "        dataset (Dataset): The original dataset\n",
    "        columns_dict (dict): The new columns organized in a dict, keys are column names, value lists should be of the same length with Dataset\n",
    "        inplace (bool): whether to change the orignial Dataset or create a new copy\n",
    "\n",
    "    return：\n",
    "        Dataset: The new dataset with new columns added\n",
    "    \"\"\"\n",
    "    if not inplace:\n",
    "        dataset = deepcopy(dataset)\n",
    "\n",
    "    for column_name, values in columns_dict.items():\n",
    "        if len(values) != len(dataset):\n",
    "            raise ValueError(f\"Length mismatch：'{column_name}' The column length is {len(values)}, but the dataset has {len(dataset)} samples.\")\n",
    "        dataset = dataset.add_column(column_name, values)\n",
    "\n",
    "    return dataset\n",
    "\n",
    "def merge_df_into_dataset_by_order(dataset, df: pd.DataFrame, \n",
    "                                   columns=None, prefix: str=\"\", inplace=False):\n",
    "    \"\"\"\n",
    "    将 DataFrame 的指定列，按行顺序写回 HuggingFace Dataset。\n",
    "    要求：df 与 dataset 行顺序一致、长度相同。\n",
    "    \"\"\"\n",
    "    if columns is None:\n",
    "        # 默认把 df 的所有列都写回（可用 prefix 避免重名）\n",
    "        columns = list(df.columns)\n",
    "\n",
    "    if len(df) != len(dataset):\n",
    "        raise ValueError(f\"Length mismatch: df={len(df)} vs dataset={len(dataset)}.\")\n",
    "\n",
    "    # 将 NaN -> None，并转成 Python 原生类型列表\n",
    "    columns_dict = {}\n",
    "    for col in columns:\n",
    "        series = df[col]\n",
    "        # 统一把 NaN 转成 None\n",
    "        values = series.where(series.notna(), None).tolist()\n",
    "        columns_dict[f\"{prefix}{col}\"] = values\n",
    "\n",
    "    # 你已有的工具函数\n",
    "    updated_dataset = add_columns_to_dataset(dataset, columns_dict, inplace=inplace)\n",
    "    return updated_dataset"
   ]
  },
  {
   "cell_type": "markdown",
   "metadata": {
    "id": "2FYysff90qQv"
   },
   "source": [
    "#### Direct classification with Qwen3-4B"
   ]
  },
  {
   "cell_type": "code",
   "execution_count": 8,
   "metadata": {},
   "outputs": [
    {
     "name": "stdout",
     "output_type": "stream",
     "text": [
      "Start preparing prompts...\n",
      "# Testing data points: 1000\n",
      "Generation complete: 1000 prompts\n",
      "Average prompt length: 316 bytes (~79 tokens)\n",
      "\n",
      "Analyze the following input user query:\n",
      "\n",
      "{\"query\": \"where does the modern view of history originate from\"}\n",
      "\n",
      "Please provide your analysis in the following JSON format:\n",
      "\n",
      "{\"query\": \"where does the modern view of history originate from\", \"reasoning\": \"[YOUR_DETAILED_REASONING]\", \"judgment\": \"[fully specified/underspecified]\"}\n",
      "\n"
     ]
    }
   ],
   "source": [
    "df_GoogleNQ_sample = pd.read_json(\"GoogleNQ_sample.jsonl\", lines=True)\n",
    "test_prompts = prepare_test_prompts(df_GoogleNQ_sample, task_FS_UND)\n",
    "print(test_prompts[0])"
   ]
  },
  {
   "cell_type": "code",
   "execution_count": 9,
   "metadata": {},
   "outputs": [
    {
     "name": "stderr",
     "output_type": "stream",
     "text": [
      "100%|██████████| 200/200 [1:39:45<00:00, 29.93s/it]\n"
     ]
    },
    {
     "data": {
      "text/html": [
       "<div>\n",
       "<style scoped>\n",
       "    .dataframe tbody tr th:only-of-type {\n",
       "        vertical-align: middle;\n",
       "    }\n",
       "\n",
       "    .dataframe tbody tr th {\n",
       "        vertical-align: top;\n",
       "    }\n",
       "\n",
       "    .dataframe thead th {\n",
       "        text-align: right;\n",
       "    }\n",
       "</style>\n",
       "<table border=\"1\" class=\"dataframe\">\n",
       "  <thead>\n",
       "    <tr style=\"text-align: right;\">\n",
       "      <th></th>\n",
       "      <th>question</th>\n",
       "      <th>short_answers</th>\n",
       "      <th>long_answer</th>\n",
       "      <th>thinking</th>\n",
       "      <th>model_response</th>\n",
       "      <th>model_pred</th>\n",
       "    </tr>\n",
       "  </thead>\n",
       "  <tbody>\n",
       "    <tr>\n",
       "      <th>0</th>\n",
       "      <td>where does the modern view of history originat...</td>\n",
       "      <td>[approximately in the early 16th century]</td>\n",
       "      <td>The early modern period began approximately ...</td>\n",
       "      <td>&lt;think&gt;\\nOkay, let's see. The user is asking w...</td>\n",
       "      <td>{\\n  \"query\": \"where does the modern view of h...</td>\n",
       "      <td>underspecified</td>\n",
       "    </tr>\n",
       "    <tr>\n",
       "      <th>1</th>\n",
       "      <td>when was the first book made into a movie</td>\n",
       "      <td>[1924]</td>\n",
       "      <td>In 1924 , Erich von Stroheim attempted a lite...</td>\n",
       "      <td>&lt;think&gt;\\nOkay, let's see. The user is asking, ...</td>\n",
       "      <td>{\\n  \"query\": \"when was the first book made in...</td>\n",
       "      <td>fully specified</td>\n",
       "    </tr>\n",
       "    <tr>\n",
       "      <th>2</th>\n",
       "      <td>when did the study of media effects begin</td>\n",
       "      <td>[1919]</td>\n",
       "      <td>The social impact of mass communication has b...</td>\n",
       "      <td>&lt;think&gt;\\nOkay, let's see. The user is asking w...</td>\n",
       "      <td>{\\n  \"query\": \"when did the study of media eff...</td>\n",
       "      <td>fully specified</td>\n",
       "    </tr>\n",
       "    <tr>\n",
       "      <th>3</th>\n",
       "      <td>where are the giant redwoods located in califo...</td>\n",
       "      <td>[Humboldt County, Del Norte County]</td>\n",
       "      <td>Redwood National and State Parks     IUCN c...</td>\n",
       "      <td>&lt;think&gt;\\nOkay, let's tackle this query. The us...</td>\n",
       "      <td>{\\n  \"query\": \"where are the giant redwoods lo...</td>\n",
       "      <td>fully specified</td>\n",
       "    </tr>\n",
       "    <tr>\n",
       "      <th>4</th>\n",
       "      <td>when did the first wireless beats come out</td>\n",
       "      <td>[October 2012]</td>\n",
       "      <td>In October 2012 , Beats unveiled its first tw...</td>\n",
       "      <td>&lt;think&gt;\\nOkay, let's see. The user is asking w...</td>\n",
       "      <td>{\\n  \"query\": \"when did the first wireless bea...</td>\n",
       "      <td>underspecified</td>\n",
       "    </tr>\n",
       "    <tr>\n",
       "      <th>...</th>\n",
       "      <td>...</td>\n",
       "      <td>...</td>\n",
       "      <td>...</td>\n",
       "      <td>...</td>\n",
       "      <td>...</td>\n",
       "      <td>...</td>\n",
       "    </tr>\n",
       "    <tr>\n",
       "      <th>995</th>\n",
       "      <td>who is the drummer for guns and roses</td>\n",
       "      <td>[Frank Ferrer]</td>\n",
       "      <td>Image   Name   Years active   Instruments  ...</td>\n",
       "      <td>&lt;think&gt;\\nOkay, let's see. The user is asking, ...</td>\n",
       "      <td>{\\n  \"query\": \"who is the drummer for guns and...</td>\n",
       "      <td>underspecified</td>\n",
       "    </tr>\n",
       "    <tr>\n",
       "      <th>996</th>\n",
       "      <td>where was the movie 500 days of summer filmed</td>\n",
       "      <td>[Los Angeles]</td>\n",
       "      <td>David Ng of the Los Angeles Times describes a...</td>\n",
       "      <td>&lt;think&gt;\\nOkay, let's see. The user is asking w...</td>\n",
       "      <td>{\\n    \"query\": \"where was the movie 500 days ...</td>\n",
       "      <td>fully specified</td>\n",
       "    </tr>\n",
       "    <tr>\n",
       "      <th>997</th>\n",
       "      <td>what was the lowest barometric pressure for hu...</td>\n",
       "      <td>[914 mbar (hPa; 27.0 inHg)]</td>\n",
       "      <td>In between Rita and Katrina is Hurricane Alle...</td>\n",
       "      <td>&lt;think&gt;\\nOkay, let's see. The user is asking a...</td>\n",
       "      <td>{\\n  \"query\": \"what was the lowest barometric ...</td>\n",
       "      <td>fully specified</td>\n",
       "    </tr>\n",
       "    <tr>\n",
       "      <th>998</th>\n",
       "      <td>what is the meaning of auv in cars</td>\n",
       "      <td>[action utility vehicles]</td>\n",
       "      <td>In Australia and New Zealand , the term SUV i...</td>\n",
       "      <td>&lt;think&gt;\\nOkay, let's see. The user is asking f...</td>\n",
       "      <td>{\\n  \"query\": \"what is the meaning of auv in c...</td>\n",
       "      <td>underspecified</td>\n",
       "    </tr>\n",
       "    <tr>\n",
       "      <th>999</th>\n",
       "      <td>in which country bikram sambhat the official c...</td>\n",
       "      <td>[Nepal]</td>\n",
       "      <td>The Rana rulers of Nepal made Vikram Samvat t...</td>\n",
       "      <td>&lt;think&gt;\\nOkay, let's tackle this query. The us...</td>\n",
       "      <td>{\\n  \"query\": \"in which country bikram sambhat...</td>\n",
       "      <td>underspecified</td>\n",
       "    </tr>\n",
       "  </tbody>\n",
       "</table>\n",
       "<p>1000 rows × 6 columns</p>\n",
       "</div>"
      ],
      "text/plain": [
       "                                              question  \\\n",
       "0    where does the modern view of history originat...   \n",
       "1            when was the first book made into a movie   \n",
       "2            when did the study of media effects begin   \n",
       "3    where are the giant redwoods located in califo...   \n",
       "4           when did the first wireless beats come out   \n",
       "..                                                 ...   \n",
       "995              who is the drummer for guns and roses   \n",
       "996      where was the movie 500 days of summer filmed   \n",
       "997  what was the lowest barometric pressure for hu...   \n",
       "998                 what is the meaning of auv in cars   \n",
       "999  in which country bikram sambhat the official c...   \n",
       "\n",
       "                                 short_answers  \\\n",
       "0    [approximately in the early 16th century]   \n",
       "1                                       [1924]   \n",
       "2                                       [1919]   \n",
       "3          [Humboldt County, Del Norte County]   \n",
       "4                               [October 2012]   \n",
       "..                                         ...   \n",
       "995                             [Frank Ferrer]   \n",
       "996                              [Los Angeles]   \n",
       "997                [914 mbar (hPa; 27.0 inHg)]   \n",
       "998                  [action utility vehicles]   \n",
       "999                                    [Nepal]   \n",
       "\n",
       "                                           long_answer  \\\n",
       "0      The early modern period began approximately ...   \n",
       "1     In 1924 , Erich von Stroheim attempted a lite...   \n",
       "2     The social impact of mass communication has b...   \n",
       "3       Redwood National and State Parks     IUCN c...   \n",
       "4     In October 2012 , Beats unveiled its first tw...   \n",
       "..                                                 ...   \n",
       "995     Image   Name   Years active   Instruments  ...   \n",
       "996   David Ng of the Los Angeles Times describes a...   \n",
       "997   In between Rita and Katrina is Hurricane Alle...   \n",
       "998   In Australia and New Zealand , the term SUV i...   \n",
       "999   The Rana rulers of Nepal made Vikram Samvat t...   \n",
       "\n",
       "                                              thinking  \\\n",
       "0    <think>\\nOkay, let's see. The user is asking w...   \n",
       "1    <think>\\nOkay, let's see. The user is asking, ...   \n",
       "2    <think>\\nOkay, let's see. The user is asking w...   \n",
       "3    <think>\\nOkay, let's tackle this query. The us...   \n",
       "4    <think>\\nOkay, let's see. The user is asking w...   \n",
       "..                                                 ...   \n",
       "995  <think>\\nOkay, let's see. The user is asking, ...   \n",
       "996  <think>\\nOkay, let's see. The user is asking w...   \n",
       "997  <think>\\nOkay, let's see. The user is asking a...   \n",
       "998  <think>\\nOkay, let's see. The user is asking f...   \n",
       "999  <think>\\nOkay, let's tackle this query. The us...   \n",
       "\n",
       "                                        model_response       model_pred  \n",
       "0    {\\n  \"query\": \"where does the modern view of h...   underspecified  \n",
       "1    {\\n  \"query\": \"when was the first book made in...  fully specified  \n",
       "2    {\\n  \"query\": \"when did the study of media eff...  fully specified  \n",
       "3    {\\n  \"query\": \"where are the giant redwoods lo...  fully specified  \n",
       "4    {\\n  \"query\": \"when did the first wireless bea...   underspecified  \n",
       "..                                                 ...              ...  \n",
       "995  {\\n  \"query\": \"who is the drummer for guns and...   underspecified  \n",
       "996  {\\n    \"query\": \"where was the movie 500 days ...  fully specified  \n",
       "997  {\\n  \"query\": \"what was the lowest barometric ...  fully specified  \n",
       "998  {\\n  \"query\": \"what is the meaning of auv in c...   underspecified  \n",
       "999  {\\n  \"query\": \"in which country bikram sambhat...   underspecified  \n",
       "\n",
       "[1000 rows x 6 columns]"
      ]
     },
     "execution_count": 9,
     "metadata": {},
     "output_type": "execute_result"
    }
   ],
   "source": [
    "test_df = run_experiment(test_prompts, df_GoogleNQ_sample)\n",
    "test_df.to_csv('BASELINE_GoogleNQ_classification_all.csv')\n",
    "test_df"
   ]
  },
  {
   "cell_type": "code",
   "execution_count": 10,
   "metadata": {},
   "outputs": [],
   "source": [
    "annotated_dataset = merge_df_into_dataset_by_order(\n",
    "    GoogleNQ_sample, \n",
    "    test_df, \n",
    "    columns=[\"thinking\", \"model_response\", \"model_pred\"],\n",
    "    prefix=\"qwen3_\",\n",
    "    inplace=False\n",
    ")"
   ]
  },
  {
   "cell_type": "code",
   "execution_count": 11,
   "metadata": {},
   "outputs": [
    {
     "data": {
      "application/vnd.jupyter.widget-view+json": {
       "model_id": "450fc6860db0475ca0d9e3b977406d95",
       "version_major": 2,
       "version_minor": 0
      },
      "text/plain": [
       "Filter:   0%|          | 0/1000 [00:00<?, ? examples/s]"
      ]
     },
     "metadata": {},
     "output_type": "display_data"
    },
    {
     "data": {
      "application/vnd.jupyter.widget-view+json": {
       "model_id": "4d40a79ef3cb42df8d882e36324a6855",
       "version_major": 2,
       "version_minor": 0
      },
      "text/plain": [
       "Filter:   0%|          | 0/1000 [00:00<?, ? examples/s]"
      ]
     },
     "metadata": {},
     "output_type": "display_data"
    },
    {
     "name": "stdout",
     "output_type": "stream",
     "text": [
      "Underspecified samples: 458\n",
      "Fully specified samples: 542\n"
     ]
    },
    {
     "data": {
      "application/vnd.jupyter.widget-view+json": {
       "model_id": "21e78f67acde46cca1003f3a5061e449",
       "version_major": 2,
       "version_minor": 0
      },
      "text/plain": [
       "Creating json from Arrow format:   0%|          | 0/1 [00:00<?, ?ba/s]"
      ]
     },
     "metadata": {},
     "output_type": "display_data"
    },
    {
     "data": {
      "application/vnd.jupyter.widget-view+json": {
       "model_id": "2a1c7fa424184568a45fb4895e53da9b",
       "version_major": 2,
       "version_minor": 0
      },
      "text/plain": [
       "Creating json from Arrow format:   0%|          | 0/1 [00:00<?, ?ba/s]"
      ]
     },
     "metadata": {},
     "output_type": "display_data"
    },
    {
     "data": {
      "application/vnd.jupyter.widget-view+json": {
       "model_id": "7dc8e7feba5e4e09af6885ca842eadc7",
       "version_major": 2,
       "version_minor": 0
      },
      "text/plain": [
       "Creating json from Arrow format:   0%|          | 0/1 [00:00<?, ?ba/s]"
      ]
     },
     "metadata": {},
     "output_type": "display_data"
    },
    {
     "data": {
      "text/plain": [
       "2325542"
      ]
     },
     "execution_count": 11,
     "metadata": {},
     "output_type": "execute_result"
    }
   ],
   "source": [
    "# Create the UND subset\n",
    "underspecified_set = annotated_dataset.filter(\n",
    "    lambda x: x[\"qwen3_model_pred\"].strip().lower() == \"underspecified\"\n",
    ")\n",
    "\n",
    "# Create the FS subset\n",
    "fully_specified_set = annotated_dataset.filter(\n",
    "    lambda x: x[\"qwen3_model_pred\"].strip().lower() == \"fully specified\"\n",
    ")\n",
    "\n",
    "# The size of subsets\n",
    "print(f\"Underspecified samples: {len(underspecified_set)}\")\n",
    "print(f\"Fully specified samples: {len(fully_specified_set)}\")\n",
    "\n",
    "annotated_dataset.to_json(\"BASELINE_classified_GoogleNQ_sample_all.jsonl\", orient=\"records\", lines=True)\n",
    "underspecified_set.to_json(\"BASELINE_classified_GoogleNQ_sample_UND.jsonl\", orient=\"records\", lines=True)\n",
    "fully_specified_set.to_json(\"BASELINE_classified_GoogleNQ_sample_FS.jsonl\", orient=\"records\", lines=True)"
   ]
  },
  {
   "cell_type": "markdown",
   "metadata": {
    "id": "a-6zrH63JmlO"
   },
   "source": [
    "## QA implementations"
   ]
  },
  {
   "cell_type": "markdown",
   "metadata": {
    "id": "VvhqJq3bzWIq"
   },
   "source": [
    "#### Loading back the classified subsets"
   ]
  },
  {
   "cell_type": "code",
   "execution_count": 6,
   "metadata": {
    "colab": {
     "referenced_widgets": [
      "686952f93390478aa9b328511ba17343",
      "12d7eadc28174fbaa717f08db2220977",
      "4eb8c3a221ce4d4a849993ba7a8a72c1",
      "324c7a295f264873943a603078e676c1"
     ]
    },
    "id": "IAXih37nzc3U",
    "outputId": "b5b8e914-e853-4fe2-a608-40c93a3e5ae7"
   },
   "outputs": [],
   "source": [
    "underspecified_set = load_dataset(\n",
    "    \"json\",\n",
    "data_files=\"BASELINE_classified_GoogleNQ_sample_UND.jsonl\",\n",
    "    split=\"train\"  # 必须指定 split，否则默认返回 DatasetDict\n",
    ")\n",
    "\n",
    "fully_specified_set = load_dataset(\n",
    "    \"json\",\n",
    "data_files=\"BASELINE_classified_GoogleNQ_sample_FS.jsonl\",\n",
    "    split=\"train\"\n",
    ")"
   ]
  },
  {
   "cell_type": "markdown",
   "metadata": {
    "id": "nzBRCK33mZV6"
   },
   "source": [
    "#### Loading an LLM for short and long QA programs"
   ]
  },
  {
   "cell_type": "code",
   "execution_count": null,
   "metadata": {
    "id": "966_Yz5-gKJE"
   },
   "outputs": [],
   "source": [
    "from openai import OpenAI\n",
    "\n",
    "client = OpenAI()"
   ]
  },
  {
   "cell_type": "code",
   "execution_count": 4,
   "metadata": {
    "id": "oD2jN3NbI0tW"
   },
   "outputs": [],
   "source": [
    "def ask_short_answer(question, client, model=\"gpt-4o-2024-11-20\", temperature=0, max_retries=5, sleep_time=2.0):\n",
    "    system_prompt = (\n",
    "        \"Answer the question with a concise response. \"\n",
    "        \"Return answers as a list of strings. If there's only one answer, return a single-item list. \"\n",
    "        \"Each answer should be brief and direct.\"\n",
    "    )\n",
    "    retries = 0\n",
    "    while retries < max_retries:\n",
    "        try:\n",
    "            response = client.chat.completions.create(\n",
    "                model=model,\n",
    "                messages=[\n",
    "                    {\"role\": \"system\", \"content\": system_prompt},\n",
    "                    {\"role\": \"user\", \"content\": question}\n",
    "                ],\n",
    "                temperature=temperature\n",
    "            )\n",
    "            content = response.choices[0].message.content\n",
    "            if content.startswith(\"[\"):\n",
    "                return eval(content)\n",
    "            else:\n",
    "                return [content.strip()]\n",
    "        except Exception as e:\n",
    "            retries += 1\n",
    "            time.sleep(sleep_time * retries)\n",
    "            \n",
    "    return [\"[Error]: Max retries exceeded\"]\n",
    "\n",
    "def ask_long_answer(question, client, model=\"gpt-4o-2024-11-20\", temperature=0.7, max_retries=5, sleep_time=2.0):\n",
    "    system_prompt = (\n",
    "        \"Answer the question thoroughly and helpfully. Provide context, explanations, and relevant details \"\n",
    "        \"from Wikipedia that would help the user understand the topic better.\"\n",
    "    )\n",
    "    retries = 0\n",
    "    while retries < max_retries:\n",
    "        try:\n",
    "            response = client.chat.completions.create(\n",
    "                model=model,\n",
    "                messages=[\n",
    "                    {\"role\": \"system\", \"content\": system_prompt},\n",
    "                    {\"role\": \"user\", \"content\": question}\n",
    "                ],\n",
    "                temperature=temperature\n",
    "            )\n",
    "            return response.choices[0].message.content.strip()\n",
    "        except Exception as e:\n",
    "            retries += 1\n",
    "            time.sleep(sleep_time * retries)\n",
    "    return \"[Error]: Max retries exceeded\""
   ]
  },
  {
   "cell_type": "markdown",
   "metadata": {
    "id": "YyrxAOr3yzZL"
   },
   "source": [
    "### Helper functions to run QA in batches"
   ]
  },
  {
   "cell_type": "code",
   "execution_count": 5,
   "metadata": {
    "id": "Du5Y1JWvt0dm"
   },
   "outputs": [],
   "source": [
    "def run_batch_shortQA_api(batch, client, **kwargs):\n",
    "    short_answers = []\n",
    "    for q in batch[\"question\"]:\n",
    "        try:\n",
    "            answer = ask_short_answer(q, client=client, **kwargs)\n",
    "            short_answers.append(answer)\n",
    "        except Exception as e:\n",
    "            print(f\"Error: {e}\")\n",
    "            short_answers.append([\"error\"])\n",
    "    return {\"model_short_answer\": short_answers}\n",
    "\n",
    "def run_batch_longQA_api(batch, client, **kwargs):\n",
    "    long_answers = []\n",
    "    for q in batch[\"question\"]:\n",
    "        try:\n",
    "            answer = ask_long_answer(q, client=client, **kwargs)\n",
    "            long_answers.append(answer)\n",
    "        except Exception as e:\n",
    "            print(f\"Error: {e}\")\n",
    "            long_answers.append(\"error\")\n",
    "    return {\"model_long_answer\": long_answers}\n",
    "\n",
    "def batch_QA_with_progress(dataset, batch_fn, output_key, batch_size=10, fill_value=\"error\", **batch_fn_kwargs):\n",
    "    all_outputs = []\n",
    "    for i in tqdm(range(0, len(dataset), batch_size), desc=f\"Running {output_key}\"):\n",
    "        batch = dataset.select(range(i, min(i + batch_size, len(dataset))))\n",
    "        try:\n",
    "            output = batch_fn(batch, **batch_fn_kwargs)\n",
    "            if output_key not in output:\n",
    "                raise ValueError(f\"Missing key '{output_key}' in batch result\")\n",
    "            all_outputs.extend(output[output_key])\n",
    "        except Exception as e:\n",
    "            print(f\"Batch error at {i}: {e}\")\n",
    "            all_outputs.extend([fill_value] * len(batch))\n",
    "\n",
    "    if len(all_outputs) != len(dataset):\n",
    "        print(f\"[Warning] Output length mismatch, auto-filling\")\n",
    "        all_outputs.extend([fill_value] * (len(dataset) - len(all_outputs)))\n",
    "\n",
    "    return {output_key: all_outputs}"
   ]
  },
  {
   "cell_type": "markdown",
   "metadata": {
    "id": "csr5TJOiz0-X"
   },
   "source": [
    "#### Implementation"
   ]
  },
  {
   "cell_type": "code",
   "execution_count": 7,
   "metadata": {
    "id": "u3zLhf-5z0ms",
    "outputId": "ae4d5b2b-752c-4b6e-c914-52b7444f8bf3"
   },
   "outputs": [
    {
     "name": "stderr",
     "output_type": "stream",
     "text": [
      "Running model_short_answer: 100%|██████████| 46/46 [06:29<00:00,  8.48s/it]\n"
     ]
    }
   ],
   "source": [
    "short_results_UND = batch_QA_with_progress(\n",
    "    underspecified_set,\n",
    "    batch_fn=run_batch_shortQA_api,\n",
    "    output_key=\"model_short_answer\",\n",
    "    fill_value=[\"error\"],\n",
    "    client=client,\n",
    "    model=\"gpt-4o-2024-11-20\",\n",
    "    temperature=0.0\n",
    ")"
   ]
  },
  {
   "cell_type": "code",
   "execution_count": 8,
   "metadata": {
    "id": "XZGvI1NX00Fv",
    "outputId": "af5da18d-6a3b-4938-e0ea-4f742de36ed0"
   },
   "outputs": [
    {
     "name": "stderr",
     "output_type": "stream",
     "text": [
      "Running model_long_answer: 100%|██████████| 46/46 [1:10:20<00:00, 91.74s/it] \n"
     ]
    }
   ],
   "source": [
    "long_results_UND = batch_QA_with_progress(\n",
    "    underspecified_set,\n",
    "    batch_fn=run_batch_longQA_api,\n",
    "    output_key=\"model_long_answer\",\n",
    "    fill_value=\"error\",\n",
    "    client=client,\n",
    "    model=\"gpt-4o-2024-11-20\",\n",
    "    temperature=0.7\n",
    ")"
   ]
  },
  {
   "cell_type": "code",
   "execution_count": 9,
   "metadata": {
    "id": "3atnLakp06xP",
    "outputId": "d48afe65-c726-4f9e-9da7-239bd3e7fc9f"
   },
   "outputs": [
    {
     "name": "stderr",
     "output_type": "stream",
     "text": [
      "Running model_short_answer: 100%|██████████| 55/55 [06:51<00:00,  7.49s/it]\n"
     ]
    }
   ],
   "source": [
    "# batch QA for FS\n",
    "short_results_FS = batch_QA_with_progress(\n",
    "    fully_specified_set,\n",
    "    batch_fn=run_batch_shortQA_api,\n",
    "    output_key=\"model_short_answer\",\n",
    "    fill_value=[\"error\"],\n",
    "    client=client,\n",
    "    model=\"gpt-4o-2024-11-20\",\n",
    "    temperature=0.0\n",
    ")"
   ]
  },
  {
   "cell_type": "code",
   "execution_count": 10,
   "metadata": {
    "id": "2lh94i-H1CsV",
    "outputId": "1a247226-672f-4b11-e3a3-a2c42b11c641"
   },
   "outputs": [
    {
     "name": "stderr",
     "output_type": "stream",
     "text": [
      "Running model_long_answer: 100%|██████████| 55/55 [1:05:23<00:00, 71.34s/it]\n"
     ]
    }
   ],
   "source": [
    "long_results_FS = batch_QA_with_progress(\n",
    "    fully_specified_set,\n",
    "    batch_fn=run_batch_longQA_api,\n",
    "    output_key=\"model_long_answer\",\n",
    "    fill_value=\"error\",\n",
    "    client=client,\n",
    "    model=\"gpt-4o-2024-11-20\",\n",
    "    temperature=0.7\n",
    ")"
   ]
  },
  {
   "cell_type": "code",
   "execution_count": 11,
   "metadata": {
    "colab": {
     "referenced_widgets": [
      "88340a40c38647a891da8ec9b7d44938",
      "a0c33a07d074466087c4d6db184e3b39"
     ]
    },
    "id": "Zhoe4xi00RrK",
    "outputId": "9816ff0e-fd44-46d9-b271-f84370a54aef"
   },
   "outputs": [
    {
     "data": {
      "application/vnd.jupyter.widget-view+json": {
       "model_id": "e3ea0b49d59248deb88c14b4f7a635cd",
       "version_major": 2,
       "version_minor": 0
      },
      "text/plain": [
       "Creating json from Arrow format:   0%|          | 0/1 [00:00<?, ?ba/s]"
      ]
     },
     "metadata": {},
     "output_type": "display_data"
    },
    {
     "data": {
      "text/plain": [
       "3151804"
      ]
     },
     "execution_count": 11,
     "metadata": {},
     "output_type": "execute_result"
    }
   ],
   "source": [
    "qa_underspecified = deepcopy(underspecified_set)\n",
    "\n",
    "for key in short_results_UND:\n",
    "    qa_underspecified = qa_underspecified.add_column(key, short_results_UND[key])\n",
    "for key in long_results_UND:\n",
    "    qa_underspecified = qa_underspecified.add_column(key, long_results_UND[key])\n",
    "\n",
    "qa_underspecified.to_json(\"BASELINE_GoogleNQ_UND_qa_gpt.jsonl\", orient=\"records\", lines=True)"
   ]
  },
  {
   "cell_type": "code",
   "execution_count": 12,
   "metadata": {
    "colab": {
     "referenced_widgets": [
      "d4d27211749c4e2faf0ed780cda5fb2f",
      "8313802cdac340689ab64607fa694740"
     ]
    },
    "id": "T8Qikwx61Wn1",
    "outputId": "3bb40102-8ca2-42c2-abc6-1ffb7f4b4353"
   },
   "outputs": [
    {
     "data": {
      "application/vnd.jupyter.widget-view+json": {
       "model_id": "95707a073c5a405da9d972bd4b454fa2",
       "version_major": 2,
       "version_minor": 0
      },
      "text/plain": [
       "Creating json from Arrow format:   0%|          | 0/1 [00:00<?, ?ba/s]"
      ]
     },
     "metadata": {},
     "output_type": "display_data"
    },
    {
     "data": {
      "text/plain": [
       "2362837"
      ]
     },
     "execution_count": 12,
     "metadata": {},
     "output_type": "execute_result"
    }
   ],
   "source": [
    "qa_fully_specified = deepcopy(fully_specified_set)\n",
    "\n",
    "for key in short_results_FS:\n",
    "    qa_fully_specified = qa_fully_specified.add_column(key, short_results_FS[key])\n",
    "\n",
    "qa_fully_specified.to_json(\"BASELINE_GoogleNQ_FS_qa_gpt.jsonl\", orient=\"records\", lines=True)"
   ]
  },
  {
   "cell_type": "code",
   "execution_count": 13,
   "metadata": {},
   "outputs": [
    {
     "data": {
      "application/vnd.jupyter.widget-view+json": {
       "model_id": "6039160e0e314bf3bc50393e1d50ee3a",
       "version_major": 2,
       "version_minor": 0
      },
      "text/plain": [
       "Generating train split: 0 examples [00:00, ? examples/s]"
      ]
     },
     "metadata": {},
     "output_type": "display_data"
    },
    {
     "data": {
      "application/vnd.jupyter.widget-view+json": {
       "model_id": "3e8cc34e7f754318b1234325dfeb906e",
       "version_major": 2,
       "version_minor": 0
      },
      "text/plain": [
       "Creating json from Arrow format:   0%|          | 0/1 [00:00<?, ?ba/s]"
      ]
     },
     "metadata": {},
     "output_type": "display_data"
    },
    {
     "data": {
      "text/plain": [
       "3521294"
      ]
     },
     "execution_count": 13,
     "metadata": {},
     "output_type": "execute_result"
    }
   ],
   "source": [
    "fully_specified_set = load_dataset(\n",
    "    \"json\",\n",
    "    data_files=\"BASELINE_GoogleNQ_FS_qa_gpt.jsonl\",\n",
    "    split=\"train\"\n",
    ")\n",
    "qa_fully_specified = deepcopy(fully_specified_set)\n",
    "\n",
    "for key in long_results_FS:\n",
    "    qa_fully_specified = qa_fully_specified.add_column(key, long_results_FS[key])\n",
    "\n",
    "qa_fully_specified.to_json(\"BASELINE_GoogleNQ_FS_qa_gpt.jsonl\", orient=\"records\", lines=True)"
   ]
  },
  {
   "cell_type": "code",
   "execution_count": 15,
   "metadata": {
    "id": "k2-j7RlpDEit"
   },
   "outputs": [],
   "source": [
    "df = pd.read_json(\"BASELINE_GoogleNQ_UND_qa_gpt.jsonl\", lines=True)\n",
    "df.to_csv('BASELINE_GoogleNQ_UND_qa_gpt.csv')\n",
    "\n",
    "df = pd.read_json(\"BASELINE_GoogleNQ_FS_qa_gpt.jsonl\", lines=True)\n",
    "df.to_csv('BASELINE_GoogleNQ_FS_qa_gpt.csv')"
   ]
  },
  {
   "cell_type": "code",
   "execution_count": 16,
   "metadata": {},
   "outputs": [
    {
     "data": {
      "text/html": [
       "<div>\n",
       "<style scoped>\n",
       "    .dataframe tbody tr th:only-of-type {\n",
       "        vertical-align: middle;\n",
       "    }\n",
       "\n",
       "    .dataframe tbody tr th {\n",
       "        vertical-align: top;\n",
       "    }\n",
       "\n",
       "    .dataframe thead th {\n",
       "        text-align: right;\n",
       "    }\n",
       "</style>\n",
       "<table border=\"1\" class=\"dataframe\">\n",
       "  <thead>\n",
       "    <tr style=\"text-align: right;\">\n",
       "      <th></th>\n",
       "      <th>question</th>\n",
       "      <th>short_answers</th>\n",
       "      <th>long_answer</th>\n",
       "      <th>qwen3_thinking</th>\n",
       "      <th>qwen3_model_response</th>\n",
       "      <th>qwen3_model_pred</th>\n",
       "      <th>model_short_answer</th>\n",
       "      <th>model_long_answer</th>\n",
       "    </tr>\n",
       "  </thead>\n",
       "  <tbody>\n",
       "    <tr>\n",
       "      <th>0</th>\n",
       "      <td>when was the first book made into a movie</td>\n",
       "      <td>[1924]</td>\n",
       "      <td>In 1924 , Erich von Stroheim attempted a lite...</td>\n",
       "      <td>&lt;think&gt;\\nOkay, let's see. The user is asking, ...</td>\n",
       "      <td>{\\n  \"query\": \"when was the first book made in...</td>\n",
       "      <td>fully specified</td>\n",
       "      <td>[1900 - The first book adapted into a movie wa...</td>\n",
       "      <td>The first book adaptation into a movie dates b...</td>\n",
       "    </tr>\n",
       "    <tr>\n",
       "      <th>1</th>\n",
       "      <td>when did the study of media effects begin</td>\n",
       "      <td>[1919]</td>\n",
       "      <td>The social impact of mass communication has b...</td>\n",
       "      <td>&lt;think&gt;\\nOkay, let's see. The user is asking w...</td>\n",
       "      <td>{\\n  \"query\": \"when did the study of media eff...</td>\n",
       "      <td>fully specified</td>\n",
       "      <td>[The study of media effects began in the early...</td>\n",
       "      <td>The study of media effects began in the early ...</td>\n",
       "    </tr>\n",
       "    <tr>\n",
       "      <th>2</th>\n",
       "      <td>where are the giant redwoods located in califo...</td>\n",
       "      <td>[Humboldt County, Del Norte County]</td>\n",
       "      <td>Redwood National and State Parks     IUCN c...</td>\n",
       "      <td>&lt;think&gt;\\nOkay, let's tackle this query. The us...</td>\n",
       "      <td>{\\n  \"query\": \"where are the giant redwoods lo...</td>\n",
       "      <td>fully specified</td>\n",
       "      <td>[- Redwood National and State Parks  \\n- Sequo...</td>\n",
       "      <td>The giant redwoods, also known as **coastal re...</td>\n",
       "    </tr>\n",
       "    <tr>\n",
       "      <th>3</th>\n",
       "      <td>who has won the most games in nfl 2017</td>\n",
       "      <td>[Dallas Cowboys]</td>\n",
       "      <td>Rank   Team   Won   Lost   Tied   Pct .   F...</td>\n",
       "      <td>&lt;think&gt;\\nOkay, let's see. The user is asking \"...</td>\n",
       "      <td>{\\n  \"query\": \"who has won the most games in n...</td>\n",
       "      <td>fully specified</td>\n",
       "      <td>[New England Patriots]</td>\n",
       "      <td>The 2017 NFL regular season ran from September...</td>\n",
       "    </tr>\n",
       "    <tr>\n",
       "      <th>4</th>\n",
       "      <td>where are more than half your bones located</td>\n",
       "      <td>[the appendicular skeleton]</td>\n",
       "      <td>The skeleton of an adult human consists of 20...</td>\n",
       "      <td>&lt;think&gt;\\nOkay, let's see. The user asked, \"Whe...</td>\n",
       "      <td>{\\n  \"query\": \"where are more than half your b...</td>\n",
       "      <td>fully specified</td>\n",
       "      <td>[In your hands and feet.]</td>\n",
       "      <td>More than half of the bones in the human body ...</td>\n",
       "    </tr>\n",
       "    <tr>\n",
       "      <th>...</th>\n",
       "      <td>...</td>\n",
       "      <td>...</td>\n",
       "      <td>...</td>\n",
       "      <td>...</td>\n",
       "      <td>...</td>\n",
       "      <td>...</td>\n",
       "      <td>...</td>\n",
       "      <td>...</td>\n",
       "    </tr>\n",
       "    <tr>\n",
       "      <th>537</th>\n",
       "      <td>when did dragon ball z air in australia</td>\n",
       "      <td>[Fall 1998]</td>\n",
       "      <td>The Funimation dubbed episodes also aired in ...</td>\n",
       "      <td>&lt;think&gt;\\nOkay, let's see. The user is asking w...</td>\n",
       "      <td>{\\n  \"query\": \"when did dragon ball z air in a...</td>\n",
       "      <td>fully specified</td>\n",
       "      <td>[Dragon Ball Z first aired in Australia on Jul...</td>\n",
       "      <td>\"Dragon Ball Z,\" the highly popular Japanese a...</td>\n",
       "    </tr>\n",
       "    <tr>\n",
       "      <th>538</th>\n",
       "      <td>a synonym for the content component of communi...</td>\n",
       "      <td>[information]</td>\n",
       "      <td>In publishing , art , and communication , con...</td>\n",
       "      <td>&lt;think&gt;\\nOkay, let's see. The user is asking f...</td>\n",
       "      <td>{\\n  \"query\": \"a synonym for the content compo...</td>\n",
       "      <td>fully specified</td>\n",
       "      <td>[Message]</td>\n",
       "      <td>A synonym for the **content component** of com...</td>\n",
       "    </tr>\n",
       "    <tr>\n",
       "      <th>539</th>\n",
       "      <td>when was the last time minnesota vikings was i...</td>\n",
       "      <td>[XI]</td>\n",
       "      <td>Since the team 's first season in 1961 , the ...</td>\n",
       "      <td>&lt;think&gt;\\nOkay, let's see. The user is asking w...</td>\n",
       "      <td>{\\n  \"query\": \"when was the last time minnesot...</td>\n",
       "      <td>fully specified</td>\n",
       "      <td>[January 9, 1977]</td>\n",
       "      <td>The Minnesota Vikings last appeared in the Sup...</td>\n",
       "    </tr>\n",
       "    <tr>\n",
       "      <th>540</th>\n",
       "      <td>where was the movie 500 days of summer filmed</td>\n",
       "      <td>[Los Angeles]</td>\n",
       "      <td>David Ng of the Los Angeles Times describes a...</td>\n",
       "      <td>&lt;think&gt;\\nOkay, let's see. The user is asking w...</td>\n",
       "      <td>{\\n    \"query\": \"where was the movie 500 days ...</td>\n",
       "      <td>fully specified</td>\n",
       "      <td>[Los Angeles, California]</td>\n",
       "      <td>The movie *500 Days of Summer* (2009) was prim...</td>\n",
       "    </tr>\n",
       "    <tr>\n",
       "      <th>541</th>\n",
       "      <td>what was the lowest barometric pressure for hu...</td>\n",
       "      <td>[914 mbar (hPa; 27.0 inHg)]</td>\n",
       "      <td>In between Rita and Katrina is Hurricane Alle...</td>\n",
       "      <td>&lt;think&gt;\\nOkay, let's see. The user is asking a...</td>\n",
       "      <td>{\\n  \"query\": \"what was the lowest barometric ...</td>\n",
       "      <td>fully specified</td>\n",
       "      <td>[914 mb]</td>\n",
       "      <td>Hurricane Irma reached its lowest barometric p...</td>\n",
       "    </tr>\n",
       "  </tbody>\n",
       "</table>\n",
       "<p>542 rows × 8 columns</p>\n",
       "</div>"
      ],
      "text/plain": [
       "                                              question  \\\n",
       "0            when was the first book made into a movie   \n",
       "1            when did the study of media effects begin   \n",
       "2    where are the giant redwoods located in califo...   \n",
       "3               who has won the most games in nfl 2017   \n",
       "4          where are more than half your bones located   \n",
       "..                                                 ...   \n",
       "537            when did dragon ball z air in australia   \n",
       "538  a synonym for the content component of communi...   \n",
       "539  when was the last time minnesota vikings was i...   \n",
       "540      where was the movie 500 days of summer filmed   \n",
       "541  what was the lowest barometric pressure for hu...   \n",
       "\n",
       "                           short_answers  \\\n",
       "0                                 [1924]   \n",
       "1                                 [1919]   \n",
       "2    [Humboldt County, Del Norte County]   \n",
       "3                       [Dallas Cowboys]   \n",
       "4            [the appendicular skeleton]   \n",
       "..                                   ...   \n",
       "537                          [Fall 1998]   \n",
       "538                        [information]   \n",
       "539                                 [XI]   \n",
       "540                        [Los Angeles]   \n",
       "541          [914 mbar (hPa; 27.0 inHg)]   \n",
       "\n",
       "                                           long_answer  \\\n",
       "0     In 1924 , Erich von Stroheim attempted a lite...   \n",
       "1     The social impact of mass communication has b...   \n",
       "2       Redwood National and State Parks     IUCN c...   \n",
       "3       Rank   Team   Won   Lost   Tied   Pct .   F...   \n",
       "4     The skeleton of an adult human consists of 20...   \n",
       "..                                                 ...   \n",
       "537   The Funimation dubbed episodes also aired in ...   \n",
       "538   In publishing , art , and communication , con...   \n",
       "539   Since the team 's first season in 1961 , the ...   \n",
       "540   David Ng of the Los Angeles Times describes a...   \n",
       "541   In between Rita and Katrina is Hurricane Alle...   \n",
       "\n",
       "                                        qwen3_thinking  \\\n",
       "0    <think>\\nOkay, let's see. The user is asking, ...   \n",
       "1    <think>\\nOkay, let's see. The user is asking w...   \n",
       "2    <think>\\nOkay, let's tackle this query. The us...   \n",
       "3    <think>\\nOkay, let's see. The user is asking \"...   \n",
       "4    <think>\\nOkay, let's see. The user asked, \"Whe...   \n",
       "..                                                 ...   \n",
       "537  <think>\\nOkay, let's see. The user is asking w...   \n",
       "538  <think>\\nOkay, let's see. The user is asking f...   \n",
       "539  <think>\\nOkay, let's see. The user is asking w...   \n",
       "540  <think>\\nOkay, let's see. The user is asking w...   \n",
       "541  <think>\\nOkay, let's see. The user is asking a...   \n",
       "\n",
       "                                  qwen3_model_response qwen3_model_pred  \\\n",
       "0    {\\n  \"query\": \"when was the first book made in...  fully specified   \n",
       "1    {\\n  \"query\": \"when did the study of media eff...  fully specified   \n",
       "2    {\\n  \"query\": \"where are the giant redwoods lo...  fully specified   \n",
       "3    {\\n  \"query\": \"who has won the most games in n...  fully specified   \n",
       "4    {\\n  \"query\": \"where are more than half your b...  fully specified   \n",
       "..                                                 ...              ...   \n",
       "537  {\\n  \"query\": \"when did dragon ball z air in a...  fully specified   \n",
       "538  {\\n  \"query\": \"a synonym for the content compo...  fully specified   \n",
       "539  {\\n  \"query\": \"when was the last time minnesot...  fully specified   \n",
       "540  {\\n    \"query\": \"where was the movie 500 days ...  fully specified   \n",
       "541  {\\n  \"query\": \"what was the lowest barometric ...  fully specified   \n",
       "\n",
       "                                    model_short_answer  \\\n",
       "0    [1900 - The first book adapted into a movie wa...   \n",
       "1    [The study of media effects began in the early...   \n",
       "2    [- Redwood National and State Parks  \\n- Sequo...   \n",
       "3                               [New England Patriots]   \n",
       "4                            [In your hands and feet.]   \n",
       "..                                                 ...   \n",
       "537  [Dragon Ball Z first aired in Australia on Jul...   \n",
       "538                                          [Message]   \n",
       "539                                  [January 9, 1977]   \n",
       "540                          [Los Angeles, California]   \n",
       "541                                           [914 mb]   \n",
       "\n",
       "                                     model_long_answer  \n",
       "0    The first book adaptation into a movie dates b...  \n",
       "1    The study of media effects began in the early ...  \n",
       "2    The giant redwoods, also known as **coastal re...  \n",
       "3    The 2017 NFL regular season ran from September...  \n",
       "4    More than half of the bones in the human body ...  \n",
       "..                                                 ...  \n",
       "537  \"Dragon Ball Z,\" the highly popular Japanese a...  \n",
       "538  A synonym for the **content component** of com...  \n",
       "539  The Minnesota Vikings last appeared in the Sup...  \n",
       "540  The movie *500 Days of Summer* (2009) was prim...  \n",
       "541  Hurricane Irma reached its lowest barometric p...  \n",
       "\n",
       "[542 rows x 8 columns]"
      ]
     },
     "execution_count": 16,
     "metadata": {},
     "output_type": "execute_result"
    }
   ],
   "source": [
    "df"
   ]
  },
  {
   "cell_type": "markdown",
   "metadata": {
    "id": "a5EFArDhSoGT"
   },
   "source": [
    "## Evaluations"
   ]
  },
  {
   "cell_type": "code",
   "execution_count": 17,
   "metadata": {
    "colab": {
     "referenced_widgets": [
      "c4114faec31845e486fe03898a6be814",
      "8c2de8a78e184c96b3803c3ad926678a"
     ]
    },
    "id": "KmK78p1AfR_2",
    "outputId": "ef3786fe-dd72-4664-918d-c36fcf4a69ce"
   },
   "outputs": [
    {
     "data": {
      "application/vnd.jupyter.widget-view+json": {
       "model_id": "d740419d763349e3bde8832aa74ea4fa",
       "version_major": 2,
       "version_minor": 0
      },
      "text/plain": [
       "Generating train split: 0 examples [00:00, ? examples/s]"
      ]
     },
     "metadata": {},
     "output_type": "display_data"
    },
    {
     "data": {
      "application/vnd.jupyter.widget-view+json": {
       "model_id": "9a1484c0985848ef8cbc95df72e8bb4d",
       "version_major": 2,
       "version_minor": 0
      },
      "text/plain": [
       "Generating train split: 0 examples [00:00, ? examples/s]"
      ]
     },
     "metadata": {},
     "output_type": "display_data"
    }
   ],
   "source": [
    "underspecified_set_qa = load_dataset(\n",
    "    \"json\",\n",
    "    data_files=\"BASELINE_GoogleNQ_UND_qa_gpt.jsonl\",\n",
    "    split=\"train\"  # 必须指定 split，否则默认返回 DatasetDict\n",
    ")\n",
    "\n",
    "fully_specified_set_qa = load_dataset(\n",
    "    \"json\",\n",
    "    data_files=\"BASELINE_GoogleNQ_FS_qa_gpt.jsonl\",\n",
    "    split=\"train\"\n",
    ")"
   ]
  },
  {
   "cell_type": "markdown",
   "metadata": {
    "id": "bc27ySYjSrBV"
   },
   "source": [
    "#### Squad EM + F1"
   ]
  },
  {
   "cell_type": "code",
   "execution_count": 18,
   "metadata": {
    "id": "bbJYCbhr5giT",
    "outputId": "673ba7bb-40f8-4b9b-b7d5-358653e459d6"
   },
   "outputs": [
    {
     "name": "stdout",
     "output_type": "stream",
     "text": [
      "Exact Match: 30.81\n",
      "F1 Score: 48.11\n"
     ]
    }
   ],
   "source": [
    "# Official squad script for avg EM and F1, not possible for t-test\n",
    "\n",
    "\n",
    "# Evaluate fully specified subset\n",
    "dataset = load_dataset(\"json\", data_files=\"BASELINE_GoogleNQ_FS_qa_gpt.jsonl\", split=\"train\")\n",
    "\n",
    "# 加载 HuggingFace 的 squad 评估器\n",
    "squad_metric = evaluate.load(\"squad\")\n",
    "\n",
    "# 构造 predictions 和 references（标准格式）\n",
    "predictions = [\n",
    "    {\n",
    "        \"id\": str(i),\n",
    "        \"prediction_text\": pred[0] if isinstance(pred, list) and pred else \"\"\n",
    "    }\n",
    "    for i, pred in enumerate(dataset[\"model_short_answer\"])\n",
    "]\n",
    "\n",
    "references = [\n",
    "    {\n",
    "        \"id\": str(i),\n",
    "        \"answers\": {\n",
    "            \"text\": ref if isinstance(ref, list) else [ref],\n",
    "            \"answer_start\": [0] * len(ref if isinstance(ref, list) else [ref])\n",
    "        }\n",
    "    }\n",
    "    for i, ref in enumerate(dataset[\"short_answers\"])\n",
    "]\n",
    "\n",
    "# 计算 SQuAD-style EM 和 F1\n",
    "results = squad_metric.compute(predictions=predictions, references=references)\n",
    "\n",
    "# 打印平均指标\n",
    "print(f\"Exact Match: {results['exact_match']:.2f}\")\n",
    "print(f\"F1 Score: {results['f1']:.2f}\")"
   ]
  },
  {
   "cell_type": "code",
   "execution_count": 19,
   "metadata": {
    "id": "zO7Av3fF5giU",
    "outputId": "842a75aa-3b44-411c-9b2f-2f5a621ced2a"
   },
   "outputs": [
    {
     "name": "stdout",
     "output_type": "stream",
     "text": [
      "Exact Match: 17.90\n",
      "F1 Score: 35.88\n"
     ]
    }
   ],
   "source": [
    "# Evaluate underspecified subset\n",
    "dataset = load_dataset(\"json\", data_files=\"BASELINE_GoogleNQ_UND_qa_gpt.jsonl\", split=\"train\")\n",
    "\n",
    "# 加载 HuggingFace 的 squad 评估器\n",
    "squad_metric = evaluate.load(\"squad\")\n",
    "\n",
    "# 构造 predictions 和 references（标准格式）\n",
    "predictions = [\n",
    "    {\n",
    "        \"id\": str(i),\n",
    "        \"prediction_text\": pred[0] if isinstance(pred, list) and pred else \"\"\n",
    "    }\n",
    "    for i, pred in enumerate(dataset[\"model_short_answer\"])\n",
    "]\n",
    "\n",
    "references = [\n",
    "    {\n",
    "        \"id\": str(i),\n",
    "        \"answers\": {\n",
    "            \"text\": ref if isinstance(ref, list) else [ref],\n",
    "            \"answer_start\": [0] * len(ref if isinstance(ref, list) else [ref])\n",
    "        }\n",
    "    }\n",
    "    for i, ref in enumerate(dataset[\"short_answers\"])\n",
    "]\n",
    "\n",
    "# 计算 SQuAD-style EM 和 F1\n",
    "results = squad_metric.compute(predictions=predictions, references=references)\n",
    "\n",
    "# 打印平均指标\n",
    "print(f\"Exact Match: {results['exact_match']:.2f}\")\n",
    "print(f\"F1 Score: {results['f1']:.2f}\")"
   ]
  },
  {
   "cell_type": "code",
   "execution_count": 20,
   "metadata": {
    "id": "_Y6Iu8K8SqjU"
   },
   "outputs": [],
   "source": [
    "def evaluate_squad_per_sample_multi_ref_pred(dataset, pred_col=\"model_short_answer\", ref_col=\"short_answers\"):\n",
    "    \"\"\"\n",
    "    对每个样本逐一计算 EM 和 F1，支持多个参考答案和多个预测答案（list[str]）。\n",
    "    返回带 \"em\", \"f1\" 列的新 Dataset，以及 f1/em 列表用于统计分析。\n",
    "    Also considering multiple answers in both gold and pred and take the maximum score\n",
    "    \"\"\"\n",
    "\n",
    "    def normalize_answer(s):\n",
    "        def remove_articles(text):\n",
    "            return re.sub(r'\\b(a|an|the)\\b', ' ', text)\n",
    "        def white_space_fix(text):\n",
    "            return ' '.join(text.split())\n",
    "        def remove_punc(text):\n",
    "            return ''.join(ch for ch in text if ch not in string.punctuation)\n",
    "        def lower(text):\n",
    "            return text.lower()\n",
    "        return white_space_fix(remove_articles(remove_punc(lower(s))))\n",
    "\n",
    "    def compute_exact(a_pred, a_gold):\n",
    "    # 如果是 list，转成 set 并 normalize 每个元素\n",
    "        if isinstance(a_pred, list) and isinstance(a_gold, list):\n",
    "          pred_set = set(normalize_answer(a) for a in a_pred)\n",
    "          gold_set = set(normalize_answer(a) for a in a_gold)\n",
    "          return int(pred_set == gold_set)\n",
    "        else:\n",
    "          return int(normalize_answer(a_pred) == normalize_answer(a_gold))\n",
    "\n",
    "    def compute_f1(a_pred, a_gold):\n",
    "        pred_tokens = normalize_answer(a_pred).split()\n",
    "        gold_tokens = normalize_answer(a_gold).split()\n",
    "        common = Counter(pred_tokens) & Counter(gold_tokens)\n",
    "        num_same = sum(common.values())\n",
    "        if num_same == 0:\n",
    "            return 0.0\n",
    "        precision = num_same / len(pred_tokens)\n",
    "        recall = num_same / len(gold_tokens)\n",
    "        return 2 * precision * recall / (precision + recall)\n",
    "\n",
    "    new_data = []\n",
    "    f1_scores = []\n",
    "    em_scores = []\n",
    "\n",
    "    for item in dataset:\n",
    "        preds = item.get(pred_col, [])\n",
    "        golds = item.get(ref_col, [])\n",
    "        # 转为 list\n",
    "        if not isinstance(preds, list):\n",
    "            preds = [preds] if preds else []\n",
    "        if not isinstance(golds, list):\n",
    "            golds = [golds] if golds else []\n",
    "\n",
    "        # 多对多最大匹配\n",
    "        if not preds or not golds:\n",
    "            em = 0.0\n",
    "            f1 = 0.0\n",
    "        else:\n",
    "            em = max(compute_exact(p, g) for p in preds for g in golds)\n",
    "            f1 = max(compute_f1(p, g) for p in preds for g in golds)\n",
    "\n",
    "        new_item = deepcopy(item)\n",
    "        new_item[\"em\"] = em\n",
    "        new_item[\"f1\"] = f1\n",
    "        new_data.append(new_item)\n",
    "        em_scores.append(em)\n",
    "        f1_scores.append(f1)\n",
    "\n",
    "    return Dataset.from_list(new_data), f1_scores, em_scores"
   ]
  },
  {
   "cell_type": "code",
   "execution_count": 21,
   "metadata": {
    "colab": {
     "referenced_widgets": [
      "b7f987d4f60b4c9ab08ae2a987673407"
     ]
    },
    "id": "zWq8WMyugKBu",
    "outputId": "9605de49-d262-4b5f-bee6-c80798f0d354"
   },
   "outputs": [
    {
     "data": {
      "application/vnd.jupyter.widget-view+json": {
       "model_id": "48fc0150cce546df99ff2a303a3bc3b6",
       "version_major": 2,
       "version_minor": 0
      },
      "text/plain": [
       "Creating json from Arrow format:   0%|          | 0/1 [00:00<?, ?ba/s]"
      ]
     },
     "metadata": {},
     "output_type": "display_data"
    },
    {
     "data": {
      "text/plain": [
       "3160528"
      ]
     },
     "execution_count": 21,
     "metadata": {},
     "output_type": "execute_result"
    }
   ],
   "source": [
    "squad_scored_UND, UND_f1_list, UND_em_list = evaluate_squad_per_sample_multi_ref_pred(underspecified_set_qa)\n",
    "squad_scored_UND.to_json(\"BASELINE_Google_NQ_UND_qa_gpt_with_squad_scores.jsonl\", orient=\"records\", lines=True)"
   ]
  },
  {
   "cell_type": "code",
   "execution_count": 22,
   "metadata": {
    "colab": {
     "referenced_widgets": [
      "357cef3684744a3791784052e958ab4b"
     ]
    },
    "id": "RzMSeX5ffQ0t",
    "outputId": "527cad14-e13d-4491-bd96-4a83e242fa94"
   },
   "outputs": [
    {
     "data": {
      "application/vnd.jupyter.widget-view+json": {
       "model_id": "2833a125e3d44b27a6d4e8514270eb80",
       "version_major": 2,
       "version_minor": 0
      },
      "text/plain": [
       "Creating json from Arrow format:   0%|          | 0/1 [00:00<?, ?ba/s]"
      ]
     },
     "metadata": {},
     "output_type": "display_data"
    },
    {
     "data": {
      "text/plain": [
       "3531311"
      ]
     },
     "execution_count": 22,
     "metadata": {},
     "output_type": "execute_result"
    }
   ],
   "source": [
    "squad_scored_FS, FS_f1_list, FS_em_list = evaluate_squad_per_sample_multi_ref_pred(fully_specified_set_qa)\n",
    "squad_scored_FS.to_json(\"BASELINE_Google_NQ_FS_qa_gpt_with_squad_scores.jsonl\", orient=\"records\", lines=True)"
   ]
  },
  {
   "cell_type": "code",
   "execution_count": 23,
   "metadata": {
    "id": "VSfEPatS5giV"
   },
   "outputs": [],
   "source": [
    "df = pd.read_json(\"BASELINE_Google_NQ_UND_qa_gpt_with_squad_scores.jsonl\", lines=True)\n",
    "df.to_csv('BASELINE_Google_NQ_UND_qa_gpt_with_squad_scores.csv')\n",
    "\n",
    "df = pd.read_json(\"BASELINE_Google_NQ_FS_qa_gpt_with_squad_scores.jsonl\", lines=True)\n",
    "df.to_csv('BASELINE_Google_NQ_FS_qa_gpt_with_squad_scores.csv')"
   ]
  },
  {
   "cell_type": "code",
   "execution_count": 24,
   "metadata": {
    "id": "1iJJ1nvk5giV",
    "outputId": "2737b6c6-17f8-4c18-fd81-4264a37a1182"
   },
   "outputs": [
    {
     "name": "stdout",
     "output_type": "stream",
     "text": [
      "UND Exact Match (avg): 18.78\n",
      "UND F1 Score (avg): 36.98\n",
      "FS Exact Match (avg): 31.37\n",
      "FS F1 Score (avg): 48.60\n",
      "F1: t=4.670, p=0.0000\n",
      "EM: t=4.654, p=0.0000\n"
     ]
    }
   ],
   "source": [
    "UND_mean_em = np.mean(UND_em_list)  # em_scores: EM list per sample\n",
    "UND_mean_f1 = np.mean(UND_f1_list)  # f1_scores F1 list per sample\n",
    "print(f\"UND Exact Match (avg): {UND_mean_em * 100:.2f}\")\n",
    "print(f\"UND F1 Score (avg): {UND_mean_f1 * 100:.2f}\")\n",
    "\n",
    "FS_mean_em = np.mean(FS_em_list)  # em_scores: EM list per sample\n",
    "FS_mean_f1 = np.mean(FS_f1_list)  # f1_scores F1 list per sample\n",
    "print(f\"FS Exact Match (avg): {FS_mean_em * 100:.2f}\")\n",
    "print(f\"FS F1 Score (avg): {FS_mean_f1 * 100:.2f}\")\n",
    "\n",
    "f1_tstat, f1_pval = ttest_ind(FS_f1_list, UND_f1_list, equal_var=False)\n",
    "print(f\"F1: t={f1_tstat:.3f}, p={f1_pval:.4f}\")\n",
    "\n",
    "em_tstat, em_pval = ttest_ind(FS_em_list, UND_em_list, equal_var=False)\n",
    "print(f\"EM: t={em_tstat:.3f}, p={em_pval:.4f}\")"
   ]
  },
  {
   "cell_type": "markdown",
   "metadata": {
    "id": "SLmRuWUV5giV"
   },
   "source": [
    "#### Visualization"
   ]
  },
  {
   "cell_type": "code",
   "execution_count": 25,
   "metadata": {
    "id": "0Nn7gga-5giV",
    "outputId": "74a4c863-c0bc-4830-cc63-47be04a32ebb"
   },
   "outputs": [
    {
     "name": "stderr",
     "output_type": "stream",
     "text": [
      "/scratch-local/yhuang.14598269/ipykernel_2864419/1062261962.py:7: FutureWarning: \n",
      "\n",
      "Passing `palette` without assigning `hue` is deprecated and will be removed in v0.14.0. Assign the `x` variable to `hue` and set `legend=False` for the same effect.\n",
      "\n",
      "  ax = sns.boxplot(x=\"Subset\", y=\"F1\", data=df_f1, palette=\"Set2\", showfliers=False)\n",
      "/scratch-local/yhuang.14598269/ipykernel_2864419/1062261962.py:33: FutureWarning: \n",
      "\n",
      "The `ci` parameter is deprecated. Use `errorbar=('ci', 95)` for the same effect.\n",
      "\n",
      "  sns.barplot(x=\"Subset\", y=\"EM\", data=df_em, palette=\"Set2\", ci=95)\n",
      "/scratch-local/yhuang.14598269/ipykernel_2864419/1062261962.py:33: FutureWarning: \n",
      "\n",
      "Passing `palette` without assigning `hue` is deprecated and will be removed in v0.14.0. Assign the `x` variable to `hue` and set `legend=False` for the same effect.\n",
      "\n",
      "  sns.barplot(x=\"Subset\", y=\"EM\", data=df_em, palette=\"Set2\", ci=95)\n"
     ]
    }
   ],
   "source": [
    "df_f1 = pd.DataFrame({\n",
    "    \"F1\": FS_f1_list + UND_f1_list,\n",
    "    \"Subset\": [\"Fully specified\"] * len(FS_f1_list) + [\"Underspecified\"] * len(UND_f1_list)\n",
    "})\n",
    "\n",
    "plt.figure(figsize=(6, 4))\n",
    "ax = sns.boxplot(x=\"Subset\", y=\"F1\", data=df_f1, palette=\"Set2\", showfliers=False)\n",
    "\n",
    "# 计算中位数\n",
    "medians = df_f1.groupby(\"Subset\")[\"F1\"].median()\n",
    "\n",
    "# 标注中位数数值\n",
    "for i, (subset, median_val) in enumerate(medians.items()):\n",
    "    ax.text(\n",
    "        i, median_val + 0.03, f\"{median_val:.2f}\",\n",
    "        ha='center', va='bottom', fontsize=11, weight='bold', color='black'\n",
    "    )\n",
    "\n",
    "plt.title(\"gpt-4o-2024-11-20 F1 Score Distribution by Subset_BASELINE - GoogleNQ\")\n",
    "plt.ylim(-0.05, 1.05)\n",
    "plt.ylabel(\"F1 Score\")\n",
    "plt.xlabel(\"\")\n",
    "plt.tight_layout()\n",
    "plt.savefig(\"GoogleNQ_f1_boxplot_gpt_BASELINE.png\", dpi=300)\n",
    "plt.close()\n",
    "\n",
    "df_em = pd.DataFrame({\n",
    "    \"EM\": FS_em_list + UND_em_list,\n",
    "    \"Subset\": [\"Fully specified\"] * len(FS_em_list) + [\"Underspecified\"] * len(UND_em_list)\n",
    "})\n",
    "\n",
    "plt.figure(figsize=(6, 4))\n",
    "sns.barplot(x=\"Subset\", y=\"EM\", data=df_em, palette=\"Set2\", ci=95)\n",
    "plt.title(\"gpt-4o-2024-11-20 Exact Match Rate by Subset_BASELINE (± CI) - GoogleNQ\")\n",
    "plt.tight_layout()\n",
    "plt.savefig(\"GoogleNQ_em_barplot_gpt_BASELINE.png\", dpi=300)\n",
    "plt.close()"
   ]
  },
  {
   "cell_type": "code",
   "execution_count": 26,
   "metadata": {
    "id": "i55NNFoT5giV",
    "outputId": "3038403e-6dee-48d1-8787-42c04fc02488"
   },
   "outputs": [
    {
     "data": {
      "image/png": "[encoded data removed]",
      "text/plain": [
       "<IPython.core.display.Image object>"
      ]
     },
     "execution_count": 26,
     "metadata": {},
     "output_type": "execute_result"
    }
   ],
   "source": [
    "from IPython.display import Image\n",
    "Image(\"GoogleNQ_f1_boxplot_gpt_BASELINE.png\")"
   ]
  },
  {
   "cell_type": "code",
   "execution_count": 27,
   "metadata": {
    "id": "E0w8XgyJ5giV",
    "outputId": "4be30fd3-4d1d-489a-e25a-3905873aac82"
   },
   "outputs": [
    {
     "data": {
      "image/png": "[encoded data removed]",
      "text/plain": [
       "<IPython.core.display.Image object>"
      ]
     },
     "execution_count": 27,
     "metadata": {},
     "output_type": "execute_result"
    }
   ],
   "source": [
    "Image(\"GoogleNQ_em_barplot_gpt_BASELINE.png\")"
   ]
  },
  {
   "cell_type": "markdown",
   "metadata": {
    "id": "Pw8kLHxc5giW"
   },
   "source": [
    "#### BLEU, ROUGE, METEOR, BERTScore"
   ]
  },
  {
   "cell_type": "code",
   "execution_count": 29,
   "metadata": {
    "id": "OOxhk3UO5giW"
   },
   "outputs": [
    {
     "data": {
      "application/vnd.jupyter.widget-view+json": {
       "model_id": "a940cfa93cce4aca801d35b257b9715e",
       "version_major": 2,
       "version_minor": 0
      },
      "text/plain": [
       "Generating train split: 0 examples [00:00, ? examples/s]"
      ]
     },
     "metadata": {},
     "output_type": "display_data"
    },
    {
     "data": {
      "application/vnd.jupyter.widget-view+json": {
       "model_id": "6db2bd60600d463283a6d0396c57318a",
       "version_major": 2,
       "version_minor": 0
      },
      "text/plain": [
       "Generating train split: 0 examples [00:00, ? examples/s]"
      ]
     },
     "metadata": {},
     "output_type": "display_data"
    }
   ],
   "source": [
    "UND = load_dataset(\n",
    "    \"json\",\n",
    "    data_files=\"BASELINE_Google_NQ_UND_qa_gpt_with_squad_scores.jsonl\",\n",
    "    split=\"train\"  # 必须指定 split，否则默认返回 DatasetDict\n",
    ")\n",
    "\n",
    "FS = load_dataset(\n",
    "    \"json\",\n",
    "    data_files=\"BASELINE_Google_NQ_FS_qa_gpt_with_squad_scores.jsonl\",\n",
    "    split=\"train\"\n",
    ")"
   ]
  },
  {
   "cell_type": "code",
   "execution_count": 32,
   "metadata": {
    "id": "7eBMTBcE5giW"
   },
   "outputs": [],
   "source": [
    "def evaluate_long_answer_all_metrics(\n",
    "    dataset: Dataset,\n",
    "    pred_col: str,\n",
    "    ref_col: str,\n",
    "    metrics: list = [\"bleu\", \"meteor\", \"rouge\", \"bertscore\"]\n",
    ") -> dict:\n",
    "    \"\"\"\n",
    "    对 dataset 中每条样本逐一计算多个文本生成评估指标。\n",
    "    支持 BLEU, METEOR, ROUGE-L, BERTScore。\n",
    "\n",
    "    Args:\n",
    "        dataset: HuggingFace Dataset。\n",
    "        pred_col: 模型预测列名（str）。\n",
    "        ref_col: 参考答案列名（str）。\n",
    "        metrics: 要计算的指标列表，支持 \"bleu\", \"meteor\", \"rouge\", \"bertscore\"。\n",
    "\n",
    "    Returns:\n",
    "        Dict[str, List[float]]: 每个指标对应一个分数列表。\n",
    "    \"\"\"\n",
    "    metric_objects = {m: evaluate.load(m) for m in metrics}\n",
    "    all_scores = {m: [] for m in metrics}\n",
    "\n",
    "    for item in tqdm(dataset, desc=\"Evaluating metrics\"):\n",
    "        pred = item[pred_col]\n",
    "        ref = item[ref_col]\n",
    "\n",
    "        if not pred or not ref:\n",
    "            for m in metrics:\n",
    "                all_scores[m].append(0.0)\n",
    "            continue\n",
    "\n",
    "        for m in metrics:\n",
    "            try:\n",
    "                if m == \"rouge\":\n",
    "                    result = metric_objects[m].compute(predictions=[pred], references=[[ref]])\n",
    "                    all_scores[m].append(result[\"rougeL\"])\n",
    "                elif m == \"bertscore\":\n",
    "                    result = metric_objects[m].compute(predictions=[pred], references=[ref], lang=\"en\")\n",
    "                    all_scores[m].append(result[\"f1\"][0])  # 取 BERTScore F1 分数\n",
    "                else:\n",
    "                    result = metric_objects[m].compute(predictions=[pred], references=[[ref]])\n",
    "                    all_scores[m].append(result[m])\n",
    "            except Exception as e:\n",
    "                print(f\"Error scoring sample with {m}: {e}\")\n",
    "                all_scores[m].append(0.0)\n",
    "\n",
    "    return all_scores\n",
    "\n",
    "def add_scores_to_dataset(dataset, scores_dict):\n",
    "    \"\"\"\n",
    "    将多个指标打分列表合并为 dataset 的新列。\n",
    "\n",
    "    Args:\n",
    "        dataset (Dataset): 原始 HuggingFace Dataset。\n",
    "        scores_dict (dict): 如 {\"bleu\": [...], \"meteor\": [...]}，每个值都是 len=N 的分数列表。\n",
    "\n",
    "    Returns:\n",
    "        Dataset: 增加了评估分数的新数据集。\n",
    "    \"\"\"\n",
    "\n",
    "    # 确保每个指标的分数长度与数据集行数一致\n",
    "    for k, v in scores_dict.items():\n",
    "        assert len(v) == len(dataset), f\"Length mismatch for {k}: {len(v)} != {len(dataset)}\"\n",
    "\n",
    "    # 加入每个指标为新列\n",
    "    new_dataset = dataset\n",
    "    for k, v in scores_dict.items():\n",
    "        new_dataset = new_dataset.add_column(k, v)\n",
    "\n",
    "    return new_dataset\n",
    "def t_test_metrics(scores_1: dict, scores_2: dict, label_1=\"Group 1\", label_2=\"Group 2\"):\n",
    "    \"\"\"\n",
    "    对两个子集的多个指标进行 t-test，并打印结果。\n",
    "\n",
    "    Args:\n",
    "        scores_1 (dict): 子集 1 的评估分数，形式为 {\"metric\": [scores]}。\n",
    "        scores_2 (dict): 子集 2 的评估分数，形式相同。\n",
    "    \"\"\"\n",
    "    common_metrics = set(scores_1.keys()) & set(scores_2.keys())\n",
    "\n",
    "    print(f\"\\nT-test results between {label_1} and {label_2}:\\n\")\n",
    "    for metric in sorted(common_metrics):\n",
    "        x = scores_1[metric]\n",
    "        y = scores_2[metric]\n",
    "\n",
    "        t_stat, p_val = ttest_ind(x, y, equal_var=False)\n",
    "        print(f\"{metric.upper():<10} | t = {t_stat:6.3f} | p = {p_val:.4f} | \"\n",
    "              f\"{'significant' if p_val < 0.05 else 'not significant'}\")\n",
    "\n",
    "def plot_metric_distributions(scores_1, scores_2, label_1=\"Group 1\", label_2=\"Group 2\", filename=\"BASELINE_Google_NQ_metric_plot.png\"):\n",
    "    import matplotlib.pyplot as plt\n",
    "    import seaborn as sns\n",
    "    import pandas as pd\n",
    "    from IPython.display import Image\n",
    "\n",
    "    # 构建 DataFrame\n",
    "    rows = []\n",
    "    for metric in scores_1:\n",
    "        if metric in scores_2:\n",
    "            for v in scores_1[metric]:\n",
    "                rows.append({\"score\": v, \"metric\": metric.upper(), \"group\": label_1})\n",
    "            for v in scores_2[metric]:\n",
    "                rows.append({\"score\": v, \"metric\": metric.upper(), \"group\": label_2})\n",
    "    df = pd.DataFrame(rows)\n",
    "\n",
    "    # 绘图设置\n",
    "    sns.set(style=\"whitegrid\", font_scale=1.1)\n",
    "    g = sns.catplot(\n",
    "        data=df, kind=\"box\", x=\"metric\", y=\"score\", hue=\"group\",\n",
    "        height=5, aspect=1.6, palette=\"Set2\", showfliers=True  # Keep outliers，remove swarm\n",
    "    )\n",
    "\n",
    "    g.set_axis_labels(\"Metric\", \"Score\")\n",
    "    g.set_titles(\"Metric Score Distributions\")\n",
    "    g.despine(left=True)\n",
    "    plt.title(\"gpt-4o-2024-11-20 Long Answer Evaluation Score Distributions by Group_BASELINE\")\n",
    "    plt.tight_layout()\n",
    "    plt.savefig(filename, dpi=300)\n",
    "    plt.close()\n",
    "\n",
    "    return Image(filename)"
   ]
  },
  {
   "cell_type": "code",
   "execution_count": 33,
   "metadata": {
    "id": "-8ZKZ1NX5giW",
    "outputId": "824caae9-7be7-42a5-ce1a-1b402978f557"
   },
   "outputs": [
    {
     "name": "stderr",
     "output_type": "stream",
     "text": [
      "[nltk_data] Downloading package wordnet to /home/yhuang/nltk_data...\n",
      "[nltk_data]   Package wordnet is already up-to-date!\n",
      "[nltk_data] Downloading package punkt_tab to /home/yhuang/nltk_data...\n",
      "[nltk_data]   Package punkt_tab is already up-to-date!\n",
      "[nltk_data] Downloading package omw-1.4 to /home/yhuang/nltk_data...\n",
      "[nltk_data]   Package omw-1.4 is already up-to-date!\n",
      "Evaluating metrics:   0%|          | 0/458 [00:00<?, ?it/s]Some weights of RobertaModel were not initialized from the model checkpoint at roberta-large and are newly initialized: ['pooler.dense.bias', 'pooler.dense.weight']\n",
      "You should probably TRAIN this model on a down-stream task to be able to use it for predictions and inference.\n",
      "Evaluating metrics: 100%|██████████| 458/458 [43:07<00:00,  5.65s/it]\n",
      "[nltk_data] Downloading package wordnet to /home/yhuang/nltk_data...\n",
      "[nltk_data]   Package wordnet is already up-to-date!\n",
      "[nltk_data] Downloading package punkt_tab to /home/yhuang/nltk_data...\n",
      "[nltk_data]   Package punkt_tab is already up-to-date!\n",
      "[nltk_data] Downloading package omw-1.4 to /home/yhuang/nltk_data...\n",
      "[nltk_data]   Package omw-1.4 is already up-to-date!\n",
      "Evaluating metrics:   0%|          | 0/542 [00:00<?, ?it/s]Some weights of RobertaModel were not initialized from the model checkpoint at roberta-large and are newly initialized: ['pooler.dense.bias', 'pooler.dense.weight']\n",
      "You should probably TRAIN this model on a down-stream task to be able to use it for predictions and inference.\n",
      "Evaluating metrics: 100%|██████████| 542/542 [45:41<00:00,  5.06s/it]\n"
     ]
    }
   ],
   "source": [
    "scores_UND = evaluate_long_answer_all_metrics(\n",
    "    dataset=UND,\n",
    "    pred_col=\"model_long_answer\",\n",
    "    ref_col=\"long_answer\"\n",
    ")\n",
    "\n",
    "scores_FS = evaluate_long_answer_all_metrics(\n",
    "    dataset=FS,\n",
    "    pred_col=\"model_long_answer\",\n",
    "    ref_col=\"long_answer\"\n",
    ")"
   ]
  },
  {
   "cell_type": "code",
   "execution_count": 34,
   "metadata": {
    "colab": {
     "referenced_widgets": [
      "2e25f0dea49340beb7e40115b7ca1655",
      "e42bb2573fe64f97b5d40b9f5328fec8"
     ]
    },
    "id": "9unSZvaV5giW",
    "outputId": "f2b8153b-85b2-4430-f9f2-f1331e3a6ba7"
   },
   "outputs": [
    {
     "data": {
      "application/vnd.jupyter.widget-view+json": {
       "model_id": "aab1b481d628490f82eca9e6ca959a73",
       "version_major": 2,
       "version_minor": 0
      },
      "text/plain": [
       "Creating json from Arrow format:   0%|          | 0/1 [00:00<?, ?ba/s]"
      ]
     },
     "metadata": {},
     "output_type": "display_data"
    },
    {
     "data": {
      "application/vnd.jupyter.widget-view+json": {
       "model_id": "e78fe2177c374b8789468988db28477c",
       "version_major": 2,
       "version_minor": 0
      },
      "text/plain": [
       "Creating json from Arrow format:   0%|          | 0/1 [00:00<?, ?ba/s]"
      ]
     },
     "metadata": {},
     "output_type": "display_data"
    },
    {
     "data": {
      "text/plain": [
       "3576852"
      ]
     },
     "execution_count": 34,
     "metadata": {},
     "output_type": "execute_result"
    }
   ],
   "source": [
    "# 合并\n",
    "UND_with_most_metrics = add_scores_to_dataset(UND, scores_UND)\n",
    "FS_with_most_metrics = add_scores_to_dataset(FS, scores_FS)\n",
    "\n",
    "# 保存为新 jsonl（可选）\n",
    "UND_with_most_metrics.to_json(\"BASELINE_GoogleNQ_UND_gpt_with_most_metrics.jsonl\")\n",
    "FS_with_most_metrics.to_json(\"BASELINE_GoogleNQ_FS_gpt_with_most_metrics.jsonl\")"
   ]
  },
  {
   "cell_type": "code",
   "execution_count": 35,
   "metadata": {
    "id": "XIIwVgNc5giW",
    "outputId": "b5eeec41-a6f5-4b57-8ff6-a712c5e3685e"
   },
   "outputs": [
    {
     "name": "stdout",
     "output_type": "stream",
     "text": [
      "\n",
      "T-test results between UND and FS:\n",
      "\n",
      "BERTSCORE  | t =  1.382 | p = 0.1672 | not significant\n",
      "BLEU       | t =  2.514 | p = 0.0121 | significant\n",
      "METEOR     | t =  2.117 | p = 0.0345 | significant\n",
      "ROUGE      | t =  3.208 | p = 0.0014 | significant\n"
     ]
    }
   ],
   "source": [
    "t_test_metrics(scores_FS, scores_UND, label_1=\"UND\", label_2=\"FS\")"
   ]
  },
  {
   "cell_type": "code",
   "execution_count": 36,
   "metadata": {
    "id": "OqbF1K-A5giW",
    "outputId": "43f3de72-798e-4854-c062-fe9cd0de94dc"
   },
   "outputs": [
    {
     "name": "stderr",
     "output_type": "stream",
     "text": [
      "/home/yhuang/sglang-venv-2/lib/python3.11/site-packages/seaborn/axisgrid.py:123: UserWarning: The figure layout has changed to tight\n",
      "  self._figure.tight_layout(*args, **kwargs)\n",
      "/scratch-local/yhuang.14598269/ipykernel_2864419/3514377990.py:117: UserWarning: The figure layout has changed to tight\n",
      "  plt.tight_layout()\n"
     ]
    },
    {
     "data": {
      "image/png": "[encoded data removed]",
      "text/plain": [
       "<IPython.core.display.Image object>"
      ]
     },
     "execution_count": 36,
     "metadata": {},
     "output_type": "execute_result"
    }
   ],
   "source": [
    "plot_metric_distributions(scores_UND, scores_FS, label_1=\"Underspecified\", label_2=\"Fully Specified\", filename=\"BASELINE_Google_NQ_metric_plot_gpt.png\")"
   ]
  },
  {
   "cell_type": "code",
   "execution_count": 37,
   "metadata": {
    "id": "Ct0Dz4m796GC"
   },
   "outputs": [],
   "source": [
    "df = pd.read_json(\"BASELINE_GoogleNQ_UND_gpt_with_most_metrics.jsonl\", lines=True)\n",
    "df.to_csv('BASELINE_GoogleNQ_UND_gpt_with_most_metrics.csv')\n",
    "df = pd.read_json(\"BASELINE_GoogleNQ_FS_gpt_with_most_metrics.jsonl\", lines=True)\n",
    "df.to_csv('BASELINE_GoogleNQ_FS_gpt_with_most_metrics.csv')"
   ]
  },
  {
   "cell_type": "code",
   "execution_count": 2,
   "metadata": {},
   "outputs": [
    {
     "data": {
      "application/vnd.jupyter.widget-view+json": {
       "model_id": "f5ecfd09cfba4a4493f199733a50b290",
       "version_major": 2,
       "version_minor": 0
      },
      "text/plain": [
       "Generating train split: 0 examples [00:00, ? examples/s]"
      ]
     },
     "metadata": {},
     "output_type": "display_data"
    },
    {
     "data": {
      "application/vnd.jupyter.widget-view+json": {
       "model_id": "3143c7d16eba45a58c17d4da34a704e1",
       "version_major": 2,
       "version_minor": 0
      },
      "text/plain": [
       "Generating train split: 0 examples [00:00, ? examples/s]"
      ]
     },
     "metadata": {},
     "output_type": "display_data"
    }
   ],
   "source": [
    "UND_full = load_dataset(\n",
    "    \"json\",\n",
    "    data_files=\"BASELINE_GoogleNQ_UND_gpt_with_most_metrics.jsonl\",\n",
    "    split=\"train\"  # 必须指定 split，否则默认返回 DatasetDict\n",
    ")\n",
    "\n",
    "FS_full = load_dataset(\n",
    "    \"json\",\n",
    "    data_files=\"BASELINE_GoogleNQ_FS_gpt_with_most_metrics.jsonl\",\n",
    "    split=\"train\"\n",
    ")"
   ]
  },
  {
   "cell_type": "code",
   "execution_count": 3,
   "metadata": {},
   "outputs": [
    {
     "name": "stdout",
     "output_type": "stream",
     "text": [
      "gpt_4o Google NQ UND qa average BLEU: 0.019053965891703058\n",
      "gpt_4o Google NQ FS qa average BLEU: 0.023032879204428043\n",
      "gpt_4o Google NQ UND qa average METEOR: 0.23435758013973798\n",
      "gpt_4o Google NQ FS qa average METEOR: 0.24750715377804433\n",
      "gpt_4o Google NQ UND qa average ROUGE: 0.12360671846266374\n",
      "gpt_4o Google NQ FS qa average ROUGE: 0.13550989616623615\n",
      "gpt_4o Google NQ UND qa average BERTSCORE: 0.8089879748613538\n",
      "gpt_4o Google NQ FS qa average BERTSCORE: 0.8117569594822879\n"
     ]
    }
   ],
   "source": [
    "print(f'gpt_4o Google NQ UND qa average BLEU: {np.mean(UND_full[\"bleu\"])}')\n",
    "print(f'gpt_4o Google NQ FS qa average BLEU: {np.mean(FS_full[\"bleu\"])}')\n",
    "print(f'gpt_4o Google NQ UND qa average METEOR: {np.mean(UND_full[\"meteor\"])}')\n",
    "print(f'gpt_4o Google NQ FS qa average METEOR: {np.mean(FS_full[\"meteor\"])}')\n",
    "print(f'gpt_4o Google NQ UND qa average ROUGE: {np.mean(UND_full[\"rouge\"])}')\n",
    "print(f'gpt_4o Google NQ FS qa average ROUGE: {np.mean(FS_full[\"rouge\"])}')\n",
    "print(f'gpt_4o Google NQ UND qa average BERTSCORE: {np.mean(UND_full[\"bertscore\"])}')\n",
    "print(f'gpt_4o Google NQ FS qa average BERTSCORE: {np.mean(FS_full[\"bertscore\"])}')"
   ]
  },
  {
   "cell_type": "code",
   "execution_count": 4,
   "metadata": {},
   "outputs": [
    {
     "name": "stdout",
     "output_type": "stream",
     "text": [
      "gpt_4o Google NQ UND qa EM SD: 0.3905307338919016\n",
      "gpt_4o Google NQ FS qa EM SD: 0.46397720469372417\n",
      "gpt_4o Google NQ UND qa F1 SD: 0.375792454605358\n",
      "gpt_4o Google NQ FS qa F1 SD: 0.40970595875810145\n"
     ]
    }
   ],
   "source": [
    "print(f'gpt_4o Google NQ UND qa EM SD: {np.std(UND_full[\"em\"])}')\n",
    "print(f'gpt_4o Google NQ FS qa EM SD: {np.std(FS_full[\"em\"])}')\n",
    "print(f'gpt_4o Google NQ UND qa F1 SD: {np.std(UND_full[\"f1\"])}')\n",
    "print(f'gpt_4o Google NQ FS qa F1 SD: {np.std(FS_full[\"f1\"])}')"
   ]
  },
  {
   "cell_type": "code",
   "execution_count": 8,
   "metadata": {},
   "outputs": [
    {
     "name": "stdout",
     "output_type": "stream",
     "text": [
      "gpt_4o Google NQ UND qa BLEU SD: 2.4\n",
      "gpt_4o Google NQ FS qa BLEU SD: 2.6\n",
      "gpt_4o Google NQ UND qa METEOR SD: 9.5\n",
      "gpt_4o Google NQ FS qa METEOR SD: 10.1\n",
      "gpt_4o Google NQ UND qa ROUGE SD: 5.7\n",
      "gpt_4o Google NQ FS qa ROUGE SD: 6.0\n",
      "gpt_4o Google NQ UND qa BERTSCORE SD: 3.0\n",
      "gpt_4o Google NQ FS qa BERTSCORE SD: 3.3\n"
     ]
    }
   ],
   "source": [
    "print(f'gpt_4o Google NQ UND qa BLEU SD: {np.std(UND_full[\"bleu\"]) * 100:.1f}')\n",
    "print(f'gpt_4o Google NQ FS qa BLEU SD: {np.std(FS_full[\"bleu\"])* 100:.1f}')\n",
    "print(f'gpt_4o Google NQ UND qa METEOR SD: {np.std(UND_full[\"meteor\"])* 100:.1f}')\n",
    "print(f'gpt_4o Google NQ FS qa METEOR SD: {np.std(FS_full[\"meteor\"])* 100:.1f}')\n",
    "print(f'gpt_4o Google NQ UND qa ROUGE SD: {np.std(UND_full[\"rouge\"])* 100:.1f}')\n",
    "print(f'gpt_4o Google NQ FS qa ROUGE SD: {np.std(FS_full[\"rouge\"])* 100:.1f}')\n",
    "print(f'gpt_4o Google NQ UND qa BERTSCORE SD: {np.std(UND_full[\"bertscore\"])* 100:.1f}')\n",
    "print(f'gpt_4o Google NQ FS qa BERTSCORE SD: {np.std(FS_full[\"bertscore\"])* 100:.1f}')"
   ]
  },
  {
   "cell_type": "code",
   "execution_count": 28,
   "metadata": {},
   "outputs": [],
   "source": [
    "def welch_df(n1, sd1, n2, sd2):\n",
    "    var1 = sd1**2\n",
    "    var2 = sd2**2\n",
    "    numerator = (var1/n1 + var2/n2)**2\n",
    "    denominator = ((var1/n1)**2)/(n1 - 1) + ((var2/n2)**2)/(n2 - 1)\n",
    "    return numerator / denominator"
   ]
  },
  {
   "cell_type": "code",
   "execution_count": 29,
   "metadata": {},
   "outputs": [
    {
     "data": {
      "text/plain": [
       "698.4565580903487"
      ]
     },
     "execution_count": 29,
     "metadata": {},
     "output_type": "execute_result"
    }
   ],
   "source": [
    "welch_df(300, np.std(UND_full[\"em\"]), 700, np.std(FS_full[\"em\"]))"
   ]
  },
  {
   "cell_type": "code",
   "execution_count": 30,
   "metadata": {},
   "outputs": [
    {
     "data": {
      "text/plain": [
       "625.5775505065059"
      ]
     },
     "execution_count": 30,
     "metadata": {},
     "output_type": "execute_result"
    }
   ],
   "source": [
    "welch_df(300, np.std(UND_full[\"f1\"]), 700, np.std(FS_full[\"f1\"]))"
   ]
  },
  {
   "cell_type": "markdown",
   "metadata": {},
   "source": [
    "### Ragas evaluation"
   ]
  },
  {
   "cell_type": "code",
   "execution_count": 2,
   "metadata": {},
   "outputs": [
    {
     "data": {
      "application/vnd.jupyter.widget-view+json": {
       "model_id": "90585096aa3d40919e17fbb9b8da49ab",
       "version_major": 2,
       "version_minor": 0
      },
      "text/plain": [
       "Generating train split: 0 examples [00:00, ? examples/s]"
      ]
     },
     "metadata": {},
     "output_type": "display_data"
    },
    {
     "data": {
      "application/vnd.jupyter.widget-view+json": {
       "model_id": "08b712296a8543b595c0d0915e30df5c",
       "version_major": 2,
       "version_minor": 0
      },
      "text/plain": [
       "Generating train split: 0 examples [00:00, ? examples/s]"
      ]
     },
     "metadata": {},
     "output_type": "display_data"
    }
   ],
   "source": [
    "evaluator_llm = LangchainLLMWrapper(ChatDeepSeek(model=\"deepseek-chat\", verbose=True, temperature=0))\n",
    "\n",
    "UND_full = load_dataset(\n",
    "    \"json\",\n",
    "    data_files=\"BASELINE_GoogleNQ_UND_gpt_with_most_metrics.jsonl\",\n",
    "    split=\"train\"  # 必须指定 split，否则默认返回 DatasetDict\n",
    ")\n",
    "\n",
    "FS_full = load_dataset(\n",
    "    \"json\",\n",
    "    data_files=\"BASELINE_GoogleNQ_FS_gpt_with_most_metrics.jsonl\",\n",
    "    split=\"train\"\n",
    ")"
   ]
  },
  {
   "cell_type": "code",
   "execution_count": 3,
   "metadata": {},
   "outputs": [],
   "source": [
    "async def answer_accuracy(input_dataset, long_answer=False, evaluator=evaluator_llm):\n",
    "    # 在函数开始时创建一次 scorer\n",
    "    scorer = AnswerAccuracy(llm=evaluator)\n",
    "    \n",
    "    if long_answer:\n",
    "        score_list_long = []\n",
    "        score_list_short = []\n",
    "        \n",
    "        for i, row in enumerate(tqdm(input_dataset, desc=\"Calculating short and long answer accuracy\")):\n",
    "            try:\n",
    "                # 长答案评分\n",
    "                if 'model_long_answer' in row and 'long_answer' in row:\n",
    "                    sample_long = SingleTurnSample(\n",
    "                        user_input=row['question'],\n",
    "                        response=row['model_long_answer'],\n",
    "                        reference=row['long_answer']\n",
    "                    )\n",
    "                    score_long = await scorer.single_turn_ascore(sample_long)\n",
    "                    score_list_long.append(score_long)\n",
    "                else:\n",
    "                    score_list_long.append(0.0)\n",
    "\n",
    "                # 短答案评分 - 处理列表情况\n",
    "                if 'model_short_answer' in row and 'short_answers' in row:\n",
    "                    model_answers = row['model_short_answer'] if isinstance(row['model_short_answer'], list) else [row['model_short_answer']]\n",
    "                    reference_answers = row['short_answers'] if isinstance(row['short_answers'], list) else [row['short_answers']]\n",
    "                    \n",
    "                    # 计算所有组合的分数，取最高分\n",
    "                    max_score = 0.0\n",
    "                    for model_ans in model_answers:\n",
    "                        for ref_ans in reference_answers:\n",
    "                            sample_short = SingleTurnSample(\n",
    "                                user_input=row['question'],\n",
    "                                response=model_ans,\n",
    "                                reference=ref_ans\n",
    "                            )\n",
    "                            score = await scorer.single_turn_ascore(sample_short)\n",
    "                            max_score = max(max_score, score)\n",
    "                    \n",
    "                    score_list_short.append(max_score)\n",
    "                else:\n",
    "                    score_list_short.append(0.0)\n",
    "                \n",
    "            except Exception as e:\n",
    "                print(f\"处理第 {i+1} 个样本时出错: {e}\")\n",
    "                score_list_long.append(0.0)\n",
    "                score_list_short.append(0.0)\n",
    "\n",
    "        ragas_scored_dataset = input_dataset.add_column(\"ragas_AA_long\", score_list_long)\n",
    "        ragas_scored_dataset = ragas_scored_dataset.add_column(\"ragas_AA_short\", score_list_short)\n",
    "\n",
    "        return ragas_scored_dataset\n",
    "    else:\n",
    "        score_list = []\n",
    "        \n",
    "        for i, row in enumerate(tqdm(input_dataset, desc=\"Calculating short answer accuracy\")):\n",
    "            try:\n",
    "                # 短答案评分 - 处理列表情况\n",
    "                if 'model_short_answer' in row and 'short_answers' in row:\n",
    "                    model_answers = row['model_short_answer'] if isinstance(row['model_short_answer'], list) else [row['model_short_answer']]\n",
    "                    reference_answers = row['short_answers'] if isinstance(row['short_answers'], list) else [row['short_answers']]\n",
    "                    \n",
    "                    # 计算所有组合的分数，取最高分\n",
    "                    max_score = 0.0\n",
    "                    for model_ans in model_answers:\n",
    "                        for ref_ans in reference_answers:\n",
    "                            sample = SingleTurnSample(\n",
    "                                user_input=row['question'],\n",
    "                                response=model_ans,\n",
    "                                reference=ref_ans\n",
    "                            )\n",
    "                            score = await scorer.single_turn_ascore(sample)\n",
    "                            max_score = max(max_score, score)\n",
    "                    \n",
    "                    score_list.append(max_score)\n",
    "                else:\n",
    "                    score_list.append(0.0)\n",
    "                \n",
    "            except Exception as e:\n",
    "                print(f\"处理第 {i+1} 个样本时出错: {e}\")\n",
    "                score_list.append(0.0)\n",
    "\n",
    "        ragas_scored_dataset = input_dataset.add_column(\"ragas_AA_short\", score_list)\n",
    "\n",
    "        return ragas_scored_dataset"
   ]
  },
  {
   "cell_type": "code",
   "execution_count": 4,
   "metadata": {},
   "outputs": [
    {
     "name": "stderr",
     "output_type": "stream",
     "text": [
      "Calculating short answer accuracy: 100%|██████████| 458/458 [3:18:46<00:00, 26.04s/it]     \n"
     ]
    },
    {
     "data": {
      "application/vnd.jupyter.widget-view+json": {
       "model_id": "32f3d3ecf4fb43988c9df90d112af394",
       "version_major": 2,
       "version_minor": 0
      },
      "text/plain": [
       "Creating CSV from Arrow format:   0%|          | 0/1 [00:00<?, ?ba/s]"
      ]
     },
     "metadata": {},
     "output_type": "display_data"
    },
    {
     "data": {
      "text/plain": [
       "3082445"
      ]
     },
     "execution_count": 4,
     "metadata": {},
     "output_type": "execute_result"
    }
   ],
   "source": [
    "UND_ragas = await answer_accuracy(UND_full)\n",
    "UND_ragas.to_csv(\"GoogleNQ_UND_gpt4o_Ragas.csv\")"
   ]
  },
  {
   "cell_type": "code",
   "execution_count": 5,
   "metadata": {},
   "outputs": [
    {
     "name": "stderr",
     "output_type": "stream",
     "text": [
      "Calculating short answer accuracy: 100%|██████████| 542/542 [2:16:49<00:00, 15.15s/it]    \n"
     ]
    },
    {
     "data": {
      "application/vnd.jupyter.widget-view+json": {
       "model_id": "1525986d362445d298961d2177844349",
       "version_major": 2,
       "version_minor": 0
      },
      "text/plain": [
       "Creating CSV from Arrow format:   0%|          | 0/1 [00:00<?, ?ba/s]"
      ]
     },
     "metadata": {},
     "output_type": "display_data"
    },
    {
     "data": {
      "text/plain": [
       "3443871"
      ]
     },
     "execution_count": 5,
     "metadata": {},
     "output_type": "execute_result"
    }
   ],
   "source": [
    "FS_ragas = await answer_accuracy(FS_full)\n",
    "FS_ragas.to_csv(\"GoogleNQ_FS_gpt4o_Ragas.csv\")"
   ]
  },
  {
   "cell_type": "code",
   "execution_count": 6,
   "metadata": {},
   "outputs": [
    {
     "name": "stdout",
     "output_type": "stream",
     "text": [
      "UND AA (avg): 57.97\n",
      "FS AA (avg): 69.33\n",
      "AA: t=4.151, p=0.0000\n"
     ]
    }
   ],
   "source": [
    "UND_ragas_AA = list(UND_ragas[\"ragas_AA_short\"])\n",
    "FS_ragas_AA = list(FS_ragas[\"ragas_AA_short\"])\n",
    "\n",
    "UND_mean_AA = np.mean(UND_ragas_AA)\n",
    "print(f\"UND AA (avg): {UND_mean_AA * 100:.2f}\")\n",
    "\n",
    "\n",
    "FS_mean_AA = np.mean(FS_ragas_AA)\n",
    "print(f\"FS AA (avg): {FS_mean_AA * 100:.2f}\")\n",
    "\n",
    "AA_tstat, AA_pval = ttest_ind(FS_ragas_AA, UND_ragas_AA, equal_var=False)\n",
    "print(f\"AA: t={AA_tstat:.3f}, p={AA_pval:.4f}\")"
   ]
  }
 ],
 "metadata": {
  "colab": {
   "provenance": []
  },
  "kernelspec": {
   "display_name": ".venv",
   "language": "python",
   "name": "python3"
  },
  "language_info": {
   "codemirror_mode": {
    "name": "ipython",
    "version": 3
   },
   "file_extension": ".py",
   "mimetype": "text/x-python",
   "name": "python",
   "nbconvert_exporter": "python",
   "pygments_lexer": "ipython3",
   "version": "3.13.7"
  },
  "widgets": {
   "application/vnd.jupyter.widget-state+json": {
    "0184f4d8199743fe8e2bf064ef55550b": {
     "model_module": "@jupyter-widgets/base",
     "model_module_version": "1.2.0",
     "model_name": "LayoutModel",
     "state": {
      "_model_module": "@jupyter-widgets/base",
      "_model_module_version": "1.2.0",
      "_model_name": "LayoutModel",
      "_view_count": null,
      "_view_module": "@jupyter-widgets/base",
      "_view_module_version": "1.2.0",
      "_view_name": "LayoutView",
      "align_content": null,
      "align_items": null,
      "align_self": null,
      "border": null,
      "bottom": null,
      "display": null,
      "flex": null,
      "flex_flow": null,
      "grid_area": null,
      "grid_auto_columns": null,
      "grid_auto_flow": null,
      "grid_auto_rows": null,
      "grid_column": null,
      "grid_gap": null,
      "grid_row": null,
      "grid_template_areas": null,
      "grid_template_columns": null,
      "grid_template_rows": null,
      "height": null,
      "justify_content": null,
      "justify_items": null,
      "left": null,
      "margin": null,
      "max_height": null,
      "max_width": null,
      "min_height": null,
      "min_width": null,
      "object_fit": null,
      "object_position": null,
      "order": null,
      "overflow": null,
      "overflow_x": null,
      "overflow_y": null,
      "padding": null,
      "right": null,
      "top": null,
      "visibility": null,
      "width": null
     }
    },
    "018f231db99d4371ac836070d716cb10": {
     "model_module": "@jupyter-widgets/base",
     "model_module_version": "1.2.0",
     "model_name": "LayoutModel",
     "state": {
      "_model_module": "@jupyter-widgets/base",
      "_model_module_version": "1.2.0",
      "_model_name": "LayoutModel",
      "_view_count": null,
      "_view_module": "@jupyter-widgets/base",
      "_view_module_version": "1.2.0",
      "_view_name": "LayoutView",
      "align_content": null,
      "align_items": null,
      "align_self": null,
      "border": null,
      "bottom": null,
      "display": null,
      "flex": null,
      "flex_flow": null,
      "grid_area": null,
      "grid_auto_columns": null,
      "grid_auto_flow": null,
      "grid_auto_rows": null,
      "grid_column": null,
      "grid_gap": null,
      "grid_row": null,
      "grid_template_areas": null,
      "grid_template_columns": null,
      "grid_template_rows": null,
      "height": null,
      "justify_content": null,
      "justify_items": null,
      "left": null,
      "margin": null,
      "max_height": null,
      "max_width": null,
      "min_height": null,
      "min_width": null,
      "object_fit": null,
      "object_position": null,
      "order": null,
      "overflow": null,
      "overflow_x": null,
      "overflow_y": null,
      "padding": null,
      "right": null,
      "top": null,
      "visibility": null,
      "width": null
     }
    },
    "022258dafc5442a09e3f855a7941701d": {
     "model_module": "@jupyter-widgets/controls",
     "model_module_version": "1.5.0",
     "model_name": "FloatProgressModel",
     "state": {
      "_dom_classes": [],
      "_model_module": "@jupyter-widgets/controls",
      "_model_module_version": "1.5.0",
      "_model_name": "FloatProgressModel",
      "_view_count": null,
      "_view_module": "@jupyter-widgets/controls",
      "_view_module_version": "1.5.0",
      "_view_name": "ProgressView",
      "bar_style": "success",
      "description": "",
      "description_tooltip": null,
      "layout": "IPY_MODEL_51b4570f898946b08df4c06c6fc5abb9",
      "max": 185560593,
      "min": 0,
      "orientation": "horizontal",
      "style": "IPY_MODEL_5901cc7a4baa4abf86317f8720a4144e",
      "value": 185560593
     }
    },
    "04ab3daac680430594faf3597123a11c": {
     "model_module": "@jupyter-widgets/base",
     "model_module_version": "1.2.0",
     "model_name": "LayoutModel",
     "state": {
      "_model_module": "@jupyter-widgets/base",
      "_model_module_version": "1.2.0",
      "_model_name": "LayoutModel",
      "_view_count": null,
      "_view_module": "@jupyter-widgets/base",
      "_view_module_version": "1.2.0",
      "_view_name": "LayoutView",
      "align_content": null,
      "align_items": null,
      "align_self": null,
      "border": null,
      "bottom": null,
      "display": null,
      "flex": null,
      "flex_flow": null,
      "grid_area": null,
      "grid_auto_columns": null,
      "grid_auto_flow": null,
      "grid_auto_rows": null,
      "grid_column": null,
      "grid_gap": null,
      "grid_row": null,
      "grid_template_areas": null,
      "grid_template_columns": null,
      "grid_template_rows": null,
      "height": null,
      "justify_content": null,
      "justify_items": null,
      "left": null,
      "margin": null,
      "max_height": null,
      "max_width": null,
      "min_height": null,
      "min_width": null,
      "object_fit": null,
      "object_position": null,
      "order": null,
      "overflow": null,
      "overflow_x": null,
      "overflow_y": null,
      "padding": null,
      "right": null,
      "top": null,
      "visibility": null,
      "width": null
     }
    },
    "051bbc68bfcb4ce982b953e47ebb0a81": {
     "model_module": "@jupyter-widgets/controls",
     "model_module_version": "1.5.0",
     "model_name": "FloatProgressModel",
     "state": {
      "_dom_classes": [],
      "_model_module": "@jupyter-widgets/controls",
      "_model_module_version": "1.5.0",
      "_model_name": "FloatProgressModel",
      "_view_count": null,
      "_view_module": "@jupyter-widgets/controls",
      "_view_module_version": "1.5.0",
      "_view_name": "ProgressView",
      "bar_style": "success",
      "description": "",
      "description_tooltip": null,
      "layout": "IPY_MODEL_6106d750d3d842ff82bf6759f5397700",
      "max": 190204549,
      "min": 0,
      "orientation": "horizontal",
      "style": "IPY_MODEL_c7aa060f428d42289b706534d8aaa8df",
      "value": 190204549
     }
    },
    "07b80897917549e0a938a114e4f85e70": {
     "model_module": "@jupyter-widgets/controls",
     "model_module_version": "1.5.0",
     "model_name": "HTMLModel",
     "state": {
      "_dom_classes": [],
      "_model_module": "@jupyter-widgets/controls",
      "_model_module_version": "1.5.0",
      "_model_name": "HTMLModel",
      "_view_count": null,
      "_view_module": "@jupyter-widgets/controls",
      "_view_module_version": "1.5.0",
      "_view_name": "HTMLView",
      "description": "",
      "description_tooltip": null,
      "layout": "IPY_MODEL_9a548e55f0e347748bd372150d250754",
      "placeholder": "​",
      "style": "IPY_MODEL_97b94572c1cd4da78eecdd157059854d",
      "value": "validation-00003-of-00007.parquet: 100%"
     }
    },
    "083326adb7724883897f3f967ee37173": {
     "model_module": "@jupyter-widgets/controls",
     "model_module_version": "1.5.0",
     "model_name": "DescriptionStyleModel",
     "state": {
      "_model_module": "@jupyter-widgets/controls",
      "_model_module_version": "1.5.0",
      "_model_name": "DescriptionStyleModel",
      "_view_count": null,
      "_view_module": "@jupyter-widgets/base",
      "_view_module_version": "1.2.0",
      "_view_name": "StyleView",
      "description_width": ""
     }
    },
    "08ce7fdbd266473b8532392bd07de276": {
     "model_module": "@jupyter-widgets/controls",
     "model_module_version": "1.5.0",
     "model_name": "HTMLModel",
     "state": {
      "_dom_classes": [],
      "_model_module": "@jupyter-widgets/controls",
      "_model_module_version": "1.5.0",
      "_model_name": "HTMLModel",
      "_view_count": null,
      "_view_module": "@jupyter-widgets/controls",
      "_view_module_version": "1.5.0",
      "_view_name": "HTMLView",
      "description": "",
      "description_tooltip": null,
      "layout": "IPY_MODEL_e1d47f4120b0482c8eb079e30b64e637",
      "placeholder": "​",
      "style": "IPY_MODEL_61e17f4cd0fb49d9bf3dfe05482c6cdb",
      "value": " 186M/186M [00:01&lt;00:00, 195MB/s]"
     }
    },
    "0f9001127ce0464c97cd600c4571acbe": {
     "model_module": "@jupyter-widgets/controls",
     "model_module_version": "1.5.0",
     "model_name": "HTMLModel",
     "state": {
      "_dom_classes": [],
      "_model_module": "@jupyter-widgets/controls",
      "_model_module_version": "1.5.0",
      "_model_name": "HTMLModel",
      "_view_count": null,
      "_view_module": "@jupyter-widgets/controls",
      "_view_module_version": "1.5.0",
      "_view_name": "HTMLView",
      "description": "",
      "description_tooltip": null,
      "layout": "IPY_MODEL_332e9a659aa34b3cb29738a84b5975ce",
      "placeholder": "​",
      "style": "IPY_MODEL_6730499a9713411f90ed06c469a13242",
      "value": "README.md: 100%"
     }
    },
    "0fb6e047fdc7455498d8dd1472d226b7": {
     "model_module": "@jupyter-widgets/controls",
     "model_module_version": "1.5.0",
     "model_name": "DescriptionStyleModel",
     "state": {
      "_model_module": "@jupyter-widgets/controls",
      "_model_module_version": "1.5.0",
      "_model_name": "DescriptionStyleModel",
      "_view_count": null,
      "_view_module": "@jupyter-widgets/base",
      "_view_module_version": "1.2.0",
      "_view_name": "StyleView",
      "description_width": ""
     }
    },
    "15246198e5f24bcd9502e26f3481f26c": {
     "model_module": "@jupyter-widgets/controls",
     "model_module_version": "1.5.0",
     "model_name": "HTMLModel",
     "state": {
      "_dom_classes": [],
      "_model_module": "@jupyter-widgets/controls",
      "_model_module_version": "1.5.0",
      "_model_name": "HTMLModel",
      "_view_count": null,
      "_view_module": "@jupyter-widgets/controls",
      "_view_module_version": "1.5.0",
      "_view_name": "HTMLView",
      "description": "",
      "description_tooltip": null,
      "layout": "IPY_MODEL_a375c1fb77004fa7bbc84183bd2d6480",
      "placeholder": "​",
      "style": "IPY_MODEL_4ccbaebefe5548a8aa8b14f1b2db92e5",
      "value": " 193M/193M [00:03&lt;00:00, 116MB/s]"
     }
    },
    "169c6480e22543c998d2a7559425f3d9": {
     "model_module": "@jupyter-widgets/controls",
     "model_module_version": "1.5.0",
     "model_name": "ProgressStyleModel",
     "state": {
      "_model_module": "@jupyter-widgets/controls",
      "_model_module_version": "1.5.0",
      "_model_name": "ProgressStyleModel",
      "_view_count": null,
      "_view_module": "@jupyter-widgets/base",
      "_view_module_version": "1.2.0",
      "_view_name": "StyleView",
      "bar_color": null,
      "description_width": ""
     }
    },
    "1cb27e24d7754e678c6a013967a60217": {
     "model_module": "@jupyter-widgets/controls",
     "model_module_version": "1.5.0",
     "model_name": "FloatProgressModel",
     "state": {
      "_dom_classes": [],
      "_model_module": "@jupyter-widgets/controls",
      "_model_module_version": "1.5.0",
      "_model_name": "FloatProgressModel",
      "_view_count": null,
      "_view_module": "@jupyter-widgets/controls",
      "_view_module_version": "1.5.0",
      "_view_name": "ProgressView",
      "bar_style": "success",
      "description": "",
      "description_tooltip": null,
      "layout": "IPY_MODEL_56633fcf42d444cd991d45ea6a918dd6",
      "max": 191104999,
      "min": 0,
      "orientation": "horizontal",
      "style": "IPY_MODEL_169c6480e22543c998d2a7559425f3d9",
      "value": 191104999
     }
    },
    "1de00b9993074b1988c99d03f5eb0660": {
     "model_module": "@jupyter-widgets/base",
     "model_module_version": "1.2.0",
     "model_name": "LayoutModel",
     "state": {
      "_model_module": "@jupyter-widgets/base",
      "_model_module_version": "1.2.0",
      "_model_name": "LayoutModel",
      "_view_count": null,
      "_view_module": "@jupyter-widgets/base",
      "_view_module_version": "1.2.0",
      "_view_name": "LayoutView",
      "align_content": null,
      "align_items": null,
      "align_self": null,
      "border": null,
      "bottom": null,
      "display": null,
      "flex": null,
      "flex_flow": null,
      "grid_area": null,
      "grid_auto_columns": null,
      "grid_auto_flow": null,
      "grid_auto_rows": null,
      "grid_column": null,
      "grid_gap": null,
      "grid_row": null,
      "grid_template_areas": null,
      "grid_template_columns": null,
      "grid_template_rows": null,
      "height": null,
      "justify_content": null,
      "justify_items": null,
      "left": null,
      "margin": null,
      "max_height": null,
      "max_width": null,
      "min_height": null,
      "min_width": null,
      "object_fit": null,
      "object_position": null,
      "order": null,
      "overflow": null,
      "overflow_x": null,
      "overflow_y": null,
      "padding": null,
      "right": null,
      "top": null,
      "visibility": null,
      "width": null
     }
    },
    "1f5bc7669fc64f28bbcd71ee99eb0ffe": {
     "model_module": "@jupyter-widgets/controls",
     "model_module_version": "1.5.0",
     "model_name": "DescriptionStyleModel",
     "state": {
      "_model_module": "@jupyter-widgets/controls",
      "_model_module_version": "1.5.0",
      "_model_name": "DescriptionStyleModel",
      "_view_count": null,
      "_view_module": "@jupyter-widgets/base",
      "_view_module_version": "1.2.0",
      "_view_name": "StyleView",
      "description_width": ""
     }
    },
    "1f96ec44394546b58ed9cc79d4385cc1": {
     "model_module": "@jupyter-widgets/controls",
     "model_module_version": "1.5.0",
     "model_name": "HTMLModel",
     "state": {
      "_dom_classes": [],
      "_model_module": "@jupyter-widgets/controls",
      "_model_module_version": "1.5.0",
      "_model_name": "HTMLModel",
      "_view_count": null,
      "_view_module": "@jupyter-widgets/controls",
      "_view_module_version": "1.5.0",
      "_view_name": "HTMLView",
      "description": "",
      "description_tooltip": null,
      "layout": "IPY_MODEL_5ba384f40b304eac9d5671547da9584d",
      "placeholder": "​",
      "style": "IPY_MODEL_4f5b9a3843024aa78fc1b1b463f6fcf9",
      "value": " 7830/7830 [00:33&lt;00:00, 244.39 examples/s]"
     }
    },
    "213dd7d460cf495ba331f701c5aeb9d7": {
     "model_module": "@jupyter-widgets/base",
     "model_module_version": "1.2.0",
     "model_name": "LayoutModel",
     "state": {
      "_model_module": "@jupyter-widgets/base",
      "_model_module_version": "1.2.0",
      "_model_name": "LayoutModel",
      "_view_count": null,
      "_view_module": "@jupyter-widgets/base",
      "_view_module_version": "1.2.0",
      "_view_name": "LayoutView",
      "align_content": null,
      "align_items": null,
      "align_self": null,
      "border": null,
      "bottom": null,
      "display": null,
      "flex": null,
      "flex_flow": null,
      "grid_area": null,
      "grid_auto_columns": null,
      "grid_auto_flow": null,
      "grid_auto_rows": null,
      "grid_column": null,
      "grid_gap": null,
      "grid_row": null,
      "grid_template_areas": null,
      "grid_template_columns": null,
      "grid_template_rows": null,
      "height": null,
      "justify_content": null,
      "justify_items": null,
      "left": null,
      "margin": null,
      "max_height": null,
      "max_width": null,
      "min_height": null,
      "min_width": null,
      "object_fit": null,
      "object_position": null,
      "order": null,
      "overflow": null,
      "overflow_x": null,
      "overflow_y": null,
      "padding": null,
      "right": null,
      "top": null,
      "visibility": null,
      "width": null
     }
    },
    "271df973f83d4f01b3899b604bdb0506": {
     "model_module": "@jupyter-widgets/controls",
     "model_module_version": "1.5.0",
     "model_name": "FloatProgressModel",
     "state": {
      "_dom_classes": [],
      "_model_module": "@jupyter-widgets/controls",
      "_model_module_version": "1.5.0",
      "_model_name": "FloatProgressModel",
      "_view_count": null,
      "_view_module": "@jupyter-widgets/controls",
      "_view_module_version": "1.5.0",
      "_view_name": "ProgressView",
      "bar_style": "success",
      "description": "",
      "description_tooltip": null,
      "layout": "IPY_MODEL_6bc3544d28ce4a38af0d4dd898015c31",
      "max": 192525840,
      "min": 0,
      "orientation": "horizontal",
      "style": "IPY_MODEL_59c8f12748be4e9cb442b9e20f66848d",
      "value": 192525840
     }
    },
    "27e27e57f6554e46bd90c2f24d575f08": {
     "model_module": "@jupyter-widgets/controls",
     "model_module_version": "1.5.0",
     "model_name": "ProgressStyleModel",
     "state": {
      "_model_module": "@jupyter-widgets/controls",
      "_model_module_version": "1.5.0",
      "_model_name": "ProgressStyleModel",
      "_view_count": null,
      "_view_module": "@jupyter-widgets/base",
      "_view_module_version": "1.2.0",
      "_view_name": "StyleView",
      "bar_color": null,
      "description_width": ""
     }
    },
    "290999defe7843ebb15bf9a842a0a8f6": {
     "model_module": "@jupyter-widgets/controls",
     "model_module_version": "1.5.0",
     "model_name": "DescriptionStyleModel",
     "state": {
      "_model_module": "@jupyter-widgets/controls",
      "_model_module_version": "1.5.0",
      "_model_name": "DescriptionStyleModel",
      "_view_count": null,
      "_view_module": "@jupyter-widgets/base",
      "_view_module_version": "1.2.0",
      "_view_name": "StyleView",
      "description_width": ""
     }
    },
    "2c24bde4f345431bb00a22df858ca2eb": {
     "model_module": "@jupyter-widgets/base",
     "model_module_version": "1.2.0",
     "model_name": "LayoutModel",
     "state": {
      "_model_module": "@jupyter-widgets/base",
      "_model_module_version": "1.2.0",
      "_model_name": "LayoutModel",
      "_view_count": null,
      "_view_module": "@jupyter-widgets/base",
      "_view_module_version": "1.2.0",
      "_view_name": "LayoutView",
      "align_content": null,
      "align_items": null,
      "align_self": null,
      "border": null,
      "bottom": null,
      "display": null,
      "flex": null,
      "flex_flow": null,
      "grid_area": null,
      "grid_auto_columns": null,
      "grid_auto_flow": null,
      "grid_auto_rows": null,
      "grid_column": null,
      "grid_gap": null,
      "grid_row": null,
      "grid_template_areas": null,
      "grid_template_columns": null,
      "grid_template_rows": null,
      "height": null,
      "justify_content": null,
      "justify_items": null,
      "left": null,
      "margin": null,
      "max_height": null,
      "max_width": null,
      "min_height": null,
      "min_width": null,
      "object_fit": null,
      "object_position": null,
      "order": null,
      "overflow": null,
      "overflow_x": null,
      "overflow_y": null,
      "padding": null,
      "right": null,
      "top": null,
      "visibility": null,
      "width": null
     }
    },
    "2e6507e8bc454e4cbf818da8ad372278": {
     "model_module": "@jupyter-widgets/controls",
     "model_module_version": "1.5.0",
     "model_name": "HTMLModel",
     "state": {
      "_dom_classes": [],
      "_model_module": "@jupyter-widgets/controls",
      "_model_module_version": "1.5.0",
      "_model_name": "HTMLModel",
      "_view_count": null,
      "_view_module": "@jupyter-widgets/controls",
      "_view_module_version": "1.5.0",
      "_view_name": "HTMLView",
      "description": "",
      "description_tooltip": null,
      "layout": "IPY_MODEL_cd275c015005459f90b9c770c8de94b5",
      "placeholder": "​",
      "style": "IPY_MODEL_b07288d33d2548f28d968030e112ae3c",
      "value": " 287/287 [00:00&lt;00:00, 86.68it/s]"
     }
    },
    "308ba00cb7b64afab192849171cb2057": {
     "model_module": "@jupyter-widgets/base",
     "model_module_version": "1.2.0",
     "model_name": "LayoutModel",
     "state": {
      "_model_module": "@jupyter-widgets/base",
      "_model_module_version": "1.2.0",
      "_model_name": "LayoutModel",
      "_view_count": null,
      "_view_module": "@jupyter-widgets/base",
      "_view_module_version": "1.2.0",
      "_view_name": "LayoutView",
      "align_content": null,
      "align_items": null,
      "align_self": null,
      "border": null,
      "bottom": null,
      "display": null,
      "flex": null,
      "flex_flow": null,
      "grid_area": null,
      "grid_auto_columns": null,
      "grid_auto_flow": null,
      "grid_auto_rows": null,
      "grid_column": null,
      "grid_gap": null,
      "grid_row": null,
      "grid_template_areas": null,
      "grid_template_columns": null,
      "grid_template_rows": null,
      "height": null,
      "justify_content": null,
      "justify_items": null,
      "left": null,
      "margin": null,
      "max_height": null,
      "max_width": null,
      "min_height": null,
      "min_width": null,
      "object_fit": null,
      "object_position": null,
      "order": null,
      "overflow": null,
      "overflow_x": null,
      "overflow_y": null,
      "padding": null,
      "right": null,
      "top": null,
      "visibility": null,
      "width": null
     }
    },
    "332e9a659aa34b3cb29738a84b5975ce": {
     "model_module": "@jupyter-widgets/base",
     "model_module_version": "1.2.0",
     "model_name": "LayoutModel",
     "state": {
      "_model_module": "@jupyter-widgets/base",
      "_model_module_version": "1.2.0",
      "_model_name": "LayoutModel",
      "_view_count": null,
      "_view_module": "@jupyter-widgets/base",
      "_view_module_version": "1.2.0",
      "_view_name": "LayoutView",
      "align_content": null,
      "align_items": null,
      "align_self": null,
      "border": null,
      "bottom": null,
      "display": null,
      "flex": null,
      "flex_flow": null,
      "grid_area": null,
      "grid_auto_columns": null,
      "grid_auto_flow": null,
      "grid_auto_rows": null,
      "grid_column": null,
      "grid_gap": null,
      "grid_row": null,
      "grid_template_areas": null,
      "grid_template_columns": null,
      "grid_template_rows": null,
      "height": null,
      "justify_content": null,
      "justify_items": null,
      "left": null,
      "margin": null,
      "max_height": null,
      "max_width": null,
      "min_height": null,
      "min_width": null,
      "object_fit": null,
      "object_position": null,
      "order": null,
      "overflow": null,
      "overflow_x": null,
      "overflow_y": null,
      "padding": null,
      "right": null,
      "top": null,
      "visibility": null,
      "width": null
     }
    },
    "37a5cb0ce3a449aca402ab53d12c1903": {
     "model_module": "@jupyter-widgets/base",
     "model_module_version": "1.2.0",
     "model_name": "LayoutModel",
     "state": {
      "_model_module": "@jupyter-widgets/base",
      "_model_module_version": "1.2.0",
      "_model_name": "LayoutModel",
      "_view_count": null,
      "_view_module": "@jupyter-widgets/base",
      "_view_module_version": "1.2.0",
      "_view_name": "LayoutView",
      "align_content": null,
      "align_items": null,
      "align_self": null,
      "border": null,
      "bottom": null,
      "display": null,
      "flex": null,
      "flex_flow": null,
      "grid_area": null,
      "grid_auto_columns": null,
      "grid_auto_flow": null,
      "grid_auto_rows": null,
      "grid_column": null,
      "grid_gap": null,
      "grid_row": null,
      "grid_template_areas": null,
      "grid_template_columns": null,
      "grid_template_rows": null,
      "height": null,
      "justify_content": null,
      "justify_items": null,
      "left": null,
      "margin": null,
      "max_height": null,
      "max_width": null,
      "min_height": null,
      "min_width": null,
      "object_fit": null,
      "object_position": null,
      "order": null,
      "overflow": null,
      "overflow_x": null,
      "overflow_y": null,
      "padding": null,
      "right": null,
      "top": null,
      "visibility": null,
      "width": null
     }
    },
    "390955a40ff3466a8035ec045ba07b6e": {
     "model_module": "@jupyter-widgets/controls",
     "model_module_version": "1.5.0",
     "model_name": "ProgressStyleModel",
     "state": {
      "_model_module": "@jupyter-widgets/controls",
      "_model_module_version": "1.5.0",
      "_model_name": "ProgressStyleModel",
      "_view_count": null,
      "_view_module": "@jupyter-widgets/base",
      "_view_module_version": "1.2.0",
      "_view_name": "StyleView",
      "bar_color": null,
      "description_width": ""
     }
    },
    "3e363ef5a3d140b4b801d8bde323bf7f": {
     "model_module": "@jupyter-widgets/base",
     "model_module_version": "1.2.0",
     "model_name": "LayoutModel",
     "state": {
      "_model_module": "@jupyter-widgets/base",
      "_model_module_version": "1.2.0",
      "_model_name": "LayoutModel",
      "_view_count": null,
      "_view_module": "@jupyter-widgets/base",
      "_view_module_version": "1.2.0",
      "_view_name": "LayoutView",
      "align_content": null,
      "align_items": null,
      "align_self": null,
      "border": null,
      "bottom": null,
      "display": null,
      "flex": null,
      "flex_flow": null,
      "grid_area": null,
      "grid_auto_columns": null,
      "grid_auto_flow": null,
      "grid_auto_rows": null,
      "grid_column": null,
      "grid_gap": null,
      "grid_row": null,
      "grid_template_areas": null,
      "grid_template_columns": null,
      "grid_template_rows": null,
      "height": null,
      "justify_content": null,
      "justify_items": null,
      "left": null,
      "margin": null,
      "max_height": null,
      "max_width": null,
      "min_height": null,
      "min_width": null,
      "object_fit": null,
      "object_position": null,
      "order": null,
      "overflow": null,
      "overflow_x": null,
      "overflow_y": null,
      "padding": null,
      "right": null,
      "top": null,
      "visibility": null,
      "width": null
     }
    },
    "4228c3b0865c417498f35a5ffdd76ce4": {
     "model_module": "@jupyter-widgets/controls",
     "model_module_version": "1.5.0",
     "model_name": "HTMLModel",
     "state": {
      "_dom_classes": [],
      "_model_module": "@jupyter-widgets/controls",
      "_model_module_version": "1.5.0",
      "_model_name": "HTMLModel",
      "_view_count": null,
      "_view_module": "@jupyter-widgets/controls",
      "_view_module_version": "1.5.0",
      "_view_name": "HTMLView",
      "description": "",
      "description_tooltip": null,
      "layout": "IPY_MODEL_a43aa29475f749e9b6375ecb9cae0fdd",
      "placeholder": "​",
      "style": "IPY_MODEL_d27c1a9d40c24bb5aba2ee9bcee5c94c",
      "value": " 191M/191M [00:00&lt;00:00, 207MB/s]"
     }
    },
    "45ac30a49b5e42b0b21405e7f44a4fc7": {
     "model_module": "@jupyter-widgets/base",
     "model_module_version": "1.2.0",
     "model_name": "LayoutModel",
     "state": {
      "_model_module": "@jupyter-widgets/base",
      "_model_module_version": "1.2.0",
      "_model_name": "LayoutModel",
      "_view_count": null,
      "_view_module": "@jupyter-widgets/base",
      "_view_module_version": "1.2.0",
      "_view_name": "LayoutView",
      "align_content": null,
      "align_items": null,
      "align_self": null,
      "border": null,
      "bottom": null,
      "display": null,
      "flex": null,
      "flex_flow": null,
      "grid_area": null,
      "grid_auto_columns": null,
      "grid_auto_flow": null,
      "grid_auto_rows": null,
      "grid_column": null,
      "grid_gap": null,
      "grid_row": null,
      "grid_template_areas": null,
      "grid_template_columns": null,
      "grid_template_rows": null,
      "height": null,
      "justify_content": null,
      "justify_items": null,
      "left": null,
      "margin": null,
      "max_height": null,
      "max_width": null,
      "min_height": null,
      "min_width": null,
      "object_fit": null,
      "object_position": null,
      "order": null,
      "overflow": null,
      "overflow_x": null,
      "overflow_y": null,
      "padding": null,
      "right": null,
      "top": null,
      "visibility": null,
      "width": null
     }
    },
    "4865a4c980bf4380ab5a6f6d4d82c6b8": {
     "model_module": "@jupyter-widgets/controls",
     "model_module_version": "1.5.0",
     "model_name": "ProgressStyleModel",
     "state": {
      "_model_module": "@jupyter-widgets/controls",
      "_model_module_version": "1.5.0",
      "_model_name": "ProgressStyleModel",
      "_view_count": null,
      "_view_module": "@jupyter-widgets/base",
      "_view_module_version": "1.2.0",
      "_view_name": "StyleView",
      "bar_color": null,
      "description_width": ""
     }
    },
    "4a01817c23c64340aa02fb2f515211df": {
     "model_module": "@jupyter-widgets/controls",
     "model_module_version": "1.5.0",
     "model_name": "HBoxModel",
     "state": {
      "_dom_classes": [],
      "_model_module": "@jupyter-widgets/controls",
      "_model_module_version": "1.5.0",
      "_model_name": "HBoxModel",
      "_view_count": null,
      "_view_module": "@jupyter-widgets/controls",
      "_view_module_version": "1.5.0",
      "_view_name": "HBoxView",
      "box_style": "",
      "children": [
       "IPY_MODEL_a6cdb9e7bf2148c6a6d290413e0cff9d",
       "IPY_MODEL_9e4f96ebce4c49858d1cbdf6184ee45f",
       "IPY_MODEL_2e6507e8bc454e4cbf818da8ad372278"
      ],
      "layout": "IPY_MODEL_45ac30a49b5e42b0b21405e7f44a4fc7"
     }
    },
    "4ccbaebefe5548a8aa8b14f1b2db92e5": {
     "model_module": "@jupyter-widgets/controls",
     "model_module_version": "1.5.0",
     "model_name": "DescriptionStyleModel",
     "state": {
      "_model_module": "@jupyter-widgets/controls",
      "_model_module_version": "1.5.0",
      "_model_name": "DescriptionStyleModel",
      "_view_count": null,
      "_view_module": "@jupyter-widgets/base",
      "_view_module_version": "1.2.0",
      "_view_name": "StyleView",
      "description_width": ""
     }
    },
    "4f5b9a3843024aa78fc1b1b463f6fcf9": {
     "model_module": "@jupyter-widgets/controls",
     "model_module_version": "1.5.0",
     "model_name": "DescriptionStyleModel",
     "state": {
      "_model_module": "@jupyter-widgets/controls",
      "_model_module_version": "1.5.0",
      "_model_name": "DescriptionStyleModel",
      "_view_count": null,
      "_view_module": "@jupyter-widgets/base",
      "_view_module_version": "1.2.0",
      "_view_name": "StyleView",
      "description_width": ""
     }
    },
    "50c64c36d211484697f6779d68754101": {
     "model_module": "@jupyter-widgets/base",
     "model_module_version": "1.2.0",
     "model_name": "LayoutModel",
     "state": {
      "_model_module": "@jupyter-widgets/base",
      "_model_module_version": "1.2.0",
      "_model_name": "LayoutModel",
      "_view_count": null,
      "_view_module": "@jupyter-widgets/base",
      "_view_module_version": "1.2.0",
      "_view_name": "LayoutView",
      "align_content": null,
      "align_items": null,
      "align_self": null,
      "border": null,
      "bottom": null,
      "display": null,
      "flex": null,
      "flex_flow": null,
      "grid_area": null,
      "grid_auto_columns": null,
      "grid_auto_flow": null,
      "grid_auto_rows": null,
      "grid_column": null,
      "grid_gap": null,
      "grid_row": null,
      "grid_template_areas": null,
      "grid_template_columns": null,
      "grid_template_rows": null,
      "height": null,
      "justify_content": null,
      "justify_items": null,
      "left": null,
      "margin": null,
      "max_height": null,
      "max_width": null,
      "min_height": null,
      "min_width": null,
      "object_fit": null,
      "object_position": null,
      "order": null,
      "overflow": null,
      "overflow_x": null,
      "overflow_y": null,
      "padding": null,
      "right": null,
      "top": null,
      "visibility": null,
      "width": null
     }
    },
    "50cb221a793d4d82b1d9208ee79dba0c": {
     "model_module": "@jupyter-widgets/controls",
     "model_module_version": "1.5.0",
     "model_name": "HTMLModel",
     "state": {
      "_dom_classes": [],
      "_model_module": "@jupyter-widgets/controls",
      "_model_module_version": "1.5.0",
      "_model_name": "HTMLModel",
      "_view_count": null,
      "_view_module": "@jupyter-widgets/controls",
      "_view_module_version": "1.5.0",
      "_view_name": "HTMLView",
      "description": "",
      "description_tooltip": null,
      "layout": "IPY_MODEL_2c24bde4f345431bb00a22df858ca2eb",
      "placeholder": "​",
      "style": "IPY_MODEL_1f5bc7669fc64f28bbcd71ee99eb0ffe",
      "value": "validation-00002-of-00007.parquet: 100%"
     }
    },
    "51b4570f898946b08df4c06c6fc5abb9": {
     "model_module": "@jupyter-widgets/base",
     "model_module_version": "1.2.0",
     "model_name": "LayoutModel",
     "state": {
      "_model_module": "@jupyter-widgets/base",
      "_model_module_version": "1.2.0",
      "_model_name": "LayoutModel",
      "_view_count": null,
      "_view_module": "@jupyter-widgets/base",
      "_view_module_version": "1.2.0",
      "_view_name": "LayoutView",
      "align_content": null,
      "align_items": null,
      "align_self": null,
      "border": null,
      "bottom": null,
      "display": null,
      "flex": null,
      "flex_flow": null,
      "grid_area": null,
      "grid_auto_columns": null,
      "grid_auto_flow": null,
      "grid_auto_rows": null,
      "grid_column": null,
      "grid_gap": null,
      "grid_row": null,
      "grid_template_areas": null,
      "grid_template_columns": null,
      "grid_template_rows": null,
      "height": null,
      "justify_content": null,
      "justify_items": null,
      "left": null,
      "margin": null,
      "max_height": null,
      "max_width": null,
      "min_height": null,
      "min_width": null,
      "object_fit": null,
      "object_position": null,
      "order": null,
      "overflow": null,
      "overflow_x": null,
      "overflow_y": null,
      "padding": null,
      "right": null,
      "top": null,
      "visibility": null,
      "width": null
     }
    },
    "56633fcf42d444cd991d45ea6a918dd6": {
     "model_module": "@jupyter-widgets/base",
     "model_module_version": "1.2.0",
     "model_name": "LayoutModel",
     "state": {
      "_model_module": "@jupyter-widgets/base",
      "_model_module_version": "1.2.0",
      "_model_name": "LayoutModel",
      "_view_count": null,
      "_view_module": "@jupyter-widgets/base",
      "_view_module_version": "1.2.0",
      "_view_name": "LayoutView",
      "align_content": null,
      "align_items": null,
      "align_self": null,
      "border": null,
      "bottom": null,
      "display": null,
      "flex": null,
      "flex_flow": null,
      "grid_area": null,
      "grid_auto_columns": null,
      "grid_auto_flow": null,
      "grid_auto_rows": null,
      "grid_column": null,
      "grid_gap": null,
      "grid_row": null,
      "grid_template_areas": null,
      "grid_template_columns": null,
      "grid_template_rows": null,
      "height": null,
      "justify_content": null,
      "justify_items": null,
      "left": null,
      "margin": null,
      "max_height": null,
      "max_width": null,
      "min_height": null,
      "min_width": null,
      "object_fit": null,
      "object_position": null,
      "order": null,
      "overflow": null,
      "overflow_x": null,
      "overflow_y": null,
      "padding": null,
      "right": null,
      "top": null,
      "visibility": null,
      "width": null
     }
    },
    "56e50478b7b445fd8ae07df557286779": {
     "model_module": "@jupyter-widgets/controls",
     "model_module_version": "1.5.0",
     "model_name": "HTMLModel",
     "state": {
      "_dom_classes": [],
      "_model_module": "@jupyter-widgets/controls",
      "_model_module_version": "1.5.0",
      "_model_name": "HTMLModel",
      "_view_count": null,
      "_view_module": "@jupyter-widgets/controls",
      "_view_module_version": "1.5.0",
      "_view_name": "HTMLView",
      "description": "",
      "description_tooltip": null,
      "layout": "IPY_MODEL_96f00f7b77904369b6b8ddb550e73d1f",
      "placeholder": "​",
      "style": "IPY_MODEL_083326adb7724883897f3f967ee37173",
      "value": " 190M/190M [00:00&lt;00:00, 211MB/s]"
     }
    },
    "5901cc7a4baa4abf86317f8720a4144e": {
     "model_module": "@jupyter-widgets/controls",
     "model_module_version": "1.5.0",
     "model_name": "ProgressStyleModel",
     "state": {
      "_model_module": "@jupyter-widgets/controls",
      "_model_module_version": "1.5.0",
      "_model_name": "ProgressStyleModel",
      "_view_count": null,
      "_view_module": "@jupyter-widgets/base",
      "_view_module_version": "1.2.0",
      "_view_name": "StyleView",
      "bar_color": null,
      "description_width": ""
     }
    },
    "59ab078edb1e4d8985860368ef236e87": {
     "model_module": "@jupyter-widgets/base",
     "model_module_version": "1.2.0",
     "model_name": "LayoutModel",
     "state": {
      "_model_module": "@jupyter-widgets/base",
      "_model_module_version": "1.2.0",
      "_model_name": "LayoutModel",
      "_view_count": null,
      "_view_module": "@jupyter-widgets/base",
      "_view_module_version": "1.2.0",
      "_view_name": "LayoutView",
      "align_content": null,
      "align_items": null,
      "align_self": null,
      "border": null,
      "bottom": null,
      "display": null,
      "flex": null,
      "flex_flow": null,
      "grid_area": null,
      "grid_auto_columns": null,
      "grid_auto_flow": null,
      "grid_auto_rows": null,
      "grid_column": null,
      "grid_gap": null,
      "grid_row": null,
      "grid_template_areas": null,
      "grid_template_columns": null,
      "grid_template_rows": null,
      "height": null,
      "justify_content": null,
      "justify_items": null,
      "left": null,
      "margin": null,
      "max_height": null,
      "max_width": null,
      "min_height": null,
      "min_width": null,
      "object_fit": null,
      "object_position": null,
      "order": null,
      "overflow": null,
      "overflow_x": null,
      "overflow_y": null,
      "padding": null,
      "right": null,
      "top": null,
      "visibility": null,
      "width": null
     }
    },
    "59c8f12748be4e9cb442b9e20f66848d": {
     "model_module": "@jupyter-widgets/controls",
     "model_module_version": "1.5.0",
     "model_name": "ProgressStyleModel",
     "state": {
      "_model_module": "@jupyter-widgets/controls",
      "_model_module_version": "1.5.0",
      "_model_name": "ProgressStyleModel",
      "_view_count": null,
      "_view_module": "@jupyter-widgets/base",
      "_view_module_version": "1.2.0",
      "_view_name": "StyleView",
      "bar_color": null,
      "description_width": ""
     }
    },
    "5ba384f40b304eac9d5671547da9584d": {
     "model_module": "@jupyter-widgets/base",
     "model_module_version": "1.2.0",
     "model_name": "LayoutModel",
     "state": {
      "_model_module": "@jupyter-widgets/base",
      "_model_module_version": "1.2.0",
      "_model_name": "LayoutModel",
      "_view_count": null,
      "_view_module": "@jupyter-widgets/base",
      "_view_module_version": "1.2.0",
      "_view_name": "LayoutView",
      "align_content": null,
      "align_items": null,
      "align_self": null,
      "border": null,
      "bottom": null,
      "display": null,
      "flex": null,
      "flex_flow": null,
      "grid_area": null,
      "grid_auto_columns": null,
      "grid_auto_flow": null,
      "grid_auto_rows": null,
      "grid_column": null,
      "grid_gap": null,
      "grid_row": null,
      "grid_template_areas": null,
      "grid_template_columns": null,
      "grid_template_rows": null,
      "height": null,
      "justify_content": null,
      "justify_items": null,
      "left": null,
      "margin": null,
      "max_height": null,
      "max_width": null,
      "min_height": null,
      "min_width": null,
      "object_fit": null,
      "object_position": null,
      "order": null,
      "overflow": null,
      "overflow_x": null,
      "overflow_y": null,
      "padding": null,
      "right": null,
      "top": null,
      "visibility": null,
      "width": null
     }
    },
    "5daa5403c8d44ea5bfd1c0a543def40e": {
     "model_module": "@jupyter-widgets/controls",
     "model_module_version": "1.5.0",
     "model_name": "HBoxModel",
     "state": {
      "_dom_classes": [],
      "_model_module": "@jupyter-widgets/controls",
      "_model_module_version": "1.5.0",
      "_model_name": "HBoxModel",
      "_view_count": null,
      "_view_module": "@jupyter-widgets/controls",
      "_view_module_version": "1.5.0",
      "_view_name": "HBoxView",
      "box_style": "",
      "children": [
       "IPY_MODEL_b5927b0a68e84e9da8d662381028e2ee",
       "IPY_MODEL_022258dafc5442a09e3f855a7941701d",
       "IPY_MODEL_08ce7fdbd266473b8532392bd07de276"
      ],
      "layout": "IPY_MODEL_740185da65e3436c9d33012344dccfa9"
     }
    },
    "6106d750d3d842ff82bf6759f5397700": {
     "model_module": "@jupyter-widgets/base",
     "model_module_version": "1.2.0",
     "model_name": "LayoutModel",
     "state": {
      "_model_module": "@jupyter-widgets/base",
      "_model_module_version": "1.2.0",
      "_model_name": "LayoutModel",
      "_view_count": null,
      "_view_module": "@jupyter-widgets/base",
      "_view_module_version": "1.2.0",
      "_view_name": "LayoutView",
      "align_content": null,
      "align_items": null,
      "align_self": null,
      "border": null,
      "bottom": null,
      "display": null,
      "flex": null,
      "flex_flow": null,
      "grid_area": null,
      "grid_auto_columns": null,
      "grid_auto_flow": null,
      "grid_auto_rows": null,
      "grid_column": null,
      "grid_gap": null,
      "grid_row": null,
      "grid_template_areas": null,
      "grid_template_columns": null,
      "grid_template_rows": null,
      "height": null,
      "justify_content": null,
      "justify_items": null,
      "left": null,
      "margin": null,
      "max_height": null,
      "max_width": null,
      "min_height": null,
      "min_width": null,
      "object_fit": null,
      "object_position": null,
      "order": null,
      "overflow": null,
      "overflow_x": null,
      "overflow_y": null,
      "padding": null,
      "right": null,
      "top": null,
      "visibility": null,
      "width": null
     }
    },
    "61b3c810670c46c08161b08d30edf096": {
     "model_module": "@jupyter-widgets/controls",
     "model_module_version": "1.5.0",
     "model_name": "HTMLModel",
     "state": {
      "_dom_classes": [],
      "_model_module": "@jupyter-widgets/controls",
      "_model_module_version": "1.5.0",
      "_model_name": "HTMLModel",
      "_view_count": null,
      "_view_module": "@jupyter-widgets/controls",
      "_view_module_version": "1.5.0",
      "_view_name": "HTMLView",
      "description": "",
      "description_tooltip": null,
      "layout": "IPY_MODEL_a39cd7f37afe4adfb52f48e1b6dd7669",
      "placeholder": "​",
      "style": "IPY_MODEL_b5ac3106f1d7490788eeb0bb76d08a39",
      "value": " 13.7k/13.7k [00:00&lt;00:00, 1.09MB/s]"
     }
    },
    "61e17f4cd0fb49d9bf3dfe05482c6cdb": {
     "model_module": "@jupyter-widgets/controls",
     "model_module_version": "1.5.0",
     "model_name": "DescriptionStyleModel",
     "state": {
      "_model_module": "@jupyter-widgets/controls",
      "_model_module_version": "1.5.0",
      "_model_name": "DescriptionStyleModel",
      "_view_count": null,
      "_view_module": "@jupyter-widgets/base",
      "_view_module_version": "1.2.0",
      "_view_name": "StyleView",
      "description_width": ""
     }
    },
    "624670ca4d9e40be9a8b93f9a6e23101": {
     "model_module": "@jupyter-widgets/controls",
     "model_module_version": "1.5.0",
     "model_name": "HBoxModel",
     "state": {
      "_dom_classes": [],
      "_model_module": "@jupyter-widgets/controls",
      "_model_module_version": "1.5.0",
      "_model_name": "HBoxModel",
      "_view_count": null,
      "_view_module": "@jupyter-widgets/controls",
      "_view_module_version": "1.5.0",
      "_view_name": "HBoxView",
      "box_style": "",
      "children": [
       "IPY_MODEL_6d2e47c9c09346a58edbffd6a6bee0be",
       "IPY_MODEL_eb4244e473a04876bae9cfa6baf63832",
       "IPY_MODEL_6db2bcbba1bf487dad3c8d16cb81029d"
      ],
      "layout": "IPY_MODEL_59ab078edb1e4d8985860368ef236e87"
     }
    },
    "628d69c43119427baf24760b37a19d6a": {
     "model_module": "@jupyter-widgets/controls",
     "model_module_version": "1.5.0",
     "model_name": "DescriptionStyleModel",
     "state": {
      "_model_module": "@jupyter-widgets/controls",
      "_model_module_version": "1.5.0",
      "_model_name": "DescriptionStyleModel",
      "_view_count": null,
      "_view_module": "@jupyter-widgets/base",
      "_view_module_version": "1.2.0",
      "_view_name": "StyleView",
      "description_width": ""
     }
    },
    "6730499a9713411f90ed06c469a13242": {
     "model_module": "@jupyter-widgets/controls",
     "model_module_version": "1.5.0",
     "model_name": "DescriptionStyleModel",
     "state": {
      "_model_module": "@jupyter-widgets/controls",
      "_model_module_version": "1.5.0",
      "_model_name": "DescriptionStyleModel",
      "_view_count": null,
      "_view_module": "@jupyter-widgets/base",
      "_view_module_version": "1.2.0",
      "_view_name": "StyleView",
      "description_width": ""
     }
    },
    "679e04bb4b4e417c88a9705a85793fdd": {
     "model_module": "@jupyter-widgets/base",
     "model_module_version": "1.2.0",
     "model_name": "LayoutModel",
     "state": {
      "_model_module": "@jupyter-widgets/base",
      "_model_module_version": "1.2.0",
      "_model_name": "LayoutModel",
      "_view_count": null,
      "_view_module": "@jupyter-widgets/base",
      "_view_module_version": "1.2.0",
      "_view_name": "LayoutView",
      "align_content": null,
      "align_items": null,
      "align_self": null,
      "border": null,
      "bottom": null,
      "display": null,
      "flex": null,
      "flex_flow": null,
      "grid_area": null,
      "grid_auto_columns": null,
      "grid_auto_flow": null,
      "grid_auto_rows": null,
      "grid_column": null,
      "grid_gap": null,
      "grid_row": null,
      "grid_template_areas": null,
      "grid_template_columns": null,
      "grid_template_rows": null,
      "height": null,
      "justify_content": null,
      "justify_items": null,
      "left": null,
      "margin": null,
      "max_height": null,
      "max_width": null,
      "min_height": null,
      "min_width": null,
      "object_fit": null,
      "object_position": null,
      "order": null,
      "overflow": null,
      "overflow_x": null,
      "overflow_y": null,
      "padding": null,
      "right": null,
      "top": null,
      "visibility": null,
      "width": null
     }
    },
    "69f37265dfc242ba82d2c893793d0801": {
     "model_module": "@jupyter-widgets/base",
     "model_module_version": "1.2.0",
     "model_name": "LayoutModel",
     "state": {
      "_model_module": "@jupyter-widgets/base",
      "_model_module_version": "1.2.0",
      "_model_name": "LayoutModel",
      "_view_count": null,
      "_view_module": "@jupyter-widgets/base",
      "_view_module_version": "1.2.0",
      "_view_name": "LayoutView",
      "align_content": null,
      "align_items": null,
      "align_self": null,
      "border": null,
      "bottom": null,
      "display": null,
      "flex": null,
      "flex_flow": null,
      "grid_area": null,
      "grid_auto_columns": null,
      "grid_auto_flow": null,
      "grid_auto_rows": null,
      "grid_column": null,
      "grid_gap": null,
      "grid_row": null,
      "grid_template_areas": null,
      "grid_template_columns": null,
      "grid_template_rows": null,
      "height": null,
      "justify_content": null,
      "justify_items": null,
      "left": null,
      "margin": null,
      "max_height": null,
      "max_width": null,
      "min_height": null,
      "min_width": null,
      "object_fit": null,
      "object_position": null,
      "order": null,
      "overflow": null,
      "overflow_x": null,
      "overflow_y": null,
      "padding": null,
      "right": null,
      "top": null,
      "visibility": null,
      "width": null
     }
    },
    "6bc3544d28ce4a38af0d4dd898015c31": {
     "model_module": "@jupyter-widgets/base",
     "model_module_version": "1.2.0",
     "model_name": "LayoutModel",
     "state": {
      "_model_module": "@jupyter-widgets/base",
      "_model_module_version": "1.2.0",
      "_model_name": "LayoutModel",
      "_view_count": null,
      "_view_module": "@jupyter-widgets/base",
      "_view_module_version": "1.2.0",
      "_view_name": "LayoutView",
      "align_content": null,
      "align_items": null,
      "align_self": null,
      "border": null,
      "bottom": null,
      "display": null,
      "flex": null,
      "flex_flow": null,
      "grid_area": null,
      "grid_auto_columns": null,
      "grid_auto_flow": null,
      "grid_auto_rows": null,
      "grid_column": null,
      "grid_gap": null,
      "grid_row": null,
      "grid_template_areas": null,
      "grid_template_columns": null,
      "grid_template_rows": null,
      "height": null,
      "justify_content": null,
      "justify_items": null,
      "left": null,
      "margin": null,
      "max_height": null,
      "max_width": null,
      "min_height": null,
      "min_width": null,
      "object_fit": null,
      "object_position": null,
      "order": null,
      "overflow": null,
      "overflow_x": null,
      "overflow_y": null,
      "padding": null,
      "right": null,
      "top": null,
      "visibility": null,
      "width": null
     }
    },
    "6be3d171de9b49ce8d253d7d6b93df4e": {
     "model_module": "@jupyter-widgets/base",
     "model_module_version": "1.2.0",
     "model_name": "LayoutModel",
     "state": {
      "_model_module": "@jupyter-widgets/base",
      "_model_module_version": "1.2.0",
      "_model_name": "LayoutModel",
      "_view_count": null,
      "_view_module": "@jupyter-widgets/base",
      "_view_module_version": "1.2.0",
      "_view_name": "LayoutView",
      "align_content": null,
      "align_items": null,
      "align_self": null,
      "border": null,
      "bottom": null,
      "display": null,
      "flex": null,
      "flex_flow": null,
      "grid_area": null,
      "grid_auto_columns": null,
      "grid_auto_flow": null,
      "grid_auto_rows": null,
      "grid_column": null,
      "grid_gap": null,
      "grid_row": null,
      "grid_template_areas": null,
      "grid_template_columns": null,
      "grid_template_rows": null,
      "height": null,
      "justify_content": null,
      "justify_items": null,
      "left": null,
      "margin": null,
      "max_height": null,
      "max_width": null,
      "min_height": null,
      "min_width": null,
      "object_fit": null,
      "object_position": null,
      "order": null,
      "overflow": null,
      "overflow_x": null,
      "overflow_y": null,
      "padding": null,
      "right": null,
      "top": null,
      "visibility": null,
      "width": null
     }
    },
    "6c057d347bf04ebf9c46d9ccc1f3f2fb": {
     "model_module": "@jupyter-widgets/controls",
     "model_module_version": "1.5.0",
     "model_name": "ProgressStyleModel",
     "state": {
      "_model_module": "@jupyter-widgets/controls",
      "_model_module_version": "1.5.0",
      "_model_name": "ProgressStyleModel",
      "_view_count": null,
      "_view_module": "@jupyter-widgets/base",
      "_view_module_version": "1.2.0",
      "_view_name": "StyleView",
      "bar_color": null,
      "description_width": ""
     }
    },
    "6d2e47c9c09346a58edbffd6a6bee0be": {
     "model_module": "@jupyter-widgets/controls",
     "model_module_version": "1.5.0",
     "model_name": "HTMLModel",
     "state": {
      "_dom_classes": [],
      "_model_module": "@jupyter-widgets/controls",
      "_model_module_version": "1.5.0",
      "_model_name": "HTMLModel",
      "_view_count": null,
      "_view_module": "@jupyter-widgets/controls",
      "_view_module_version": "1.5.0",
      "_view_name": "HTMLView",
      "description": "",
      "description_tooltip": null,
      "layout": "IPY_MODEL_bee1b255c12844e28c0c01f023b4dcb7",
      "placeholder": "​",
      "style": "IPY_MODEL_290999defe7843ebb15bf9a842a0a8f6",
      "value": "validation-00006-of-00007.parquet: 100%"
     }
    },
    "6db2bcbba1bf487dad3c8d16cb81029d": {
     "model_module": "@jupyter-widgets/controls",
     "model_module_version": "1.5.0",
     "model_name": "HTMLModel",
     "state": {
      "_dom_classes": [],
      "_model_module": "@jupyter-widgets/controls",
      "_model_module_version": "1.5.0",
      "_model_name": "HTMLModel",
      "_view_count": null,
      "_view_module": "@jupyter-widgets/controls",
      "_view_module_version": "1.5.0",
      "_view_name": "HTMLView",
      "description": "",
      "description_tooltip": null,
      "layout": "IPY_MODEL_213dd7d460cf495ba331f701c5aeb9d7",
      "placeholder": "​",
      "style": "IPY_MODEL_ccf14eb765484bddb5b7c9d36fd63a3f",
      "value": " 190M/190M [00:00&lt;00:00, 213MB/s]"
     }
    },
    "6ddad92fc6de46069c56483488fcb629": {
     "model_module": "@jupyter-widgets/controls",
     "model_module_version": "1.5.0",
     "model_name": "DescriptionStyleModel",
     "state": {
      "_model_module": "@jupyter-widgets/controls",
      "_model_module_version": "1.5.0",
      "_model_name": "DescriptionStyleModel",
      "_view_count": null,
      "_view_module": "@jupyter-widgets/base",
      "_view_module_version": "1.2.0",
      "_view_name": "StyleView",
      "description_width": ""
     }
    },
    "709689921d5a46c9a53a1e13cc210f20": {
     "model_module": "@jupyter-widgets/controls",
     "model_module_version": "1.5.0",
     "model_name": "FloatProgressModel",
     "state": {
      "_dom_classes": [],
      "_model_module": "@jupyter-widgets/controls",
      "_model_module_version": "1.5.0",
      "_model_name": "FloatProgressModel",
      "_view_count": null,
      "_view_module": "@jupyter-widgets/controls",
      "_view_module_version": "1.5.0",
      "_view_name": "ProgressView",
      "bar_style": "success",
      "description": "",
      "description_tooltip": null,
      "layout": "IPY_MODEL_879c6299265840a4ba920f4203335205",
      "max": 197099510,
      "min": 0,
      "orientation": "horizontal",
      "style": "IPY_MODEL_e7d8b6e4e26645bca66f61fa3dacd86b",
      "value": 197099510
     }
    },
    "73a61c945d7e482ca2087c47c893521e": {
     "model_module": "@jupyter-widgets/controls",
     "model_module_version": "1.5.0",
     "model_name": "HTMLModel",
     "state": {
      "_dom_classes": [],
      "_model_module": "@jupyter-widgets/controls",
      "_model_module_version": "1.5.0",
      "_model_name": "HTMLModel",
      "_view_count": null,
      "_view_module": "@jupyter-widgets/controls",
      "_view_module_version": "1.5.0",
      "_view_name": "HTMLView",
      "description": "",
      "description_tooltip": null,
      "layout": "IPY_MODEL_d21c5b7c8bf04bd8b908a9ab5c57aab3",
      "placeholder": "​",
      "style": "IPY_MODEL_6ddad92fc6de46069c56483488fcb629",
      "value": "validation-00001-of-00007.parquet: 100%"
     }
    },
    "740185da65e3436c9d33012344dccfa9": {
     "model_module": "@jupyter-widgets/base",
     "model_module_version": "1.2.0",
     "model_name": "LayoutModel",
     "state": {
      "_model_module": "@jupyter-widgets/base",
      "_model_module_version": "1.2.0",
      "_model_name": "LayoutModel",
      "_view_count": null,
      "_view_module": "@jupyter-widgets/base",
      "_view_module_version": "1.2.0",
      "_view_name": "LayoutView",
      "align_content": null,
      "align_items": null,
      "align_self": null,
      "border": null,
      "bottom": null,
      "display": null,
      "flex": null,
      "flex_flow": null,
      "grid_area": null,
      "grid_auto_columns": null,
      "grid_auto_flow": null,
      "grid_auto_rows": null,
      "grid_column": null,
      "grid_gap": null,
      "grid_row": null,
      "grid_template_areas": null,
      "grid_template_columns": null,
      "grid_template_rows": null,
      "height": null,
      "justify_content": null,
      "justify_items": null,
      "left": null,
      "margin": null,
      "max_height": null,
      "max_width": null,
      "min_height": null,
      "min_width": null,
      "object_fit": null,
      "object_position": null,
      "order": null,
      "overflow": null,
      "overflow_x": null,
      "overflow_y": null,
      "padding": null,
      "right": null,
      "top": null,
      "visibility": null,
      "width": null
     }
    },
    "75a898fb1b06467393ce842b803d9b1c": {
     "model_module": "@jupyter-widgets/controls",
     "model_module_version": "1.5.0",
     "model_name": "HBoxModel",
     "state": {
      "_dom_classes": [],
      "_model_module": "@jupyter-widgets/controls",
      "_model_module_version": "1.5.0",
      "_model_name": "HBoxModel",
      "_view_count": null,
      "_view_module": "@jupyter-widgets/controls",
      "_view_module_version": "1.5.0",
      "_view_name": "HBoxView",
      "box_style": "",
      "children": [
       "IPY_MODEL_b0ed09005ea6476b95cb448c3f70375b",
       "IPY_MODEL_d35fc406e04047cb81ea173564042e4c",
       "IPY_MODEL_1f96ec44394546b58ed9cc79d4385cc1"
      ],
      "layout": "IPY_MODEL_d63665109d2842458374c84a919e9ead"
     }
    },
    "75bfbbbd45d340ba8c02f30b05681fb4": {
     "model_module": "@jupyter-widgets/controls",
     "model_module_version": "1.5.0",
     "model_name": "HBoxModel",
     "state": {
      "_dom_classes": [],
      "_model_module": "@jupyter-widgets/controls",
      "_model_module_version": "1.5.0",
      "_model_name": "HBoxModel",
      "_view_count": null,
      "_view_module": "@jupyter-widgets/controls",
      "_view_module_version": "1.5.0",
      "_view_name": "HBoxView",
      "box_style": "",
      "children": [
       "IPY_MODEL_fbfd3a198bef4b66bdd01351d2775893",
       "IPY_MODEL_271df973f83d4f01b3899b604bdb0506",
       "IPY_MODEL_15246198e5f24bcd9502e26f3481f26c"
      ],
      "layout": "IPY_MODEL_308ba00cb7b64afab192849171cb2057"
     }
    },
    "76cf27b122294d1e8c1173194cfb3a79": {
     "model_module": "@jupyter-widgets/controls",
     "model_module_version": "1.5.0",
     "model_name": "FloatProgressModel",
     "state": {
      "_dom_classes": [],
      "_model_module": "@jupyter-widgets/controls",
      "_model_module_version": "1.5.0",
      "_model_name": "FloatProgressModel",
      "_view_count": null,
      "_view_module": "@jupyter-widgets/controls",
      "_view_module_version": "1.5.0",
      "_view_name": "ProgressView",
      "bar_style": "success",
      "description": "",
      "description_tooltip": null,
      "layout": "IPY_MODEL_0184f4d8199743fe8e2bf064ef55550b",
      "max": 13681,
      "min": 0,
      "orientation": "horizontal",
      "style": "IPY_MODEL_4865a4c980bf4380ab5a6f6d4d82c6b8",
      "value": 13681
     }
    },
    "7ac9b4466c2d45959b29b5d6dc279314": {
     "model_module": "@jupyter-widgets/controls",
     "model_module_version": "1.5.0",
     "model_name": "DescriptionStyleModel",
     "state": {
      "_model_module": "@jupyter-widgets/controls",
      "_model_module_version": "1.5.0",
      "_model_name": "DescriptionStyleModel",
      "_view_count": null,
      "_view_module": "@jupyter-widgets/base",
      "_view_module_version": "1.2.0",
      "_view_name": "StyleView",
      "description_width": ""
     }
    },
    "859d7d5b859f486491c43d3db7d6e395": {
     "model_module": "@jupyter-widgets/controls",
     "model_module_version": "1.5.0",
     "model_name": "HBoxModel",
     "state": {
      "_dom_classes": [],
      "_model_module": "@jupyter-widgets/controls",
      "_model_module_version": "1.5.0",
      "_model_name": "HBoxModel",
      "_view_count": null,
      "_view_module": "@jupyter-widgets/controls",
      "_view_module_version": "1.5.0",
      "_view_name": "HBoxView",
      "box_style": "",
      "children": [
       "IPY_MODEL_07b80897917549e0a938a114e4f85e70",
       "IPY_MODEL_1cb27e24d7754e678c6a013967a60217",
       "IPY_MODEL_f5b8ad311be044eaa96bc7fa42c9220e"
      ],
      "layout": "IPY_MODEL_018f231db99d4371ac836070d716cb10"
     }
    },
    "86fa4b64050d49b6ba4bcd8b9b73c183": {
     "model_module": "@jupyter-widgets/controls",
     "model_module_version": "1.5.0",
     "model_name": "DescriptionStyleModel",
     "state": {
      "_model_module": "@jupyter-widgets/controls",
      "_model_module_version": "1.5.0",
      "_model_name": "DescriptionStyleModel",
      "_view_count": null,
      "_view_module": "@jupyter-widgets/base",
      "_view_module_version": "1.2.0",
      "_view_name": "StyleView",
      "description_width": ""
     }
    },
    "879c6299265840a4ba920f4203335205": {
     "model_module": "@jupyter-widgets/base",
     "model_module_version": "1.2.0",
     "model_name": "LayoutModel",
     "state": {
      "_model_module": "@jupyter-widgets/base",
      "_model_module_version": "1.2.0",
      "_model_name": "LayoutModel",
      "_view_count": null,
      "_view_module": "@jupyter-widgets/base",
      "_view_module_version": "1.2.0",
      "_view_name": "LayoutView",
      "align_content": null,
      "align_items": null,
      "align_self": null,
      "border": null,
      "bottom": null,
      "display": null,
      "flex": null,
      "flex_flow": null,
      "grid_area": null,
      "grid_auto_columns": null,
      "grid_auto_flow": null,
      "grid_auto_rows": null,
      "grid_column": null,
      "grid_gap": null,
      "grid_row": null,
      "grid_template_areas": null,
      "grid_template_columns": null,
      "grid_template_rows": null,
      "height": null,
      "justify_content": null,
      "justify_items": null,
      "left": null,
      "margin": null,
      "max_height": null,
      "max_width": null,
      "min_height": null,
      "min_width": null,
      "object_fit": null,
      "object_position": null,
      "order": null,
      "overflow": null,
      "overflow_x": null,
      "overflow_y": null,
      "padding": null,
      "right": null,
      "top": null,
      "visibility": null,
      "width": null
     }
    },
    "96f00f7b77904369b6b8ddb550e73d1f": {
     "model_module": "@jupyter-widgets/base",
     "model_module_version": "1.2.0",
     "model_name": "LayoutModel",
     "state": {
      "_model_module": "@jupyter-widgets/base",
      "_model_module_version": "1.2.0",
      "_model_name": "LayoutModel",
      "_view_count": null,
      "_view_module": "@jupyter-widgets/base",
      "_view_module_version": "1.2.0",
      "_view_name": "LayoutView",
      "align_content": null,
      "align_items": null,
      "align_self": null,
      "border": null,
      "bottom": null,
      "display": null,
      "flex": null,
      "flex_flow": null,
      "grid_area": null,
      "grid_auto_columns": null,
      "grid_auto_flow": null,
      "grid_auto_rows": null,
      "grid_column": null,
      "grid_gap": null,
      "grid_row": null,
      "grid_template_areas": null,
      "grid_template_columns": null,
      "grid_template_rows": null,
      "height": null,
      "justify_content": null,
      "justify_items": null,
      "left": null,
      "margin": null,
      "max_height": null,
      "max_width": null,
      "min_height": null,
      "min_width": null,
      "object_fit": null,
      "object_position": null,
      "order": null,
      "overflow": null,
      "overflow_x": null,
      "overflow_y": null,
      "padding": null,
      "right": null,
      "top": null,
      "visibility": null,
      "width": null
     }
    },
    "97b94572c1cd4da78eecdd157059854d": {
     "model_module": "@jupyter-widgets/controls",
     "model_module_version": "1.5.0",
     "model_name": "DescriptionStyleModel",
     "state": {
      "_model_module": "@jupyter-widgets/controls",
      "_model_module_version": "1.5.0",
      "_model_name": "DescriptionStyleModel",
      "_view_count": null,
      "_view_module": "@jupyter-widgets/base",
      "_view_module_version": "1.2.0",
      "_view_name": "StyleView",
      "description_width": ""
     }
    },
    "98c1791b67f9483c98ddc6cb41bf103c": {
     "model_module": "@jupyter-widgets/controls",
     "model_module_version": "1.5.0",
     "model_name": "FloatProgressModel",
     "state": {
      "_dom_classes": [],
      "_model_module": "@jupyter-widgets/controls",
      "_model_module_version": "1.5.0",
      "_model_name": "FloatProgressModel",
      "_view_count": null,
      "_view_module": "@jupyter-widgets/controls",
      "_view_module_version": "1.5.0",
      "_view_name": "ProgressView",
      "bar_style": "success",
      "description": "",
      "description_tooltip": null,
      "layout": "IPY_MODEL_50c64c36d211484697f6779d68754101",
      "max": 190921063,
      "min": 0,
      "orientation": "horizontal",
      "style": "IPY_MODEL_390955a40ff3466a8035ec045ba07b6e",
      "value": 190921063
     }
    },
    "9a548e55f0e347748bd372150d250754": {
     "model_module": "@jupyter-widgets/base",
     "model_module_version": "1.2.0",
     "model_name": "LayoutModel",
     "state": {
      "_model_module": "@jupyter-widgets/base",
      "_model_module_version": "1.2.0",
      "_model_name": "LayoutModel",
      "_view_count": null,
      "_view_module": "@jupyter-widgets/base",
      "_view_module_version": "1.2.0",
      "_view_name": "LayoutView",
      "align_content": null,
      "align_items": null,
      "align_self": null,
      "border": null,
      "bottom": null,
      "display": null,
      "flex": null,
      "flex_flow": null,
      "grid_area": null,
      "grid_auto_columns": null,
      "grid_auto_flow": null,
      "grid_auto_rows": null,
      "grid_column": null,
      "grid_gap": null,
      "grid_row": null,
      "grid_template_areas": null,
      "grid_template_columns": null,
      "grid_template_rows": null,
      "height": null,
      "justify_content": null,
      "justify_items": null,
      "left": null,
      "margin": null,
      "max_height": null,
      "max_width": null,
      "min_height": null,
      "min_width": null,
      "object_fit": null,
      "object_position": null,
      "order": null,
      "overflow": null,
      "overflow_x": null,
      "overflow_y": null,
      "padding": null,
      "right": null,
      "top": null,
      "visibility": null,
      "width": null
     }
    },
    "9e4f96ebce4c49858d1cbdf6184ee45f": {
     "model_module": "@jupyter-widgets/controls",
     "model_module_version": "1.5.0",
     "model_name": "FloatProgressModel",
     "state": {
      "_dom_classes": [],
      "_model_module": "@jupyter-widgets/controls",
      "_model_module_version": "1.5.0",
      "_model_name": "FloatProgressModel",
      "_view_count": null,
      "_view_module": "@jupyter-widgets/controls",
      "_view_module_version": "1.5.0",
      "_view_name": "ProgressView",
      "bar_style": "success",
      "description": "",
      "description_tooltip": null,
      "layout": "IPY_MODEL_c32bd5ac5a524b26888f984f04987c6a",
      "max": 287,
      "min": 0,
      "orientation": "horizontal",
      "style": "IPY_MODEL_6c057d347bf04ebf9c46d9ccc1f3f2fb",
      "value": 287
     }
    },
    "9eacf72c600a410c80f2f403fe99db93": {
     "model_module": "@jupyter-widgets/controls",
     "model_module_version": "1.5.0",
     "model_name": "DescriptionStyleModel",
     "state": {
      "_model_module": "@jupyter-widgets/controls",
      "_model_module_version": "1.5.0",
      "_model_name": "DescriptionStyleModel",
      "_view_count": null,
      "_view_module": "@jupyter-widgets/base",
      "_view_module_version": "1.2.0",
      "_view_name": "StyleView",
      "description_width": ""
     }
    },
    "9f4e8b82a6df40879b77130e2c05f480": {
     "model_module": "@jupyter-widgets/base",
     "model_module_version": "1.2.0",
     "model_name": "LayoutModel",
     "state": {
      "_model_module": "@jupyter-widgets/base",
      "_model_module_version": "1.2.0",
      "_model_name": "LayoutModel",
      "_view_count": null,
      "_view_module": "@jupyter-widgets/base",
      "_view_module_version": "1.2.0",
      "_view_name": "LayoutView",
      "align_content": null,
      "align_items": null,
      "align_self": null,
      "border": null,
      "bottom": null,
      "display": null,
      "flex": null,
      "flex_flow": null,
      "grid_area": null,
      "grid_auto_columns": null,
      "grid_auto_flow": null,
      "grid_auto_rows": null,
      "grid_column": null,
      "grid_gap": null,
      "grid_row": null,
      "grid_template_areas": null,
      "grid_template_columns": null,
      "grid_template_rows": null,
      "height": null,
      "justify_content": null,
      "justify_items": null,
      "left": null,
      "margin": null,
      "max_height": null,
      "max_width": null,
      "min_height": null,
      "min_width": null,
      "object_fit": null,
      "object_position": null,
      "order": null,
      "overflow": null,
      "overflow_x": null,
      "overflow_y": null,
      "padding": null,
      "right": null,
      "top": null,
      "visibility": null,
      "width": null
     }
    },
    "a375c1fb77004fa7bbc84183bd2d6480": {
     "model_module": "@jupyter-widgets/base",
     "model_module_version": "1.2.0",
     "model_name": "LayoutModel",
     "state": {
      "_model_module": "@jupyter-widgets/base",
      "_model_module_version": "1.2.0",
      "_model_name": "LayoutModel",
      "_view_count": null,
      "_view_module": "@jupyter-widgets/base",
      "_view_module_version": "1.2.0",
      "_view_name": "LayoutView",
      "align_content": null,
      "align_items": null,
      "align_self": null,
      "border": null,
      "bottom": null,
      "display": null,
      "flex": null,
      "flex_flow": null,
      "grid_area": null,
      "grid_auto_columns": null,
      "grid_auto_flow": null,
      "grid_auto_rows": null,
      "grid_column": null,
      "grid_gap": null,
      "grid_row": null,
      "grid_template_areas": null,
      "grid_template_columns": null,
      "grid_template_rows": null,
      "height": null,
      "justify_content": null,
      "justify_items": null,
      "left": null,
      "margin": null,
      "max_height": null,
      "max_width": null,
      "min_height": null,
      "min_width": null,
      "object_fit": null,
      "object_position": null,
      "order": null,
      "overflow": null,
      "overflow_x": null,
      "overflow_y": null,
      "padding": null,
      "right": null,
      "top": null,
      "visibility": null,
      "width": null
     }
    },
    "a39cd7f37afe4adfb52f48e1b6dd7669": {
     "model_module": "@jupyter-widgets/base",
     "model_module_version": "1.2.0",
     "model_name": "LayoutModel",
     "state": {
      "_model_module": "@jupyter-widgets/base",
      "_model_module_version": "1.2.0",
      "_model_name": "LayoutModel",
      "_view_count": null,
      "_view_module": "@jupyter-widgets/base",
      "_view_module_version": "1.2.0",
      "_view_name": "LayoutView",
      "align_content": null,
      "align_items": null,
      "align_self": null,
      "border": null,
      "bottom": null,
      "display": null,
      "flex": null,
      "flex_flow": null,
      "grid_area": null,
      "grid_auto_columns": null,
      "grid_auto_flow": null,
      "grid_auto_rows": null,
      "grid_column": null,
      "grid_gap": null,
      "grid_row": null,
      "grid_template_areas": null,
      "grid_template_columns": null,
      "grid_template_rows": null,
      "height": null,
      "justify_content": null,
      "justify_items": null,
      "left": null,
      "margin": null,
      "max_height": null,
      "max_width": null,
      "min_height": null,
      "min_width": null,
      "object_fit": null,
      "object_position": null,
      "order": null,
      "overflow": null,
      "overflow_x": null,
      "overflow_y": null,
      "padding": null,
      "right": null,
      "top": null,
      "visibility": null,
      "width": null
     }
    },
    "a3a1bb788835489da49e0f010450fa92": {
     "model_module": "@jupyter-widgets/base",
     "model_module_version": "1.2.0",
     "model_name": "LayoutModel",
     "state": {
      "_model_module": "@jupyter-widgets/base",
      "_model_module_version": "1.2.0",
      "_model_name": "LayoutModel",
      "_view_count": null,
      "_view_module": "@jupyter-widgets/base",
      "_view_module_version": "1.2.0",
      "_view_name": "LayoutView",
      "align_content": null,
      "align_items": null,
      "align_self": null,
      "border": null,
      "bottom": null,
      "display": null,
      "flex": null,
      "flex_flow": null,
      "grid_area": null,
      "grid_auto_columns": null,
      "grid_auto_flow": null,
      "grid_auto_rows": null,
      "grid_column": null,
      "grid_gap": null,
      "grid_row": null,
      "grid_template_areas": null,
      "grid_template_columns": null,
      "grid_template_rows": null,
      "height": null,
      "justify_content": null,
      "justify_items": null,
      "left": null,
      "margin": null,
      "max_height": null,
      "max_width": null,
      "min_height": null,
      "min_width": null,
      "object_fit": null,
      "object_position": null,
      "order": null,
      "overflow": null,
      "overflow_x": null,
      "overflow_y": null,
      "padding": null,
      "right": null,
      "top": null,
      "visibility": null,
      "width": null
     }
    },
    "a43aa29475f749e9b6375ecb9cae0fdd": {
     "model_module": "@jupyter-widgets/base",
     "model_module_version": "1.2.0",
     "model_name": "LayoutModel",
     "state": {
      "_model_module": "@jupyter-widgets/base",
      "_model_module_version": "1.2.0",
      "_model_name": "LayoutModel",
      "_view_count": null,
      "_view_module": "@jupyter-widgets/base",
      "_view_module_version": "1.2.0",
      "_view_name": "LayoutView",
      "align_content": null,
      "align_items": null,
      "align_self": null,
      "border": null,
      "bottom": null,
      "display": null,
      "flex": null,
      "flex_flow": null,
      "grid_area": null,
      "grid_auto_columns": null,
      "grid_auto_flow": null,
      "grid_auto_rows": null,
      "grid_column": null,
      "grid_gap": null,
      "grid_row": null,
      "grid_template_areas": null,
      "grid_template_columns": null,
      "grid_template_rows": null,
      "height": null,
      "justify_content": null,
      "justify_items": null,
      "left": null,
      "margin": null,
      "max_height": null,
      "max_width": null,
      "min_height": null,
      "min_width": null,
      "object_fit": null,
      "object_position": null,
      "order": null,
      "overflow": null,
      "overflow_x": null,
      "overflow_y": null,
      "padding": null,
      "right": null,
      "top": null,
      "visibility": null,
      "width": null
     }
    },
    "a574b24c47304d769eac45f8ccd4d91f": {
     "model_module": "@jupyter-widgets/controls",
     "model_module_version": "1.5.0",
     "model_name": "ProgressStyleModel",
     "state": {
      "_model_module": "@jupyter-widgets/controls",
      "_model_module_version": "1.5.0",
      "_model_name": "ProgressStyleModel",
      "_view_count": null,
      "_view_module": "@jupyter-widgets/base",
      "_view_module_version": "1.2.0",
      "_view_name": "StyleView",
      "bar_color": null,
      "description_width": ""
     }
    },
    "a65a3a201f5540408d0500f3f2f6b9b7": {
     "model_module": "@jupyter-widgets/base",
     "model_module_version": "1.2.0",
     "model_name": "LayoutModel",
     "state": {
      "_model_module": "@jupyter-widgets/base",
      "_model_module_version": "1.2.0",
      "_model_name": "LayoutModel",
      "_view_count": null,
      "_view_module": "@jupyter-widgets/base",
      "_view_module_version": "1.2.0",
      "_view_name": "LayoutView",
      "align_content": null,
      "align_items": null,
      "align_self": null,
      "border": null,
      "bottom": null,
      "display": null,
      "flex": null,
      "flex_flow": null,
      "grid_area": null,
      "grid_auto_columns": null,
      "grid_auto_flow": null,
      "grid_auto_rows": null,
      "grid_column": null,
      "grid_gap": null,
      "grid_row": null,
      "grid_template_areas": null,
      "grid_template_columns": null,
      "grid_template_rows": null,
      "height": null,
      "justify_content": null,
      "justify_items": null,
      "left": null,
      "margin": null,
      "max_height": null,
      "max_width": null,
      "min_height": null,
      "min_width": null,
      "object_fit": null,
      "object_position": null,
      "order": null,
      "overflow": null,
      "overflow_x": null,
      "overflow_y": null,
      "padding": null,
      "right": null,
      "top": null,
      "visibility": null,
      "width": null
     }
    },
    "a6cdb9e7bf2148c6a6d290413e0cff9d": {
     "model_module": "@jupyter-widgets/controls",
     "model_module_version": "1.5.0",
     "model_name": "HTMLModel",
     "state": {
      "_dom_classes": [],
      "_model_module": "@jupyter-widgets/controls",
      "_model_module_version": "1.5.0",
      "_model_name": "HTMLModel",
      "_view_count": null,
      "_view_module": "@jupyter-widgets/controls",
      "_view_module_version": "1.5.0",
      "_view_name": "HTMLView",
      "description": "",
      "description_tooltip": null,
      "layout": "IPY_MODEL_69f37265dfc242ba82d2c893793d0801",
      "placeholder": "​",
      "style": "IPY_MODEL_0fb6e047fdc7455498d8dd1472d226b7",
      "value": "Resolving data files: 100%"
     }
    },
    "abbfff8f86704b5f97e285dd77175aca": {
     "model_module": "@jupyter-widgets/controls",
     "model_module_version": "1.5.0",
     "model_name": "HBoxModel",
     "state": {
      "_dom_classes": [],
      "_model_module": "@jupyter-widgets/controls",
      "_model_module_version": "1.5.0",
      "_model_name": "HBoxModel",
      "_view_count": null,
      "_view_module": "@jupyter-widgets/controls",
      "_view_module_version": "1.5.0",
      "_view_name": "HBoxView",
      "box_style": "",
      "children": [
       "IPY_MODEL_0f9001127ce0464c97cd600c4571acbe",
       "IPY_MODEL_76cf27b122294d1e8c1173194cfb3a79",
       "IPY_MODEL_61b3c810670c46c08161b08d30edf096"
      ],
      "layout": "IPY_MODEL_679e04bb4b4e417c88a9705a85793fdd"
     }
    },
    "b07288d33d2548f28d968030e112ae3c": {
     "model_module": "@jupyter-widgets/controls",
     "model_module_version": "1.5.0",
     "model_name": "DescriptionStyleModel",
     "state": {
      "_model_module": "@jupyter-widgets/controls",
      "_model_module_version": "1.5.0",
      "_model_name": "DescriptionStyleModel",
      "_view_count": null,
      "_view_module": "@jupyter-widgets/base",
      "_view_module_version": "1.2.0",
      "_view_name": "StyleView",
      "description_width": ""
     }
    },
    "b0ed09005ea6476b95cb448c3f70375b": {
     "model_module": "@jupyter-widgets/controls",
     "model_module_version": "1.5.0",
     "model_name": "HTMLModel",
     "state": {
      "_dom_classes": [],
      "_model_module": "@jupyter-widgets/controls",
      "_model_module_version": "1.5.0",
      "_model_name": "HTMLModel",
      "_view_count": null,
      "_view_module": "@jupyter-widgets/controls",
      "_view_module_version": "1.5.0",
      "_view_name": "HTMLView",
      "description": "",
      "description_tooltip": null,
      "layout": "IPY_MODEL_a65a3a201f5540408d0500f3f2f6b9b7",
      "placeholder": "​",
      "style": "IPY_MODEL_ecee85cb6f484a819590c9811f2ee77e",
      "value": "Generating validation split: 100%"
     }
    },
    "b5927b0a68e84e9da8d662381028e2ee": {
     "model_module": "@jupyter-widgets/controls",
     "model_module_version": "1.5.0",
     "model_name": "HTMLModel",
     "state": {
      "_dom_classes": [],
      "_model_module": "@jupyter-widgets/controls",
      "_model_module_version": "1.5.0",
      "_model_name": "HTMLModel",
      "_view_count": null,
      "_view_module": "@jupyter-widgets/controls",
      "_view_module_version": "1.5.0",
      "_view_name": "HTMLView",
      "description": "",
      "description_tooltip": null,
      "layout": "IPY_MODEL_d0575777da14494b9e31ae59777a8817",
      "placeholder": "​",
      "style": "IPY_MODEL_86fa4b64050d49b6ba4bcd8b9b73c183",
      "value": "validation-00000-of-00007.parquet: 100%"
     }
    },
    "b5ac3106f1d7490788eeb0bb76d08a39": {
     "model_module": "@jupyter-widgets/controls",
     "model_module_version": "1.5.0",
     "model_name": "DescriptionStyleModel",
     "state": {
      "_model_module": "@jupyter-widgets/controls",
      "_model_module_version": "1.5.0",
      "_model_name": "DescriptionStyleModel",
      "_view_count": null,
      "_view_module": "@jupyter-widgets/base",
      "_view_module_version": "1.2.0",
      "_view_name": "StyleView",
      "description_width": ""
     }
    },
    "b9bc0b493caf493796ae263ad00e99a7": {
     "model_module": "@jupyter-widgets/controls",
     "model_module_version": "1.5.0",
     "model_name": "HTMLModel",
     "state": {
      "_dom_classes": [],
      "_model_module": "@jupyter-widgets/controls",
      "_model_module_version": "1.5.0",
      "_model_name": "HTMLModel",
      "_view_count": null,
      "_view_module": "@jupyter-widgets/controls",
      "_view_module_version": "1.5.0",
      "_view_name": "HTMLView",
      "description": "",
      "description_tooltip": null,
      "layout": "IPY_MODEL_1de00b9993074b1988c99d03f5eb0660",
      "placeholder": "​",
      "style": "IPY_MODEL_628d69c43119427baf24760b37a19d6a",
      "value": " 197M/197M [00:00&lt;00:00, 233MB/s]"
     }
    },
    "bee1b255c12844e28c0c01f023b4dcb7": {
     "model_module": "@jupyter-widgets/base",
     "model_module_version": "1.2.0",
     "model_name": "LayoutModel",
     "state": {
      "_model_module": "@jupyter-widgets/base",
      "_model_module_version": "1.2.0",
      "_model_name": "LayoutModel",
      "_view_count": null,
      "_view_module": "@jupyter-widgets/base",
      "_view_module_version": "1.2.0",
      "_view_name": "LayoutView",
      "align_content": null,
      "align_items": null,
      "align_self": null,
      "border": null,
      "bottom": null,
      "display": null,
      "flex": null,
      "flex_flow": null,
      "grid_area": null,
      "grid_auto_columns": null,
      "grid_auto_flow": null,
      "grid_auto_rows": null,
      "grid_column": null,
      "grid_gap": null,
      "grid_row": null,
      "grid_template_areas": null,
      "grid_template_columns": null,
      "grid_template_rows": null,
      "height": null,
      "justify_content": null,
      "justify_items": null,
      "left": null,
      "margin": null,
      "max_height": null,
      "max_width": null,
      "min_height": null,
      "min_width": null,
      "object_fit": null,
      "object_position": null,
      "order": null,
      "overflow": null,
      "overflow_x": null,
      "overflow_y": null,
      "padding": null,
      "right": null,
      "top": null,
      "visibility": null,
      "width": null
     }
    },
    "c32bd5ac5a524b26888f984f04987c6a": {
     "model_module": "@jupyter-widgets/base",
     "model_module_version": "1.2.0",
     "model_name": "LayoutModel",
     "state": {
      "_model_module": "@jupyter-widgets/base",
      "_model_module_version": "1.2.0",
      "_model_name": "LayoutModel",
      "_view_count": null,
      "_view_module": "@jupyter-widgets/base",
      "_view_module_version": "1.2.0",
      "_view_name": "LayoutView",
      "align_content": null,
      "align_items": null,
      "align_self": null,
      "border": null,
      "bottom": null,
      "display": null,
      "flex": null,
      "flex_flow": null,
      "grid_area": null,
      "grid_auto_columns": null,
      "grid_auto_flow": null,
      "grid_auto_rows": null,
      "grid_column": null,
      "grid_gap": null,
      "grid_row": null,
      "grid_template_areas": null,
      "grid_template_columns": null,
      "grid_template_rows": null,
      "height": null,
      "justify_content": null,
      "justify_items": null,
      "left": null,
      "margin": null,
      "max_height": null,
      "max_width": null,
      "min_height": null,
      "min_width": null,
      "object_fit": null,
      "object_position": null,
      "order": null,
      "overflow": null,
      "overflow_x": null,
      "overflow_y": null,
      "padding": null,
      "right": null,
      "top": null,
      "visibility": null,
      "width": null
     }
    },
    "c6aee1d7b9454675854f88c4a505636b": {
     "model_module": "@jupyter-widgets/base",
     "model_module_version": "1.2.0",
     "model_name": "LayoutModel",
     "state": {
      "_model_module": "@jupyter-widgets/base",
      "_model_module_version": "1.2.0",
      "_model_name": "LayoutModel",
      "_view_count": null,
      "_view_module": "@jupyter-widgets/base",
      "_view_module_version": "1.2.0",
      "_view_name": "LayoutView",
      "align_content": null,
      "align_items": null,
      "align_self": null,
      "border": null,
      "bottom": null,
      "display": null,
      "flex": null,
      "flex_flow": null,
      "grid_area": null,
      "grid_auto_columns": null,
      "grid_auto_flow": null,
      "grid_auto_rows": null,
      "grid_column": null,
      "grid_gap": null,
      "grid_row": null,
      "grid_template_areas": null,
      "grid_template_columns": null,
      "grid_template_rows": null,
      "height": null,
      "justify_content": null,
      "justify_items": null,
      "left": null,
      "margin": null,
      "max_height": null,
      "max_width": null,
      "min_height": null,
      "min_width": null,
      "object_fit": null,
      "object_position": null,
      "order": null,
      "overflow": null,
      "overflow_x": null,
      "overflow_y": null,
      "padding": null,
      "right": null,
      "top": null,
      "visibility": null,
      "width": null
     }
    },
    "c7aa060f428d42289b706534d8aaa8df": {
     "model_module": "@jupyter-widgets/controls",
     "model_module_version": "1.5.0",
     "model_name": "ProgressStyleModel",
     "state": {
      "_model_module": "@jupyter-widgets/controls",
      "_model_module_version": "1.5.0",
      "_model_name": "ProgressStyleModel",
      "_view_count": null,
      "_view_module": "@jupyter-widgets/base",
      "_view_module_version": "1.2.0",
      "_view_name": "StyleView",
      "bar_color": null,
      "description_width": ""
     }
    },
    "cb1b8d20ba5a4ec291b218dd683f2913": {
     "model_module": "@jupyter-widgets/controls",
     "model_module_version": "1.5.0",
     "model_name": "HBoxModel",
     "state": {
      "_dom_classes": [],
      "_model_module": "@jupyter-widgets/controls",
      "_model_module_version": "1.5.0",
      "_model_name": "HBoxModel",
      "_view_count": null,
      "_view_module": "@jupyter-widgets/controls",
      "_view_module_version": "1.5.0",
      "_view_name": "HBoxView",
      "box_style": "",
      "children": [
       "IPY_MODEL_73a61c945d7e482ca2087c47c893521e",
       "IPY_MODEL_709689921d5a46c9a53a1e13cc210f20",
       "IPY_MODEL_b9bc0b493caf493796ae263ad00e99a7"
      ],
      "layout": "IPY_MODEL_04ab3daac680430594faf3597123a11c"
     }
    },
    "ccf14eb765484bddb5b7c9d36fd63a3f": {
     "model_module": "@jupyter-widgets/controls",
     "model_module_version": "1.5.0",
     "model_name": "DescriptionStyleModel",
     "state": {
      "_model_module": "@jupyter-widgets/controls",
      "_model_module_version": "1.5.0",
      "_model_name": "DescriptionStyleModel",
      "_view_count": null,
      "_view_module": "@jupyter-widgets/base",
      "_view_module_version": "1.2.0",
      "_view_name": "StyleView",
      "description_width": ""
     }
    },
    "cd275c015005459f90b9c770c8de94b5": {
     "model_module": "@jupyter-widgets/base",
     "model_module_version": "1.2.0",
     "model_name": "LayoutModel",
     "state": {
      "_model_module": "@jupyter-widgets/base",
      "_model_module_version": "1.2.0",
      "_model_name": "LayoutModel",
      "_view_count": null,
      "_view_module": "@jupyter-widgets/base",
      "_view_module_version": "1.2.0",
      "_view_name": "LayoutView",
      "align_content": null,
      "align_items": null,
      "align_self": null,
      "border": null,
      "bottom": null,
      "display": null,
      "flex": null,
      "flex_flow": null,
      "grid_area": null,
      "grid_auto_columns": null,
      "grid_auto_flow": null,
      "grid_auto_rows": null,
      "grid_column": null,
      "grid_gap": null,
      "grid_row": null,
      "grid_template_areas": null,
      "grid_template_columns": null,
      "grid_template_rows": null,
      "height": null,
      "justify_content": null,
      "justify_items": null,
      "left": null,
      "margin": null,
      "max_height": null,
      "max_width": null,
      "min_height": null,
      "min_width": null,
      "object_fit": null,
      "object_position": null,
      "order": null,
      "overflow": null,
      "overflow_x": null,
      "overflow_y": null,
      "padding": null,
      "right": null,
      "top": null,
      "visibility": null,
      "width": null
     }
    },
    "d0575777da14494b9e31ae59777a8817": {
     "model_module": "@jupyter-widgets/base",
     "model_module_version": "1.2.0",
     "model_name": "LayoutModel",
     "state": {
      "_model_module": "@jupyter-widgets/base",
      "_model_module_version": "1.2.0",
      "_model_name": "LayoutModel",
      "_view_count": null,
      "_view_module": "@jupyter-widgets/base",
      "_view_module_version": "1.2.0",
      "_view_name": "LayoutView",
      "align_content": null,
      "align_items": null,
      "align_self": null,
      "border": null,
      "bottom": null,
      "display": null,
      "flex": null,
      "flex_flow": null,
      "grid_area": null,
      "grid_auto_columns": null,
      "grid_auto_flow": null,
      "grid_auto_rows": null,
      "grid_column": null,
      "grid_gap": null,
      "grid_row": null,
      "grid_template_areas": null,
      "grid_template_columns": null,
      "grid_template_rows": null,
      "height": null,
      "justify_content": null,
      "justify_items": null,
      "left": null,
      "margin": null,
      "max_height": null,
      "max_width": null,
      "min_height": null,
      "min_width": null,
      "object_fit": null,
      "object_position": null,
      "order": null,
      "overflow": null,
      "overflow_x": null,
      "overflow_y": null,
      "padding": null,
      "right": null,
      "top": null,
      "visibility": null,
      "width": null
     }
    },
    "d21c5b7c8bf04bd8b908a9ab5c57aab3": {
     "model_module": "@jupyter-widgets/base",
     "model_module_version": "1.2.0",
     "model_name": "LayoutModel",
     "state": {
      "_model_module": "@jupyter-widgets/base",
      "_model_module_version": "1.2.0",
      "_model_name": "LayoutModel",
      "_view_count": null,
      "_view_module": "@jupyter-widgets/base",
      "_view_module_version": "1.2.0",
      "_view_name": "LayoutView",
      "align_content": null,
      "align_items": null,
      "align_self": null,
      "border": null,
      "bottom": null,
      "display": null,
      "flex": null,
      "flex_flow": null,
      "grid_area": null,
      "grid_auto_columns": null,
      "grid_auto_flow": null,
      "grid_auto_rows": null,
      "grid_column": null,
      "grid_gap": null,
      "grid_row": null,
      "grid_template_areas": null,
      "grid_template_columns": null,
      "grid_template_rows": null,
      "height": null,
      "justify_content": null,
      "justify_items": null,
      "left": null,
      "margin": null,
      "max_height": null,
      "max_width": null,
      "min_height": null,
      "min_width": null,
      "object_fit": null,
      "object_position": null,
      "order": null,
      "overflow": null,
      "overflow_x": null,
      "overflow_y": null,
      "padding": null,
      "right": null,
      "top": null,
      "visibility": null,
      "width": null
     }
    },
    "d27c1a9d40c24bb5aba2ee9bcee5c94c": {
     "model_module": "@jupyter-widgets/controls",
     "model_module_version": "1.5.0",
     "model_name": "DescriptionStyleModel",
     "state": {
      "_model_module": "@jupyter-widgets/controls",
      "_model_module_version": "1.5.0",
      "_model_name": "DescriptionStyleModel",
      "_view_count": null,
      "_view_module": "@jupyter-widgets/base",
      "_view_module_version": "1.2.0",
      "_view_name": "StyleView",
      "description_width": ""
     }
    },
    "d35fc406e04047cb81ea173564042e4c": {
     "model_module": "@jupyter-widgets/controls",
     "model_module_version": "1.5.0",
     "model_name": "FloatProgressModel",
     "state": {
      "_dom_classes": [],
      "_model_module": "@jupyter-widgets/controls",
      "_model_module_version": "1.5.0",
      "_model_name": "FloatProgressModel",
      "_view_count": null,
      "_view_module": "@jupyter-widgets/controls",
      "_view_module_version": "1.5.0",
      "_view_name": "ProgressView",
      "bar_style": "success",
      "description": "",
      "description_tooltip": null,
      "layout": "IPY_MODEL_a3a1bb788835489da49e0f010450fa92",
      "max": 7830,
      "min": 0,
      "orientation": "horizontal",
      "style": "IPY_MODEL_a574b24c47304d769eac45f8ccd4d91f",
      "value": 7830
     }
    },
    "d49235f9c954498884011d9e609c8566": {
     "model_module": "@jupyter-widgets/controls",
     "model_module_version": "1.5.0",
     "model_name": "HBoxModel",
     "state": {
      "_dom_classes": [],
      "_model_module": "@jupyter-widgets/controls",
      "_model_module_version": "1.5.0",
      "_model_name": "HBoxModel",
      "_view_count": null,
      "_view_module": "@jupyter-widgets/controls",
      "_view_module_version": "1.5.0",
      "_view_name": "HBoxView",
      "box_style": "",
      "children": [
       "IPY_MODEL_50cb221a793d4d82b1d9208ee79dba0c",
       "IPY_MODEL_98c1791b67f9483c98ddc6cb41bf103c",
       "IPY_MODEL_4228c3b0865c417498f35a5ffdd76ce4"
      ],
      "layout": "IPY_MODEL_3e363ef5a3d140b4b801d8bde323bf7f"
     }
    },
    "d62dd971e9fb4de581bb622d8796b652": {
     "model_module": "@jupyter-widgets/base",
     "model_module_version": "1.2.0",
     "model_name": "LayoutModel",
     "state": {
      "_model_module": "@jupyter-widgets/base",
      "_model_module_version": "1.2.0",
      "_model_name": "LayoutModel",
      "_view_count": null,
      "_view_module": "@jupyter-widgets/base",
      "_view_module_version": "1.2.0",
      "_view_name": "LayoutView",
      "align_content": null,
      "align_items": null,
      "align_self": null,
      "border": null,
      "bottom": null,
      "display": null,
      "flex": null,
      "flex_flow": null,
      "grid_area": null,
      "grid_auto_columns": null,
      "grid_auto_flow": null,
      "grid_auto_rows": null,
      "grid_column": null,
      "grid_gap": null,
      "grid_row": null,
      "grid_template_areas": null,
      "grid_template_columns": null,
      "grid_template_rows": null,
      "height": null,
      "justify_content": null,
      "justify_items": null,
      "left": null,
      "margin": null,
      "max_height": null,
      "max_width": null,
      "min_height": null,
      "min_width": null,
      "object_fit": null,
      "object_position": null,
      "order": null,
      "overflow": null,
      "overflow_x": null,
      "overflow_y": null,
      "padding": null,
      "right": null,
      "top": null,
      "visibility": null,
      "width": null
     }
    },
    "d63665109d2842458374c84a919e9ead": {
     "model_module": "@jupyter-widgets/base",
     "model_module_version": "1.2.0",
     "model_name": "LayoutModel",
     "state": {
      "_model_module": "@jupyter-widgets/base",
      "_model_module_version": "1.2.0",
      "_model_name": "LayoutModel",
      "_view_count": null,
      "_view_module": "@jupyter-widgets/base",
      "_view_module_version": "1.2.0",
      "_view_name": "LayoutView",
      "align_content": null,
      "align_items": null,
      "align_self": null,
      "border": null,
      "bottom": null,
      "display": null,
      "flex": null,
      "flex_flow": null,
      "grid_area": null,
      "grid_auto_columns": null,
      "grid_auto_flow": null,
      "grid_auto_rows": null,
      "grid_column": null,
      "grid_gap": null,
      "grid_row": null,
      "grid_template_areas": null,
      "grid_template_columns": null,
      "grid_template_rows": null,
      "height": null,
      "justify_content": null,
      "justify_items": null,
      "left": null,
      "margin": null,
      "max_height": null,
      "max_width": null,
      "min_height": null,
      "min_width": null,
      "object_fit": null,
      "object_position": null,
      "order": null,
      "overflow": null,
      "overflow_x": null,
      "overflow_y": null,
      "padding": null,
      "right": null,
      "top": null,
      "visibility": null,
      "width": null
     }
    },
    "de15449e80474534bc9a23b8252a4459": {
     "model_module": "@jupyter-widgets/controls",
     "model_module_version": "1.5.0",
     "model_name": "HTMLModel",
     "state": {
      "_dom_classes": [],
      "_model_module": "@jupyter-widgets/controls",
      "_model_module_version": "1.5.0",
      "_model_name": "HTMLModel",
      "_view_count": null,
      "_view_module": "@jupyter-widgets/controls",
      "_view_module_version": "1.5.0",
      "_view_name": "HTMLView",
      "description": "",
      "description_tooltip": null,
      "layout": "IPY_MODEL_d62dd971e9fb4de581bb622d8796b652",
      "placeholder": "​",
      "style": "IPY_MODEL_7ac9b4466c2d45959b29b5d6dc279314",
      "value": "validation-00005-of-00007.parquet: 100%"
     }
    },
    "e1d47f4120b0482c8eb079e30b64e637": {
     "model_module": "@jupyter-widgets/base",
     "model_module_version": "1.2.0",
     "model_name": "LayoutModel",
     "state": {
      "_model_module": "@jupyter-widgets/base",
      "_model_module_version": "1.2.0",
      "_model_name": "LayoutModel",
      "_view_count": null,
      "_view_module": "@jupyter-widgets/base",
      "_view_module_version": "1.2.0",
      "_view_name": "LayoutView",
      "align_content": null,
      "align_items": null,
      "align_self": null,
      "border": null,
      "bottom": null,
      "display": null,
      "flex": null,
      "flex_flow": null,
      "grid_area": null,
      "grid_auto_columns": null,
      "grid_auto_flow": null,
      "grid_auto_rows": null,
      "grid_column": null,
      "grid_gap": null,
      "grid_row": null,
      "grid_template_areas": null,
      "grid_template_columns": null,
      "grid_template_rows": null,
      "height": null,
      "justify_content": null,
      "justify_items": null,
      "left": null,
      "margin": null,
      "max_height": null,
      "max_width": null,
      "min_height": null,
      "min_width": null,
      "object_fit": null,
      "object_position": null,
      "order": null,
      "overflow": null,
      "overflow_x": null,
      "overflow_y": null,
      "padding": null,
      "right": null,
      "top": null,
      "visibility": null,
      "width": null
     }
    },
    "e7d8b6e4e26645bca66f61fa3dacd86b": {
     "model_module": "@jupyter-widgets/controls",
     "model_module_version": "1.5.0",
     "model_name": "ProgressStyleModel",
     "state": {
      "_model_module": "@jupyter-widgets/controls",
      "_model_module_version": "1.5.0",
      "_model_name": "ProgressStyleModel",
      "_view_count": null,
      "_view_module": "@jupyter-widgets/base",
      "_view_module_version": "1.2.0",
      "_view_name": "StyleView",
      "bar_color": null,
      "description_width": ""
     }
    },
    "eb4244e473a04876bae9cfa6baf63832": {
     "model_module": "@jupyter-widgets/controls",
     "model_module_version": "1.5.0",
     "model_name": "FloatProgressModel",
     "state": {
      "_dom_classes": [],
      "_model_module": "@jupyter-widgets/controls",
      "_model_module_version": "1.5.0",
      "_model_name": "FloatProgressModel",
      "_view_count": null,
      "_view_module": "@jupyter-widgets/controls",
      "_view_module_version": "1.5.0",
      "_view_name": "ProgressView",
      "bar_style": "success",
      "description": "",
      "description_tooltip": null,
      "layout": "IPY_MODEL_9f4e8b82a6df40879b77130e2c05f480",
      "max": 189709804,
      "min": 0,
      "orientation": "horizontal",
      "style": "IPY_MODEL_27e27e57f6554e46bd90c2f24d575f08",
      "value": 189709804
     }
    },
    "ec578af0f8fe4d75b36d62a69ce74bd3": {
     "model_module": "@jupyter-widgets/controls",
     "model_module_version": "1.5.0",
     "model_name": "DescriptionStyleModel",
     "state": {
      "_model_module": "@jupyter-widgets/controls",
      "_model_module_version": "1.5.0",
      "_model_name": "DescriptionStyleModel",
      "_view_count": null,
      "_view_module": "@jupyter-widgets/base",
      "_view_module_version": "1.2.0",
      "_view_name": "StyleView",
      "description_width": ""
     }
    },
    "ecee85cb6f484a819590c9811f2ee77e": {
     "model_module": "@jupyter-widgets/controls",
     "model_module_version": "1.5.0",
     "model_name": "DescriptionStyleModel",
     "state": {
      "_model_module": "@jupyter-widgets/controls",
      "_model_module_version": "1.5.0",
      "_model_name": "DescriptionStyleModel",
      "_view_count": null,
      "_view_module": "@jupyter-widgets/base",
      "_view_module_version": "1.2.0",
      "_view_name": "StyleView",
      "description_width": ""
     }
    },
    "f5b8ad311be044eaa96bc7fa42c9220e": {
     "model_module": "@jupyter-widgets/controls",
     "model_module_version": "1.5.0",
     "model_name": "HTMLModel",
     "state": {
      "_dom_classes": [],
      "_model_module": "@jupyter-widgets/controls",
      "_model_module_version": "1.5.0",
      "_model_name": "HTMLModel",
      "_view_count": null,
      "_view_module": "@jupyter-widgets/controls",
      "_view_module_version": "1.5.0",
      "_view_name": "HTMLView",
      "description": "",
      "description_tooltip": null,
      "layout": "IPY_MODEL_c6aee1d7b9454675854f88c4a505636b",
      "placeholder": "​",
      "style": "IPY_MODEL_ec578af0f8fe4d75b36d62a69ce74bd3",
      "value": " 191M/191M [00:01&lt;00:00, 190MB/s]"
     }
    },
    "fb43fea75a6a407287163d161b2bcb07": {
     "model_module": "@jupyter-widgets/controls",
     "model_module_version": "1.5.0",
     "model_name": "HBoxModel",
     "state": {
      "_dom_classes": [],
      "_model_module": "@jupyter-widgets/controls",
      "_model_module_version": "1.5.0",
      "_model_name": "HBoxModel",
      "_view_count": null,
      "_view_module": "@jupyter-widgets/controls",
      "_view_module_version": "1.5.0",
      "_view_name": "HBoxView",
      "box_style": "",
      "children": [
       "IPY_MODEL_de15449e80474534bc9a23b8252a4459",
       "IPY_MODEL_051bbc68bfcb4ce982b953e47ebb0a81",
       "IPY_MODEL_56e50478b7b445fd8ae07df557286779"
      ],
      "layout": "IPY_MODEL_6be3d171de9b49ce8d253d7d6b93df4e"
     }
    },
    "fbfd3a198bef4b66bdd01351d2775893": {
     "model_module": "@jupyter-widgets/controls",
     "model_module_version": "1.5.0",
     "model_name": "HTMLModel",
     "state": {
      "_dom_classes": [],
      "_model_module": "@jupyter-widgets/controls",
      "_model_module_version": "1.5.0",
      "_model_name": "HTMLModel",
      "_view_count": null,
      "_view_module": "@jupyter-widgets/controls",
      "_view_module_version": "1.5.0",
      "_view_name": "HTMLView",
      "description": "",
      "description_tooltip": null,
      "layout": "IPY_MODEL_37a5cb0ce3a449aca402ab53d12c1903",
      "placeholder": "​",
      "style": "IPY_MODEL_9eacf72c600a410c80f2f403fe99db93",
      "value": "validation-00004-of-00007.parquet: 100%"
     }
    }
   }
  }
 },
 "nbformat": 4,
 "nbformat_minor": 4
}

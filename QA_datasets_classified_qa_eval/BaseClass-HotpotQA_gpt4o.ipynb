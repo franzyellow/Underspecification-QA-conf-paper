{
 "cells": [
  {
   "cell_type": "code",
   "execution_count": 1,
   "id": "db2581eb-dd0f-48e5-b15f-e3ddd8608cbe",
   "metadata": {},
   "outputs": [
    {
     "name": "stdout",
     "output_type": "stream",
     "text": [
      "Wed Sep 10 16:19:49 2025       \n",
      "+-----------------------------------------------------------------------------------------+\n",
      "| NVIDIA-SMI 575.57.08              Driver Version: 575.57.08      CUDA Version: 12.9     |\n",
      "|-----------------------------------------+------------------------+----------------------+\n",
      "| GPU  Name                 Persistence-M | Bus-Id          Disp.A | Volatile Uncorr. ECC |\n",
      "| Fan  Temp   Perf          Pwr:Usage/Cap |           Memory-Usage | GPU-Util  Compute M. |\n",
      "|                                         |                        |               MIG M. |\n",
      "|=========================================+========================+======================|\n",
      "|   0  NVIDIA A100-SXM4-40GB          On  |   00000000:31:00.0 Off |                    0 |\n",
      "| N/A   29C    P0             49W /  400W |       0MiB /  40960MiB |      0%      Default |\n",
      "|                                         |                        |             Disabled |\n",
      "+-----------------------------------------+------------------------+----------------------+\n",
      "                                                                                         \n",
      "+-----------------------------------------------------------------------------------------+\n",
      "| Processes:                                                                              |\n",
      "|  GPU   GI   CI              PID   Type   Process name                        GPU Memory |\n",
      "|        ID   ID                                                               Usage      |\n",
      "|=========================================================================================|\n",
      "|  No running processes found                                                             |\n",
      "+-----------------------------------------------------------------------------------------+\n"
     ]
    }
   ],
   "source": [
    "!nvidia-smi\n",
    "%matplotlib inline"
   ]
  },
  {
   "cell_type": "code",
   "execution_count": 1,
   "id": "45262588-1de8-41d9-ae38-25488a28160f",
   "metadata": {},
   "outputs": [
    {
     "data": {
      "text/plain": [
       "True"
      ]
     },
     "execution_count": 1,
     "metadata": {},
     "output_type": "execute_result"
    }
   ],
   "source": [
    "import os\n",
    "import dspy\n",
    "import pandas as pd\n",
    "from sklearn.metrics import classification_report\n",
    "import matplotlib.pyplot as plt\n",
    "from sklearn.metrics import confusion_matrix\n",
    "from sklearn.metrics import ConfusionMatrixDisplay\n",
    "from tqdm import tqdm\n",
    "from typing import List, Literal, List, Dict, Any, Optional\n",
    "from dspy.evaluate import Evaluate\n",
    "from dspy import LabeledFewShot\n",
    "from dspy.teleprompt import BootstrapFewShotWithRandomSearch\n",
    "import numpy as np\n",
    "import seaborn as sns\n",
    "\n",
    "from datasets import load_dataset\n",
    "import random\n",
    "import json\n",
    "import re\n",
    "from functools import partial\n",
    "from datasets import Dataset\n",
    "from copy import deepcopy\n",
    "import evaluate\n",
    "import nltk\n",
    "from scipy.stats import ttest_ind\n",
    "import string\n",
    "from collections import Counter\n",
    "\n",
    "import openai\n",
    "import os\n",
    "import time\n",
    "import pandas as pd\n",
    "\n",
    "from ragas.llms import LangchainLLMWrapper\n",
    "from langchain_deepseek import ChatDeepSeek\n",
    "from ragas.dataset_schema import SingleTurnSample\n",
    "from ragas.metrics import AnswerAccuracy\n",
    "from dotenv import load_dotenv\n",
    "load_dotenv()"
   ]
  },
  {
   "cell_type": "code",
   "execution_count": null,
   "id": "87b1edf3-8dda-4ea8-9439-bf0f624526e5",
   "metadata": {},
   "outputs": [],
   "source": [
    "\"\"\"\n",
    "module load CUDA/12.4.0\n",
    "source ~/sglang-venv-2/bin/activate\n",
    "huggingface-cli login\n",
    "\n",
    "\n",
    "# 创建所有必要的目录\n",
    "mkdir -p /scratch-local/yhuang/sglang_cache\n",
    "mkdir -p /scratch-local/yhuang/huggingface_cache\n",
    "mkdir -p /scratch-local/yhuang/torch_cache\n",
    "mkdir -p /scratch-local/yhuang/cuda_cache\n",
    "mkdir -p /scratch-local/yhuang/xdg_cache\n",
    "mkdir -p /scratch-local/yhuang/tmp\n",
    "mkdir -p /scratch-local/yhuang/logs\n",
    "\n",
    "# 设置所有相关环境变量\n",
    "export SGLANG_CACHE_DIR=/scratch-local/yhuang/sglang_cache\n",
    "export TRANSFORMERS_CACHE=/scratch-local/yhuang/huggingface_cache\n",
    "export HF_HOME=/scratch-local/yhuang/huggingface_cache\n",
    "export HF_DATASETS_CACHE=/scratch-local/yhuang/huggingface_cache/datasets\n",
    "export TORCH_HOME=/scratch-local/yhuang/torch_cache\n",
    "export CUDA_CACHE_PATH=/scratch-local/yhuang/cuda_cache\n",
    "export XDG_CACHE_HOME=/scratch-local/yhuang/xdg_cache\n",
    "export TMPDIR=/scratch-local/yhuang/tmp\n",
    "export TEMP=/scratch-local/yhuang/tmp\n",
    "export TMP=/scratch-local/yhuang/tmp\n",
    "export SGLANG_LOG_DIR=/scratch-local/yhuang/logs\n",
    "\n",
    "# launching\n",
    "python -m sglang.launch_server --port 7501 --model-path Qwen/Qwen3-4B --trust-remote-code\n",
    "CUDA_VISIBLE_DEVICES=0,1 python -m sglang.launch_server --port 7501 --model-path Qwen/Qwen3-32B --trust-remote-code --tp 2\n",
    "\"\"\""
   ]
  },
  {
   "cell_type": "markdown",
   "id": "63166027-e682-4b64-9d37-7236508aec3c",
   "metadata": {},
   "source": [
    "#### Loading the HotpotQA sample"
   ]
  },
  {
   "cell_type": "code",
   "execution_count": 3,
   "id": "d255f1f1-5675-4339-a8ef-fdfb7aefe977",
   "metadata": {},
   "outputs": [],
   "source": [
    "import os\n",
    "\n",
    "os.environ[\"HF_DATASETS_CACHE\"] = \"/scratch-local/yhuang/huggingface_cache\"\n",
    "# 确保目录存在\n",
    "os.makedirs('/scratch-local/yhuang/huggingface_cache', exist_ok=True)"
   ]
  },
  {
   "cell_type": "code",
   "execution_count": 4,
   "id": "239e7748-1f8c-4070-bc2b-1f878fde577d",
   "metadata": {},
   "outputs": [
    {
     "data": {
      "application/vnd.jupyter.widget-view+json": {
       "model_id": "2a9c5bb17f7f49e08a699daca3244817",
       "version_major": 2,
       "version_minor": 0
      },
      "text/plain": [
       "Generating train split: 0 examples [00:00, ? examples/s]"
      ]
     },
     "metadata": {},
     "output_type": "display_data"
    }
   ],
   "source": [
    "HotpotQA_sample = load_dataset(\n",
    "    \"json\",\n",
    "    data_files=\"hotpot_sample_raw.jsonl\",\n",
    "    split=\"train\"  # 必须指定 split，否则默认返回 DatasetDict\n",
    ")"
   ]
  },
  {
   "cell_type": "markdown",
   "id": "hYao-kS6wkFv",
   "metadata": {
    "id": "hYao-kS6wkFv"
   },
   "source": [
    "## Using the off-the-shelf Qwen3-4B for classification"
   ]
  },
  {
   "cell_type": "markdown",
   "id": "gtF5XkdgwpJc",
   "metadata": {
    "id": "gtF5XkdgwpJc"
   },
   "source": [
    "#### Prompt setting"
   ]
  },
  {
   "cell_type": "code",
   "execution_count": 5,
   "id": "dF9115fRwnO2",
   "metadata": {
    "id": "dF9115fRwnO2"
   },
   "outputs": [],
   "source": [
    "system_prompt = \"\"\"\n",
    "You are an expert analyst. Your task is to analyze and determine whether an input user query is \"fully specified\" or \"underspecified\".\n",
    "\n",
    "\"\"\"\n",
    "\n",
    "task_FS_UND = \"\"\"\n",
    "Analyze the following input user query:\n",
    "\n",
    "{\"query\": \"TARGET\"}\n",
    "\n",
    "Please provide your analysis in the following JSON format:\n",
    "\n",
    "{\"query\": \"TARGET\", \"reasoning\": \"[YOUR_DETAILED_REASONING]\", \"judgment\": \"[fully specified/underspecified]\"}\n",
    "\"\"\""
   ]
  },
  {
   "cell_type": "markdown",
   "id": "74607736-9bc4-42a0-8e40-19a20f348a03",
   "metadata": {},
   "source": [
    "#### Loading the model"
   ]
  },
  {
   "cell_type": "code",
   "execution_count": 6,
   "id": "2eb479a8-793d-4a4a-9bfa-743762000aae",
   "metadata": {},
   "outputs": [
    {
     "data": {
      "application/vnd.jupyter.widget-view+json": {
       "model_id": "929fb9a395d74023a1e2353b48d8350e",
       "version_major": 2,
       "version_minor": 0
      },
      "text/plain": [
       "Loading checkpoint shards:   0%|          | 0/3 [00:00<?, ?it/s]"
      ]
     },
     "metadata": {},
     "output_type": "display_data"
    },
    {
     "name": "stdout",
     "output_type": "stream",
     "text": [
      "cuda\n"
     ]
    }
   ],
   "source": [
    "Qwen3_4B = \"Qwen/Qwen3-4B\"\n",
    "\n",
    "import os\n",
    "os.environ['TRANSFORMERS_CACHE'] = '/scratch-local/yhuang/huggingface_cache'\n",
    "# 确保目录存在\n",
    "os.makedirs('/scratch-local/yhuang/huggingface_cache', exist_ok=True)\n",
    "\n",
    "# Load model directly\n",
    "from transformers import AutoTokenizer, AutoModelForCausalLM\n",
    "\n",
    "tokenizer = AutoTokenizer.from_pretrained(Qwen3_4B, padding_side='left')\n",
    "model = AutoModelForCausalLM.from_pretrained(Qwen3_4B)\n",
    "\n",
    "# 将模型移到可用设备\n",
    "device = torch.device(\"cuda\" if torch.cuda.is_available() else \"cpu\")\n",
    "print(device)\n",
    "model = model.to(device)"
   ]
  },
  {
   "cell_type": "markdown",
   "id": "GvhJL80GwybN",
   "metadata": {
    "id": "GvhJL80GwybN"
   },
   "source": [
    "## Helper functions"
   ]
  },
  {
   "cell_type": "code",
   "execution_count": 7,
   "id": "a4T_hq_7wxjj",
   "metadata": {
    "id": "a4T_hq_7wxjj"
   },
   "outputs": [],
   "source": [
    "def batch_generate_responses_qwen3(prompts, system_prompt=system_prompt,\n",
    "                             temperature=0.7, max_new_tokens=32768, batch_size=5,\n",
    "                             enable_thinking=True, parse_thinking=True):\n",
    "    \"\"\"\n",
    "    批量生成Qwen 3模型的回复\n",
    "\n",
    "    参数:\n",
    "        prompts: 字符串列表，每个字符串是一个提示词\n",
    "        system_prompt: 系统提示词\n",
    "        max_new_tokens: 生成的最大token数，默认为512\n",
    "        batch_size: 每批处理的提示词数量，默认为4\n",
    "        enable_thinking: 是否启用思考模式，默认为True\n",
    "        parse_thinking: 是否解析思考内容，默认为True\n",
    "\n",
    "    返回:\n",
    "        如果parse_thinking=True，返回(思考内容列表, 回复内容列表)的元组\n",
    "        如果parse_thinking=False，返回回复列表\n",
    "    \"\"\"\n",
    "\n",
    "    responses = []\n",
    "    thinking_contents = [] if parse_thinking else None\n",
    "\n",
    "    # 按批次处理\n",
    "    for i in tqdm(range(0, len(prompts), batch_size)):\n",
    "        batch_prompts = prompts[i:i+batch_size]\n",
    "        batch_texts = []\n",
    "\n",
    "        # 为每个提示词准备输入文本\n",
    "        for prompt in batch_prompts:\n",
    "            if system_prompt:\n",
    "                messages = [\n",
    "                    {\"role\": \"system\", \"content\": system_prompt},\n",
    "                    {\"role\": \"user\", \"content\": prompt}\n",
    "                ]\n",
    "            else:\n",
    "                messages = [\n",
    "                    {\"role\": \"user\", \"content\": prompt}\n",
    "                ]\n",
    "\n",
    "            text = tokenizer.apply_chat_template(\n",
    "                messages,\n",
    "                tokenize=False,\n",
    "                add_generation_prompt=True,\n",
    "                enable_thinking=enable_thinking  # 启用思考模式\n",
    "            )\n",
    "            batch_texts.append(text)\n",
    "\n",
    "        # 批量编码输入\n",
    "        model_inputs = tokenizer(batch_texts, return_tensors=\"pt\", padding=True, truncation=True).to(model.device)\n",
    "\n",
    "        # 生成回复\n",
    "        with torch.no_grad():\n",
    "            generated_ids = model.generate(\n",
    "                **model_inputs,\n",
    "                max_new_tokens=max_new_tokens,\n",
    "                do_sample=True,\n",
    "                temperature=temperature,\n",
    "                top_p=0.9,\n",
    "                repetition_penalty=1.2\n",
    "            )\n",
    "\n",
    "        # 处理生成的回复\n",
    "        batch_responses = []\n",
    "        batch_thinking = [] if parse_thinking else None\n",
    "\n",
    "        for input_ids, output_ids in zip(model_inputs.input_ids, generated_ids):\n",
    "            response_ids = output_ids[len(input_ids):].tolist()\n",
    "\n",
    "            if parse_thinking and enable_thinking:\n",
    "                # 解析思考内容\n",
    "                try:\n",
    "                    # 寻找</think>对应的token ID (151668)\n",
    "                    index = len(response_ids) - response_ids[::-1].index(151668)\n",
    "                except ValueError:\n",
    "                    index = 0\n",
    "\n",
    "                thinking_content = tokenizer.decode(response_ids[:index], skip_special_tokens=True).strip(\"\\n\")\n",
    "                content = tokenizer.decode(response_ids[index:], skip_special_tokens=True).strip(\"\\n\")\n",
    "\n",
    "                batch_thinking.append(thinking_content)\n",
    "                batch_responses.append(content)\n",
    "            else:\n",
    "                # 不解析思考内容，直接返回完整回复\n",
    "                response = tokenizer.decode(response_ids, skip_special_tokens=True)\n",
    "                batch_responses.append(response)\n",
    "\n",
    "        responses.extend(batch_responses)\n",
    "        if parse_thinking:\n",
    "            thinking_contents.extend(batch_thinking)\n",
    "\n",
    "    if parse_thinking:\n",
    "        return thinking_contents, responses\n",
    "    else:\n",
    "        return responses\n",
    "\n",
    "def get_judgments_from_responses(responses: List[str]) -> List[Optional[str]]:\n",
    "    \"\"\"\n",
    "    推荐的解析函数，结合了多种方法的优点\n",
    "    \"\"\"\n",
    "    judgments = []\n",
    "\n",
    "    for i, response in enumerate(responses):\n",
    "        judgment = None\n",
    "\n",
    "        try:\n",
    "            # 方法1: 尝试直接解析JSON\n",
    "            clean_response = response.strip()\n",
    "            if clean_response.startswith('{') and clean_response.endswith('}'):\n",
    "                data = json.loads(clean_response)\n",
    "                judgment = data.get('judgment')\n",
    "            else:\n",
    "                # 方法2: 寻找JSON部分\n",
    "                start_idx = clean_response.find('{')\n",
    "                end_idx = clean_response.rfind('}')\n",
    "                if start_idx != -1 and end_idx != -1:\n",
    "                    json_part = clean_response[start_idx:end_idx+1]\n",
    "                    data = json.loads(json_part)\n",
    "                    judgment = data.get('judgment')\n",
    "\n",
    "        except json.JSONDecodeError:\n",
    "            # 方法3: 使用正则表达式作为后备\n",
    "            pattern = r'\"judgment\"\\s*:\\s*\"([^\"]*)\"'\n",
    "            match = re.search(pattern, response)\n",
    "            if match:\n",
    "                judgment = match.group(1)\n",
    "\n",
    "        if judgment is None:\n",
    "            print(f\"Warning: response {i} cannot retrieve judgment\")\n",
    "            print(f\"Respond content: {response[:200]}...\")\n",
    "            judgment = \"error\"\n",
    "\n",
    "        judgments.append(judgment)\n",
    "\n",
    "    return judgments\n",
    "\n",
    "\n",
    "\n",
    "def run_experiment(input_prompts, test_df):\n",
    "  output = batch_generate_responses_qwen3(input_prompts)\n",
    "  df = test_df.copy()\n",
    "  df['thinking'] = output[0]\n",
    "  df['model_response'] = output[1]\n",
    "  to_process = output[1]\n",
    "  processed_judgments = get_judgments_from_responses(to_process)\n",
    "  df['model_pred'] = processed_judgments\n",
    "\n",
    "  return df\n",
    "\n",
    "def prepare_test_prompts(test_df, task_text, learning_df=None, instruction_text=None, theory=False):\n",
    "  print(\"Start preparing prompts...\")\n",
    "  if learning_df is not None and instruction_text is not None:\n",
    "    print(f\"# learning samples: {len(learning_df)}\")\n",
    "    examples = []\n",
    "    if theory:\n",
    "      for _, row in learning_df.iterrows():\n",
    "        example = {\n",
    "                \"query\": row['request'],\n",
    "                \"reasoning\": row['reasoning'],\n",
    "                \"category\": row['category'],\n",
    "                \"judgment\": row['gold_judgment']\n",
    "              }\n",
    "        examples.append(json.dumps(example, ensure_ascii=False))\n",
    "\n",
    "      examples_text = '\\n\\n'.join(examples)\n",
    "      base_prompt = instruction_text + examples_text + task_text\n",
    "    else:\n",
    "      for _, row in learning_df.iterrows():\n",
    "        example = {\n",
    "                \"query\": row['request'],\n",
    "                \"judgment\": row['gold_judgment']\n",
    "              }\n",
    "        examples.append(json.dumps(example, ensure_ascii=False))\n",
    "\n",
    "      examples_text = '\\n\\n'.join(examples)\n",
    "      base_prompt = instruction_text + examples_text + task_text\n",
    "\n",
    "  else:\n",
    "    base_prompt = task_text\n",
    "\n",
    "  print(f\"# Testing data points: {len(test_df)}\")\n",
    "  test_prompts = []\n",
    "  for _, row in test_df.iterrows():\n",
    "    query = row['question']\n",
    "    complete_prompt = base_prompt.replace(\"TARGET\", query)\n",
    "    test_prompts.append(complete_prompt)\n",
    "\n",
    "  print(f\"Generation complete: {len(test_prompts)} prompts\")\n",
    "\n",
    "  avg_length = sum(len(p) for p in test_prompts) // len(test_prompts)\n",
    "  print(f\"Average prompt length: {avg_length:,} bytes (~{avg_length//4:,} tokens)\")\n",
    "\n",
    "  return test_prompts\n",
    "\n",
    "\n",
    "def add_columns_to_dataset(dataset, columns_dict, inplace=False):\n",
    "    \"\"\"\n",
    "    Adding multiple columns to a HuggingFace Dataset\n",
    "\n",
    "    params：\n",
    "        dataset (Dataset): The original dataset\n",
    "        columns_dict (dict): The new columns organized in a dict, keys are column names, value lists should be of the same length with Dataset\n",
    "        inplace (bool): whether to change the orignial Dataset or create a new copy\n",
    "\n",
    "    return：\n",
    "        Dataset: The new dataset with new columns added\n",
    "    \"\"\"\n",
    "    if not inplace:\n",
    "        dataset = deepcopy(dataset)\n",
    "\n",
    "    for column_name, values in columns_dict.items():\n",
    "        if len(values) != len(dataset):\n",
    "            raise ValueError(f\"Length mismatch：'{column_name}' The column length is {len(values)}, but the dataset has {len(dataset)} samples.\")\n",
    "        dataset = dataset.add_column(column_name, values)\n",
    "\n",
    "    return dataset\n",
    "\n",
    "def merge_df_into_dataset_by_order(dataset, df: pd.DataFrame, \n",
    "                                   columns=None, prefix: str=\"\", inplace=False):\n",
    "    \"\"\"\n",
    "    将 DataFrame 的指定列，按行顺序写回 HuggingFace Dataset。\n",
    "    要求：df 与 dataset 行顺序一致、长度相同。\n",
    "    \"\"\"\n",
    "    if columns is None:\n",
    "        # 默认把 df 的所有列都写回（可用 prefix 避免重名）\n",
    "        columns = list(df.columns)\n",
    "\n",
    "    if len(df) != len(dataset):\n",
    "        raise ValueError(f\"Length mismatch: df={len(df)} vs dataset={len(dataset)}.\")\n",
    "\n",
    "    # 将 NaN -> None，并转成 Python 原生类型列表\n",
    "    columns_dict = {}\n",
    "    for col in columns:\n",
    "        series = df[col]\n",
    "        # 统一把 NaN 转成 None\n",
    "        values = series.where(series.notna(), None).tolist()\n",
    "        columns_dict[f\"{prefix}{col}\"] = values\n",
    "\n",
    "    # 你已有的工具函数\n",
    "    updated_dataset = add_columns_to_dataset(dataset, columns_dict, inplace=inplace)\n",
    "    return updated_dataset"
   ]
  },
  {
   "cell_type": "markdown",
   "id": "kYLcYgB5w7Yg",
   "metadata": {
    "id": "kYLcYgB5w7Yg"
   },
   "source": [
    "#### Direct classification with Qwen3-4B"
   ]
  },
  {
   "cell_type": "code",
   "execution_count": 8,
   "id": "cfX3fNQUw1ho",
   "metadata": {
    "id": "cfX3fNQUw1ho"
   },
   "outputs": [
    {
     "name": "stdout",
     "output_type": "stream",
     "text": [
      "Start preparing prompts...\n",
      "# Testing data points: 1000\n",
      "Generation complete: 1000 prompts\n",
      "Average prompt length: 405 bytes (~101 tokens)\n",
      "\n",
      "Analyze the following input user query:\n",
      "\n",
      "{\"query\": \"What nationality was Oliver Reed's character in the film Royal Flash?\"}\n",
      "\n",
      "Please provide your analysis in the following JSON format:\n",
      "\n",
      "{\"query\": \"What nationality was Oliver Reed's character in the film Royal Flash?\", \"reasoning\": \"[YOUR_DETAILED_REASONING]\", \"judgment\": \"[fully specified/underspecified]\"}\n",
      "\n"
     ]
    }
   ],
   "source": [
    "df_HotpotQA_sample = pd.read_json(\"hotpot_sample_raw.jsonl\", lines=True)\n",
    "test_prompts = prepare_test_prompts(df_HotpotQA_sample, task_FS_UND)\n",
    "print(test_prompts[0])"
   ]
  },
  {
   "cell_type": "code",
   "execution_count": 9,
   "id": "89f95c68-dbd4-479d-9dbe-89e64610abf8",
   "metadata": {},
   "outputs": [
    {
     "name": "stderr",
     "output_type": "stream",
     "text": [
      "100%|██████████| 200/200 [2:15:11<00:00, 40.56s/it]  \n"
     ]
    },
    {
     "data": {
      "text/html": [
       "<div>\n",
       "<style scoped>\n",
       "    .dataframe tbody tr th:only-of-type {\n",
       "        vertical-align: middle;\n",
       "    }\n",
       "\n",
       "    .dataframe tbody tr th {\n",
       "        vertical-align: top;\n",
       "    }\n",
       "\n",
       "    .dataframe thead th {\n",
       "        text-align: right;\n",
       "    }\n",
       "</style>\n",
       "<table border=\"1\" class=\"dataframe\">\n",
       "  <thead>\n",
       "    <tr style=\"text-align: right;\">\n",
       "      <th></th>\n",
       "      <th>id</th>\n",
       "      <th>question</th>\n",
       "      <th>answer</th>\n",
       "      <th>thinking</th>\n",
       "      <th>model_response</th>\n",
       "      <th>model_pred</th>\n",
       "    </tr>\n",
       "  </thead>\n",
       "  <tbody>\n",
       "    <tr>\n",
       "      <th>0</th>\n",
       "      <td>5add1d575542992c1e3a2540</td>\n",
       "      <td>What nationality was Oliver Reed's character i...</td>\n",
       "      <td>[Prussian]</td>\n",
       "      <td>&lt;think&gt;\\nOkay, let me try to figure out if thi...</td>\n",
       "      <td>{\\n  \"query\": \"What nationality was Oliver Ree...</td>\n",
       "      <td>fully specified</td>\n",
       "    </tr>\n",
       "    <tr>\n",
       "      <th>1</th>\n",
       "      <td>5ac55ea55542993e66e82377</td>\n",
       "      <td>Pacific Mozart Ensemble performed which German...</td>\n",
       "      <td>[Kurt Julian Weill]</td>\n",
       "      <td>&lt;think&gt;\\nOkay, let me try to figure this out. ...</td>\n",
       "      <td>{\\n  \"query\": \"Pacific Mozart Ensemble perform...</td>\n",
       "      <td>fully specified</td>\n",
       "    </tr>\n",
       "    <tr>\n",
       "      <th>2</th>\n",
       "      <td>5ac3a76e554299741d48a2be</td>\n",
       "      <td>Who released the song \"With or Without You\" fi...</td>\n",
       "      <td>[U2]</td>\n",
       "      <td>&lt;think&gt;\\nOkay, let's tackle this query. The us...</td>\n",
       "      <td>{\\n  \"query\": \"Who released the song \\\"With or...</td>\n",
       "      <td>fully specified</td>\n",
       "    </tr>\n",
       "    <tr>\n",
       "      <th>3</th>\n",
       "      <td>5a7133565542994082a3e65c</td>\n",
       "      <td>What Kentucky county has a population of 60,31...</td>\n",
       "      <td>[Oldham County]</td>\n",
       "      <td>&lt;think&gt;\\nOkay, let's tackle this query. The us...</td>\n",
       "      <td>{\\n  \"query\": \"What Kentucky county has a popu...</td>\n",
       "      <td>fully specified</td>\n",
       "    </tr>\n",
       "    <tr>\n",
       "      <th>4</th>\n",
       "      <td>5ac1a4745542991316484b82</td>\n",
       "      <td>Para Hills West, South Australia lies within a...</td>\n",
       "      <td>[138,535]</td>\n",
       "      <td>&lt;think&gt;\\nOkay, let's see. The user is asking a...</td>\n",
       "      <td>{\\n  \"query\": \"Para Hills West, South Australi...</td>\n",
       "      <td>fully specified</td>\n",
       "    </tr>\n",
       "    <tr>\n",
       "      <th>...</th>\n",
       "      <td>...</td>\n",
       "      <td>...</td>\n",
       "      <td>...</td>\n",
       "      <td>...</td>\n",
       "      <td>...</td>\n",
       "      <td>...</td>\n",
       "    </tr>\n",
       "    <tr>\n",
       "      <th>995</th>\n",
       "      <td>5a8b46925542995d1e6f133c</td>\n",
       "      <td>When was the singer of Miss Emily's Picture born?</td>\n",
       "      <td>[August 11, 1946]</td>\n",
       "      <td>&lt;think&gt;\\nOkay, let me try to figure out if thi...</td>\n",
       "      <td>{\\n  \"query\": \"When was the singer of Miss Emi...</td>\n",
       "      <td>underspecified</td>\n",
       "    </tr>\n",
       "    <tr>\n",
       "      <th>996</th>\n",
       "      <td>5a808cbd5542996402f6a54b</td>\n",
       "      <td>What is the profession of Ansel Elgort's chara...</td>\n",
       "      <td>[getaway driver]</td>\n",
       "      <td>&lt;think&gt;\\nOkay, let me try to figure out if thi...</td>\n",
       "      <td>{\\n  \"query\": \"What is the profession of Ansel...</td>\n",
       "      <td>fully specified</td>\n",
       "    </tr>\n",
       "    <tr>\n",
       "      <th>997</th>\n",
       "      <td>5ab1e7685542993be8fa9877</td>\n",
       "      <td>On what street was the hotel located where the...</td>\n",
       "      <td>[Peachtree Street]</td>\n",
       "      <td>&lt;think&gt;\\nOkay, let's tackle this query step by...</td>\n",
       "      <td>{\\n  \"query\": \"On what street was the hotel lo...</td>\n",
       "      <td>underspecified</td>\n",
       "    </tr>\n",
       "    <tr>\n",
       "      <th>998</th>\n",
       "      <td>5a865d11554299211dda2b0d</td>\n",
       "      <td>What is the original name of the place where T...</td>\n",
       "      <td>[Fort Saint Anthony]</td>\n",
       "      <td>&lt;think&gt;\\nOkay, let's see. I need to figure out...</td>\n",
       "      <td>{\\n  \"query\": \"What is the original name of th...</td>\n",
       "      <td>underspecified</td>\n",
       "    </tr>\n",
       "    <tr>\n",
       "      <th>999</th>\n",
       "      <td>5a77ace855429967ab105223</td>\n",
       "      <td>What entity with the capital city of Ciudad Vi...</td>\n",
       "      <td>[Tamaulipas]</td>\n",
       "      <td>&lt;think&gt;\\nOkay, let's tackle this query. The us...</td>\n",
       "      <td>{\\n  \"query\": \"What entity with the capital ci...</td>\n",
       "      <td>underspecified</td>\n",
       "    </tr>\n",
       "  </tbody>\n",
       "</table>\n",
       "<p>1000 rows × 6 columns</p>\n",
       "</div>"
      ],
      "text/plain": [
       "                           id  \\\n",
       "0    5add1d575542992c1e3a2540   \n",
       "1    5ac55ea55542993e66e82377   \n",
       "2    5ac3a76e554299741d48a2be   \n",
       "3    5a7133565542994082a3e65c   \n",
       "4    5ac1a4745542991316484b82   \n",
       "..                        ...   \n",
       "995  5a8b46925542995d1e6f133c   \n",
       "996  5a808cbd5542996402f6a54b   \n",
       "997  5ab1e7685542993be8fa9877   \n",
       "998  5a865d11554299211dda2b0d   \n",
       "999  5a77ace855429967ab105223   \n",
       "\n",
       "                                              question                answer  \\\n",
       "0    What nationality was Oliver Reed's character i...            [Prussian]   \n",
       "1    Pacific Mozart Ensemble performed which German...   [Kurt Julian Weill]   \n",
       "2    Who released the song \"With or Without You\" fi...                  [U2]   \n",
       "3    What Kentucky county has a population of 60,31...       [Oldham County]   \n",
       "4    Para Hills West, South Australia lies within a...             [138,535]   \n",
       "..                                                 ...                   ...   \n",
       "995  When was the singer of Miss Emily's Picture born?     [August 11, 1946]   \n",
       "996  What is the profession of Ansel Elgort's chara...      [getaway driver]   \n",
       "997  On what street was the hotel located where the...    [Peachtree Street]   \n",
       "998  What is the original name of the place where T...  [Fort Saint Anthony]   \n",
       "999  What entity with the capital city of Ciudad Vi...          [Tamaulipas]   \n",
       "\n",
       "                                              thinking  \\\n",
       "0    <think>\\nOkay, let me try to figure out if thi...   \n",
       "1    <think>\\nOkay, let me try to figure this out. ...   \n",
       "2    <think>\\nOkay, let's tackle this query. The us...   \n",
       "3    <think>\\nOkay, let's tackle this query. The us...   \n",
       "4    <think>\\nOkay, let's see. The user is asking a...   \n",
       "..                                                 ...   \n",
       "995  <think>\\nOkay, let me try to figure out if thi...   \n",
       "996  <think>\\nOkay, let me try to figure out if thi...   \n",
       "997  <think>\\nOkay, let's tackle this query step by...   \n",
       "998  <think>\\nOkay, let's see. I need to figure out...   \n",
       "999  <think>\\nOkay, let's tackle this query. The us...   \n",
       "\n",
       "                                        model_response       model_pred  \n",
       "0    {\\n  \"query\": \"What nationality was Oliver Ree...  fully specified  \n",
       "1    {\\n  \"query\": \"Pacific Mozart Ensemble perform...  fully specified  \n",
       "2    {\\n  \"query\": \"Who released the song \\\"With or...  fully specified  \n",
       "3    {\\n  \"query\": \"What Kentucky county has a popu...  fully specified  \n",
       "4    {\\n  \"query\": \"Para Hills West, South Australi...  fully specified  \n",
       "..                                                 ...              ...  \n",
       "995  {\\n  \"query\": \"When was the singer of Miss Emi...   underspecified  \n",
       "996  {\\n  \"query\": \"What is the profession of Ansel...  fully specified  \n",
       "997  {\\n  \"query\": \"On what street was the hotel lo...   underspecified  \n",
       "998  {\\n  \"query\": \"What is the original name of th...   underspecified  \n",
       "999  {\\n  \"query\": \"What entity with the capital ci...   underspecified  \n",
       "\n",
       "[1000 rows x 6 columns]"
      ]
     },
     "execution_count": 9,
     "metadata": {},
     "output_type": "execute_result"
    }
   ],
   "source": [
    "test_df = run_experiment(test_prompts, df_HotpotQA_sample)\n",
    "test_df.to_csv('BASELINE_HotpotQA_classification_all.csv')\n",
    "test_df"
   ]
  },
  {
   "cell_type": "code",
   "execution_count": 10,
   "id": "f380d2c8-511b-4afa-b0d9-9ac20625efa7",
   "metadata": {},
   "outputs": [],
   "source": [
    "annotated_dataset = merge_df_into_dataset_by_order(\n",
    "    HotpotQA_sample, \n",
    "    test_df, \n",
    "    columns=[\"thinking\", \"model_response\", \"model_pred\"],\n",
    "    prefix=\"qwen3_\",\n",
    "    inplace=False\n",
    ")"
   ]
  },
  {
   "cell_type": "code",
   "execution_count": 11,
   "id": "44b0f30c-021c-4185-bb22-24ad32df589b",
   "metadata": {},
   "outputs": [
    {
     "data": {
      "application/vnd.jupyter.widget-view+json": {
       "model_id": "de0aab88c27949faa077255176b4ede3",
       "version_major": 2,
       "version_minor": 0
      },
      "text/plain": [
       "Filter:   0%|          | 0/1000 [00:00<?, ? examples/s]"
      ]
     },
     "metadata": {},
     "output_type": "display_data"
    },
    {
     "data": {
      "application/vnd.jupyter.widget-view+json": {
       "model_id": "96e626e4c6954d57abcafb411aaa8be3",
       "version_major": 2,
       "version_minor": 0
      },
      "text/plain": [
       "Filter:   0%|          | 0/1000 [00:00<?, ? examples/s]"
      ]
     },
     "metadata": {},
     "output_type": "display_data"
    },
    {
     "name": "stdout",
     "output_type": "stream",
     "text": [
      "Underspecified samples: 496\n",
      "Fully specified samples: 504\n"
     ]
    },
    {
     "data": {
      "application/vnd.jupyter.widget-view+json": {
       "model_id": "b56e0e0131954f9c8913ffbeb313b63d",
       "version_major": 2,
       "version_minor": 0
      },
      "text/plain": [
       "Creating json from Arrow format:   0%|          | 0/1 [00:00<?, ?ba/s]"
      ]
     },
     "metadata": {},
     "output_type": "display_data"
    },
    {
     "data": {
      "application/vnd.jupyter.widget-view+json": {
       "model_id": "49561c8172f9416f94a046179cfbb928",
       "version_major": 2,
       "version_minor": 0
      },
      "text/plain": [
       "Creating json from Arrow format:   0%|          | 0/1 [00:00<?, ?ba/s]"
      ]
     },
     "metadata": {},
     "output_type": "display_data"
    },
    {
     "data": {
      "application/vnd.jupyter.widget-view+json": {
       "model_id": "237316956bea47d6abd3e6cb34aaca96",
       "version_major": 2,
       "version_minor": 0
      },
      "text/plain": [
       "Creating json from Arrow format:   0%|          | 0/1 [00:00<?, ?ba/s]"
      ]
     },
     "metadata": {},
     "output_type": "display_data"
    },
    {
     "data": {
      "text/plain": [
       "1603912"
      ]
     },
     "execution_count": 11,
     "metadata": {},
     "output_type": "execute_result"
    }
   ],
   "source": [
    "# Create the UND subset\n",
    "underspecified_set = annotated_dataset.filter(\n",
    "    lambda x: x[\"qwen3_model_pred\"].strip().lower() == \"underspecified\"\n",
    ")\n",
    "\n",
    "# Create the FS subset\n",
    "fully_specified_set = annotated_dataset.filter(\n",
    "    lambda x: x[\"qwen3_model_pred\"].strip().lower() == \"fully specified\"\n",
    ")\n",
    "\n",
    "# The size of subsets\n",
    "print(f\"Underspecified samples: {len(underspecified_set)}\")\n",
    "print(f\"Fully specified samples: {len(fully_specified_set)}\")\n",
    "\n",
    "annotated_dataset.to_json(\"BASELINE_classified_HotpotQA_sample_all.jsonl\", orient=\"records\", lines=True)\n",
    "underspecified_set.to_json(\"BASELINE_classified_HotpotQA_sample_UND.jsonl\", orient=\"records\", lines=True)\n",
    "fully_specified_set.to_json(\"BASELINE_classified_HotpotQA_sample_FS.jsonl\", orient=\"records\", lines=True)"
   ]
  },
  {
   "cell_type": "markdown",
   "id": "uoAbWr_bxoJ6",
   "metadata": {
    "id": "uoAbWr_bxoJ6"
   },
   "source": [
    "# QA implementations"
   ]
  },
  {
   "cell_type": "code",
   "execution_count": 2,
   "id": "UUaXuf71xqlb",
   "metadata": {
    "id": "UUaXuf71xqlb"
   },
   "outputs": [
    {
     "data": {
      "application/vnd.jupyter.widget-view+json": {
       "model_id": "bf901f684d0e466f903a993e5aa3e09b",
       "version_major": 2,
       "version_minor": 0
      },
      "text/plain": [
       "Generating train split: 0 examples [00:00, ? examples/s]"
      ]
     },
     "metadata": {},
     "output_type": "display_data"
    },
    {
     "data": {
      "application/vnd.jupyter.widget-view+json": {
       "model_id": "93ae8c21f8e147b48694e03edbd4282e",
       "version_major": 2,
       "version_minor": 0
      },
      "text/plain": [
       "Generating train split: 0 examples [00:00, ? examples/s]"
      ]
     },
     "metadata": {},
     "output_type": "display_data"
    }
   ],
   "source": [
    "underspecified_set = load_dataset(\n",
    "    \"json\",\n",
    "    data_files=\"BASELINE_classified_HotpotQA_sample_UND.jsonl\",\n",
    "    split=\"train\"  # 必须指定 split，否则默认返回 DatasetDict\n",
    ")\n",
    "\n",
    "fully_specified_set = load_dataset(\n",
    "    \"json\",\n",
    "    data_files=\"BASELINE_classified_HotpotQA_sample_FS.jsonl\",\n",
    "    split=\"train\"\n",
    ")"
   ]
  },
  {
   "cell_type": "markdown",
   "id": "3880w7oIxxR6",
   "metadata": {
    "id": "3880w7oIxxR6"
   },
   "source": [
    "## Loading GPT for short QA"
   ]
  },
  {
   "cell_type": "code",
   "execution_count": null,
   "id": "ifThtguIxsvQ",
   "metadata": {
    "id": "ifThtguIxsvQ"
   },
   "outputs": [],
   "source": [
    "from openai import OpenAI\n",
    "\n",
    "client = OpenAI() # Delete when sharing"
   ]
  },
  {
   "cell_type": "code",
   "execution_count": 4,
   "id": "hOpJXZpNy1wI",
   "metadata": {
    "id": "hOpJXZpNy1wI"
   },
   "outputs": [],
   "source": [
    "def ask_short_answer(question, client, model=\"gpt-4o-2024-11-20\", temperature=0, max_retries=5, sleep_time=2.0):\n",
    "    system_prompt = (\n",
    "        \"Answer the question with concise responses. \"\n",
    "        \"Return answers as a list of strings. If there's only one answer, return a single-item list. \"\n",
    "        \"Each answer should be brief and direct.\"\n",
    "    )\n",
    "    retries = 0\n",
    "    while retries < max_retries:\n",
    "        try:\n",
    "            response = client.chat.completions.create(\n",
    "                model=model,\n",
    "                messages=[\n",
    "                    {\"role\": \"system\", \"content\": system_prompt},\n",
    "                    {\"role\": \"user\", \"content\": question}\n",
    "                ],\n",
    "                temperature=temperature\n",
    "            )\n",
    "            content = response.choices[0].message.content\n",
    "            if content.startswith(\"[\"):\n",
    "                return eval(content)\n",
    "            else:\n",
    "                return [content.strip()]\n",
    "        except Exception as e:\n",
    "            retries += 1\n",
    "            time.sleep(sleep_time * retries)\n",
    "    return [\"[Error]: Max retries exceeded\"]"
   ]
  },
  {
   "cell_type": "code",
   "execution_count": 5,
   "id": "Wk3_XPN1_Rie",
   "metadata": {
    "id": "Wk3_XPN1_Rie"
   },
   "outputs": [],
   "source": [
    "def run_batch_shortQA_api(batch, client, **kwargs):\n",
    "    short_answers = []\n",
    "    for q in batch[\"question\"]:\n",
    "        try:\n",
    "            answer = ask_short_answer(q, client=client, **kwargs)\n",
    "            short_answers.append(answer)\n",
    "        except Exception as e:\n",
    "            print(f\"Error: {e}\")\n",
    "            short_answers.append([\"error\"])\n",
    "    return {\"model_short_answer\": short_answers}"
   ]
  },
  {
   "cell_type": "code",
   "execution_count": 6,
   "id": "GJWuyCDQ_THB",
   "metadata": {
    "id": "GJWuyCDQ_THB"
   },
   "outputs": [],
   "source": [
    "def batch_QA_with_progress(dataset, batch_fn, output_key, batch_size=5, fill_value=\"error\", **batch_fn_kwargs):\n",
    "    all_outputs = []\n",
    "    for i in tqdm(range(0, len(dataset), batch_size), desc=f\"Running {output_key}\"):\n",
    "        batch = dataset.select(range(i, min(i + batch_size, len(dataset))))\n",
    "        try:\n",
    "            output = batch_fn(batch, **batch_fn_kwargs)\n",
    "            if output_key not in output:\n",
    "                raise ValueError(f\"Missing key '{output_key}' in batch result\")\n",
    "            all_outputs.extend(output[output_key])\n",
    "        except Exception as e:\n",
    "            print(f\"Batch error at {i}: {e}\")\n",
    "            all_outputs.extend([fill_value] * len(batch))\n",
    "\n",
    "    if len(all_outputs) != len(dataset):\n",
    "        print(f\"[Warning] Output length mismatch, auto-filling\")\n",
    "        all_outputs.extend([fill_value] * (len(dataset) - len(all_outputs)))\n",
    "\n",
    "    return {output_key: all_outputs}"
   ]
  },
  {
   "cell_type": "markdown",
   "id": "1OcCHxcE_WUt",
   "metadata": {
    "id": "1OcCHxcE_WUt"
   },
   "source": [
    "## Implementations"
   ]
  },
  {
   "cell_type": "code",
   "execution_count": 7,
   "id": "1FhNGJz1_VkE",
   "metadata": {
    "id": "1FhNGJz1_VkE"
   },
   "outputs": [
    {
     "name": "stderr",
     "output_type": "stream",
     "text": [
      "Running model_short_answer: 100%|██████████| 100/100 [04:53<00:00,  2.94s/it]\n"
     ]
    }
   ],
   "source": [
    "short_results_UND = batch_QA_with_progress(\n",
    "    underspecified_set,\n",
    "    batch_fn=run_batch_shortQA_api,\n",
    "    output_key=\"model_short_answer\",\n",
    "    fill_value=[\"error\"],\n",
    "    client=client,\n",
    "    model=\"gpt-4o-2024-11-20\",\n",
    "    temperature=0.0\n",
    ")"
   ]
  },
  {
   "cell_type": "code",
   "execution_count": 8,
   "id": "1ZWw6mDN_aIp",
   "metadata": {
    "id": "1ZWw6mDN_aIp"
   },
   "outputs": [
    {
     "name": "stderr",
     "output_type": "stream",
     "text": [
      "Running model_short_answer: 100%|██████████| 101/101 [04:14<00:00,  2.52s/it]\n"
     ]
    }
   ],
   "source": [
    "# batch QA for FS\n",
    "short_results_FS = batch_QA_with_progress(\n",
    "    fully_specified_set,\n",
    "    batch_fn=run_batch_shortQA_api,\n",
    "    output_key=\"model_short_answer\",\n",
    "    fill_value=[\"error\"],\n",
    "    client=client,\n",
    "    model=\"gpt-4o-2024-11-20\",\n",
    "    temperature=0.0\n",
    ")"
   ]
  },
  {
   "cell_type": "code",
   "execution_count": 9,
   "id": "0u4mNHin_fN3",
   "metadata": {
    "id": "0u4mNHin_fN3"
   },
   "outputs": [
    {
     "data": {
      "application/vnd.jupyter.widget-view+json": {
       "model_id": "4503860081e5476cad3e592b99a271a6",
       "version_major": 2,
       "version_minor": 0
      },
      "text/plain": [
       "Creating json from Arrow format:   0%|          | 0/1 [00:00<?, ?ba/s]"
      ]
     },
     "metadata": {},
     "output_type": "display_data"
    },
    {
     "data": {
      "text/plain": [
       "1689887"
      ]
     },
     "execution_count": 9,
     "metadata": {},
     "output_type": "execute_result"
    }
   ],
   "source": [
    "qa_underspecified = deepcopy(underspecified_set)\n",
    "\n",
    "for key in short_results_UND:\n",
    "    qa_underspecified = qa_underspecified.add_column(key, short_results_UND[key])\n",
    "\n",
    "qa_underspecified.to_json(\"BASELINE_HotpotQA_UND_qa_gpt.jsonl\", orient=\"records\", lines=True)"
   ]
  },
  {
   "cell_type": "code",
   "execution_count": 10,
   "id": "025OPrRz_kKo",
   "metadata": {
    "id": "025OPrRz_kKo"
   },
   "outputs": [
    {
     "data": {
      "application/vnd.jupyter.widget-view+json": {
       "model_id": "6b044b093f7c449fa72516d35ce19cd8",
       "version_major": 2,
       "version_minor": 0
      },
      "text/plain": [
       "Creating json from Arrow format:   0%|          | 0/1 [00:00<?, ?ba/s]"
      ]
     },
     "metadata": {},
     "output_type": "display_data"
    },
    {
     "data": {
      "text/plain": [
       "1627760"
      ]
     },
     "execution_count": 10,
     "metadata": {},
     "output_type": "execute_result"
    }
   ],
   "source": [
    "qa_fully_specified = deepcopy(fully_specified_set)\n",
    "\n",
    "for key in short_results_FS:\n",
    "    qa_fully_specified = qa_fully_specified.add_column(key, short_results_FS[key])\n",
    "    \n",
    "qa_fully_specified.to_json(\"BASELINE_HotpotQA_FS_qa_gpt.jsonl\", orient=\"records\", lines=True)"
   ]
  },
  {
   "cell_type": "code",
   "execution_count": 11,
   "id": "sQXa-d3i_oiP",
   "metadata": {
    "id": "sQXa-d3i_oiP"
   },
   "outputs": [],
   "source": [
    "df = pd.read_json(\"BASELINE_HotpotQA_UND_qa_gpt.jsonl\", lines=True)\n",
    "df.to_csv('BASELINE_HotpotQA_UND_qa_gpt.csv')\n",
    "\n",
    "df = pd.read_json(\"BASELINE_HotpotQA_FS_qa_gpt.jsonl\", lines=True)\n",
    "df.to_csv('BASELINE_HotpotQA_FS_qa_gpt.csv')"
   ]
  },
  {
   "cell_type": "markdown",
   "id": "b-y-zAKl_zgV",
   "metadata": {
    "id": "b-y-zAKl_zgV"
   },
   "source": [
    "# Evaluations"
   ]
  },
  {
   "cell_type": "code",
   "execution_count": 12,
   "id": "FSl7HKut_014",
   "metadata": {
    "id": "FSl7HKut_014"
   },
   "outputs": [
    {
     "data": {
      "application/vnd.jupyter.widget-view+json": {
       "model_id": "bfebcfe0c1564bc09dd948ebd68380ff",
       "version_major": 2,
       "version_minor": 0
      },
      "text/plain": [
       "Generating train split: 0 examples [00:00, ? examples/s]"
      ]
     },
     "metadata": {},
     "output_type": "display_data"
    },
    {
     "data": {
      "application/vnd.jupyter.widget-view+json": {
       "model_id": "1e1f631c5f834da2ae16a5fcf6771a4f",
       "version_major": 2,
       "version_minor": 0
      },
      "text/plain": [
       "Generating train split: 0 examples [00:00, ? examples/s]"
      ]
     },
     "metadata": {},
     "output_type": "display_data"
    }
   ],
   "source": [
    "underspecified_set_qa = load_dataset(\n",
    "    \"json\",\n",
    "    data_files=\"BASELINE_HotpotQA_UND_qa_gpt.jsonl\",\n",
    "    split=\"train\"  # 必须指定 split，否则默认返回 DatasetDict\n",
    ")\n",
    "\n",
    "fully_specified_set_qa = load_dataset(\n",
    "    \"json\",\n",
    "    data_files=\"BASELINE_HotpotQA_FS_qa_gpt.jsonl\",\n",
    "    split=\"train\"\n",
    ")"
   ]
  },
  {
   "cell_type": "markdown",
   "id": "t5xCXLGJ_6PP",
   "metadata": {
    "id": "t5xCXLGJ_6PP"
   },
   "source": [
    "## Squad EM + F1"
   ]
  },
  {
   "cell_type": "code",
   "execution_count": 13,
   "id": "c6Hffeen_8ec",
   "metadata": {
    "id": "c6Hffeen_8ec"
   },
   "outputs": [
    {
     "name": "stdout",
     "output_type": "stream",
     "text": [
      "Exact Match: 42.06\n",
      "F1 Score: 56.14\n"
     ]
    }
   ],
   "source": [
    "# Official squad script for avg EM and F1, not possible for t-test\n",
    "\n",
    "\n",
    "# Evaluate fully specified subset\n",
    "dataset = load_dataset(\"json\", data_files=\"BASELINE_HotpotQA_FS_qa_gpt.jsonl\", split=\"train\")\n",
    "\n",
    "# 加载 HuggingFace 的 squad 评估器\n",
    "squad_metric = evaluate.load(\"squad\")\n",
    "\n",
    "# 构造 predictions 和 references（标准格式）\n",
    "predictions = [\n",
    "    {\n",
    "        \"id\": str(i),\n",
    "        \"prediction_text\": pred[0] if isinstance(pred, list) and pred else \"\"\n",
    "    }\n",
    "    for i, pred in enumerate(dataset[\"model_short_answer\"])\n",
    "]\n",
    "\n",
    "references = [\n",
    "    {\n",
    "        \"id\": str(i),\n",
    "        \"answers\": {\n",
    "            \"text\": ref if isinstance(ref, list) else [ref],\n",
    "            \"answer_start\": [0] * len(ref if isinstance(ref, list) else [ref])\n",
    "        }\n",
    "    }\n",
    "    for i, ref in enumerate(dataset[\"answer\"])\n",
    "]\n",
    "\n",
    "# 计算 SQuAD-style EM 和 F1\n",
    "results = squad_metric.compute(predictions=predictions, references=references)\n",
    "\n",
    "# 打印平均指标\n",
    "print(f\"Exact Match: {results['exact_match']:.2f}\")\n",
    "print(f\"F1 Score: {results['f1']:.2f}\")"
   ]
  },
  {
   "cell_type": "code",
   "execution_count": 14,
   "id": "XuC5wJBwBFmx",
   "metadata": {
    "id": "XuC5wJBwBFmx"
   },
   "outputs": [
    {
     "name": "stdout",
     "output_type": "stream",
     "text": [
      "Exact Match: 21.98\n",
      "F1 Score: 34.33\n"
     ]
    }
   ],
   "source": [
    "# Evaluate underspecified subset\n",
    "dataset = load_dataset(\"json\", data_files=\"BASELINE_HotpotQA_UND_qa_gpt.jsonl\", split=\"train\")\n",
    "\n",
    "# 加载 HuggingFace 的 squad 评估器\n",
    "squad_metric = evaluate.load(\"squad\")\n",
    "\n",
    "# 构造 predictions 和 references（标准格式）\n",
    "predictions = [\n",
    "    {\n",
    "        \"id\": str(i),\n",
    "        \"prediction_text\": pred[0] if isinstance(pred, list) and pred else \"\"\n",
    "    }\n",
    "    for i, pred in enumerate(dataset[\"model_short_answer\"])\n",
    "]\n",
    "\n",
    "references = [\n",
    "    {\n",
    "        \"id\": str(i),\n",
    "        \"answers\": {\n",
    "            \"text\": ref if isinstance(ref, list) else [ref],\n",
    "            \"answer_start\": [0] * len(ref if isinstance(ref, list) else [ref])\n",
    "        }\n",
    "    }\n",
    "    for i, ref in enumerate(dataset[\"answer\"])\n",
    "]\n",
    "\n",
    "# 计算 SQuAD-style EM 和 F1\n",
    "results = squad_metric.compute(predictions=predictions, references=references)\n",
    "\n",
    "# 打印平均指标\n",
    "print(f\"Exact Match: {results['exact_match']:.2f}\")\n",
    "print(f\"F1 Score: {results['f1']:.2f}\")"
   ]
  },
  {
   "cell_type": "code",
   "execution_count": 15,
   "id": "tCBAvQK7DIbD",
   "metadata": {
    "id": "tCBAvQK7DIbD"
   },
   "outputs": [],
   "source": [
    "def evaluate_squad_per_sample_multi_ref_pred(dataset, pred_col=\"model_short_answer\", ref_col=\"answer\"):\n",
    "    \"\"\"\n",
    "    对每个样本逐一计算 EM 和 F1，支持多个参考答案和多个预测答案（list[str]）。\n",
    "    返回带 \"em\", \"f1\" 列的新 Dataset，以及 f1/em 列表用于统计分析。\n",
    "    Also considering multiple answers in both gold and pred and take the maximum score\n",
    "    \"\"\"\n",
    "\n",
    "    def normalize_answer(s):\n",
    "        def remove_articles(text):\n",
    "            return re.sub(r'\\b(a|an|the)\\b', ' ', text)\n",
    "        def white_space_fix(text):\n",
    "            return ' '.join(text.split())\n",
    "        def remove_punc(text):\n",
    "            return ''.join(ch for ch in text if ch not in string.punctuation)\n",
    "        def lower(text):\n",
    "            return text.lower()\n",
    "        return white_space_fix(remove_articles(remove_punc(lower(s))))\n",
    "\n",
    "    def compute_exact(a_pred, a_gold):\n",
    "    # 如果是 list，转成 set 并 normalize 每个元素\n",
    "        if isinstance(a_pred, list) and isinstance(a_gold, list):\n",
    "          pred_set = set(normalize_answer(a) for a in a_pred)\n",
    "          gold_set = set(normalize_answer(a) for a in a_gold)\n",
    "          return int(pred_set == gold_set)\n",
    "        else:\n",
    "          return int(normalize_answer(a_pred) == normalize_answer(a_gold))\n",
    "\n",
    "    def compute_f1(a_pred, a_gold):\n",
    "        pred_tokens = normalize_answer(a_pred).split()\n",
    "        gold_tokens = normalize_answer(a_gold).split()\n",
    "        common = Counter(pred_tokens) & Counter(gold_tokens)\n",
    "        num_same = sum(common.values())\n",
    "        if num_same == 0:\n",
    "            return 0.0\n",
    "        precision = num_same / len(pred_tokens)\n",
    "        recall = num_same / len(gold_tokens)\n",
    "        return 2 * precision * recall / (precision + recall)\n",
    "\n",
    "    new_data = []\n",
    "    f1_scores = []\n",
    "    em_scores = []\n",
    "\n",
    "    for item in dataset:\n",
    "        preds = item.get(pred_col, [])\n",
    "        golds = item.get(ref_col, [])\n",
    "        # 转为 list\n",
    "        if not isinstance(preds, list):\n",
    "            preds = [preds] if preds else []\n",
    "        if not isinstance(golds, list):\n",
    "            golds = [golds] if golds else []\n",
    "\n",
    "        # 多对多最大匹配\n",
    "        if not preds or not golds:\n",
    "            em = 0.0\n",
    "            f1 = 0.0\n",
    "        else:\n",
    "            em = max(compute_exact(p, g) for p in preds for g in golds)\n",
    "            f1 = max(compute_f1(p, g) for p in preds for g in golds)\n",
    "\n",
    "        new_item = deepcopy(item)\n",
    "        new_item[\"em\"] = em\n",
    "        new_item[\"f1\"] = f1\n",
    "        new_data.append(new_item)\n",
    "        em_scores.append(em)\n",
    "        f1_scores.append(f1)\n",
    "\n",
    "    return Dataset.from_list(new_data), f1_scores, em_scores"
   ]
  },
  {
   "cell_type": "code",
   "execution_count": 16,
   "id": "5oL_Tt_bDMFZ",
   "metadata": {
    "id": "5oL_Tt_bDMFZ"
   },
   "outputs": [
    {
     "data": {
      "application/vnd.jupyter.widget-view+json": {
       "model_id": "e0be25fec4f84251b5b869b66fab6584",
       "version_major": 2,
       "version_minor": 0
      },
      "text/plain": [
       "Creating json from Arrow format:   0%|          | 0/1 [00:00<?, ?ba/s]"
      ]
     },
     "metadata": {},
     "output_type": "display_data"
    },
    {
     "data": {
      "text/plain": [
       "1698542"
      ]
     },
     "execution_count": 16,
     "metadata": {},
     "output_type": "execute_result"
    }
   ],
   "source": [
    "squad_scored_UND, UND_f1_list, UND_em_list = evaluate_squad_per_sample_multi_ref_pred(underspecified_set_qa)\n",
    "squad_scored_UND.to_json(\"BASELINE_HotpotQA_UND_qa_gpt_with_squad_scores.jsonl\", orient=\"records\", lines=True)"
   ]
  },
  {
   "cell_type": "code",
   "execution_count": 17,
   "id": "46b7ESGGDN-B",
   "metadata": {
    "id": "46b7ESGGDN-B"
   },
   "outputs": [
    {
     "data": {
      "application/vnd.jupyter.widget-view+json": {
       "model_id": "15465133d2c1433eb54078a3184f43ff",
       "version_major": 2,
       "version_minor": 0
      },
      "text/plain": [
       "Creating json from Arrow format:   0%|          | 0/1 [00:00<?, ?ba/s]"
      ]
     },
     "metadata": {},
     "output_type": "display_data"
    },
    {
     "data": {
      "text/plain": [
       "1636555"
      ]
     },
     "execution_count": 17,
     "metadata": {},
     "output_type": "execute_result"
    }
   ],
   "source": [
    "squad_scored_FS, FS_f1_list, FS_em_list = evaluate_squad_per_sample_multi_ref_pred(fully_specified_set_qa)\n",
    "squad_scored_FS.to_json(\"BASELINE_HotpotQA_FS_qa_gpt_with_squad_scores.jsonl\", orient=\"records\", lines=True)"
   ]
  },
  {
   "cell_type": "code",
   "execution_count": 18,
   "id": "yVOus4fRDqpr",
   "metadata": {
    "id": "yVOus4fRDqpr"
   },
   "outputs": [
    {
     "name": "stdout",
     "output_type": "stream",
     "text": [
      "UND Exact Match (avg): 21.98\n",
      "UND F1 Score (avg): 34.64\n",
      "FS Exact Match (avg): 42.46\n",
      "FS F1 Score (avg): 56.65\n",
      "F1: t=8.254, p=0.0000\n",
      "EM: t=7.101, p=0.0000\n"
     ]
    }
   ],
   "source": [
    "UND_mean_em = np.mean(UND_em_list)  # em_scores: EM list per sample\n",
    "UND_mean_f1 = np.mean(UND_f1_list)  # f1_scores F1 list per sample\n",
    "print(f\"UND Exact Match (avg): {UND_mean_em * 100:.2f}\")\n",
    "print(f\"UND F1 Score (avg): {UND_mean_f1 * 100:.2f}\")\n",
    "\n",
    "FS_mean_em = np.mean(FS_em_list)  # em_scores: EM list per sample\n",
    "FS_mean_f1 = np.mean(FS_f1_list)  # f1_scores F1 list per sample\n",
    "print(f\"FS Exact Match (avg): {FS_mean_em * 100:.2f}\")\n",
    "print(f\"FS F1 Score (avg): {FS_mean_f1 * 100:.2f}\")\n",
    "\n",
    "f1_tstat, f1_pval = ttest_ind(FS_f1_list, UND_f1_list, equal_var=False)\n",
    "print(f\"F1: t={f1_tstat:.3f}, p={f1_pval:.4f}\")\n",
    "\n",
    "em_tstat, em_pval = ttest_ind(FS_em_list, UND_em_list, equal_var=False)\n",
    "print(f\"EM: t={em_tstat:.3f}, p={em_pval:.4f}\")"
   ]
  },
  {
   "cell_type": "code",
   "execution_count": 19,
   "id": "2a7904af-f35a-46ce-913a-cd7d89f5cdbe",
   "metadata": {},
   "outputs": [
    {
     "data": {
      "application/vnd.jupyter.widget-view+json": {
       "model_id": "d0896ee8916940ab8260b63293da1441",
       "version_major": 2,
       "version_minor": 0
      },
      "text/plain": [
       "Generating train split: 0 examples [00:00, ? examples/s]"
      ]
     },
     "metadata": {},
     "output_type": "display_data"
    },
    {
     "data": {
      "application/vnd.jupyter.widget-view+json": {
       "model_id": "0b966179832e405f82fa7f5ee7640d37",
       "version_major": 2,
       "version_minor": 0
      },
      "text/plain": [
       "Generating train split: 0 examples [00:00, ? examples/s]"
      ]
     },
     "metadata": {},
     "output_type": "display_data"
    }
   ],
   "source": [
    "UND_full = load_dataset(\n",
    "    \"json\",\n",
    "    data_files=\"BASELINE_HotpotQA_UND_qa_gpt_with_squad_scores.jsonl\",\n",
    "    split=\"train\"  # 必须指定 split，否则默认返回 DatasetDict\n",
    ")\n",
    "\n",
    "FS_full = load_dataset(\n",
    "    \"json\",\n",
    "    data_files=\"BASELINE_HotpotQA_FS_qa_gpt_with_squad_scores.jsonl\",\n",
    "    split=\"train\"\n",
    ")"
   ]
  },
  {
   "cell_type": "code",
   "execution_count": 20,
   "id": "fd7effb5-01a1-4688-8239-f5496440d922",
   "metadata": {},
   "outputs": [],
   "source": [
    "df = pd.read_json(\"BASELINE_HotpotQA_UND_qa_gpt_with_squad_scores.jsonl\", lines=True)\n",
    "df.to_csv('BASELINE_HotpotQA_UND_qa_gpt_with_squad_scores.csv')\n",
    "\n",
    "df = pd.read_json(\"BASELINE_HotpotQA_FS_qa_gpt_with_squad_scores.jsonl\", lines=True)\n",
    "df.to_csv('BASELINE_HotpotQA_FS_qa_gpt_with_squad_scores.csv')"
   ]
  },
  {
   "cell_type": "code",
   "execution_count": 3,
   "id": "c028dadd-2631-40e9-a3a2-26a232882e61",
   "metadata": {},
   "outputs": [
    {
     "name": "stdout",
     "output_type": "stream",
     "text": [
      "gpt_4o HotpotQA NQ UND qa EM SD: 0.4147941208530088\n",
      "gpt_4o HotpotQA NQ FS qa EM SD: 0.48762306433639085\n",
      "gpt_4o HotpotQA NQ UND qa F1 SD: 0.4079821779434008\n",
      "gpt_4o HotpotQA NQ FS qa F1 SD: 0.43666341470616715\n"
     ]
    }
   ],
   "source": [
    "print(f'gpt_4o HotpotQA NQ UND qa EM SD: {np.std(UND_full[\"em\"])}')\n",
    "print(f'gpt_4o HotpotQA NQ FS qa EM SD: {np.std(FS_full[\"em\"])}')\n",
    "print(f'gpt_4o HotpotQA NQ UND qa F1 SD: {np.std(UND_full[\"f1\"])}')\n",
    "print(f'gpt_4o HotpotQA NQ FS qa F1 SD: {np.std(FS_full[\"f1\"])}')"
   ]
  },
  {
   "cell_type": "code",
   "execution_count": 4,
   "id": "625c75c4-0322-4426-a5ff-bf6e90de79c2",
   "metadata": {},
   "outputs": [],
   "source": [
    "def welch_df(n1, sd1, n2, sd2):\n",
    "    var1 = sd1**2\n",
    "    var2 = sd2**2\n",
    "    numerator = (var1/n1 + var2/n2)**2\n",
    "    denominator = ((var1/n1)**2)/(n1 - 1) + ((var2/n2)**2)/(n2 - 1)\n",
    "    return numerator / denominator"
   ]
  },
  {
   "cell_type": "code",
   "execution_count": 5,
   "id": "2e867e05-fb55-4a54-9354-82159f432acb",
   "metadata": {},
   "outputs": [
    {
     "data": {
      "text/plain": [
       "929.2090378182792"
      ]
     },
     "execution_count": 5,
     "metadata": {},
     "output_type": "execute_result"
    }
   ],
   "source": [
    "welch_df(394, np.std(UND_full[\"em\"]), 606, np.std(FS_full[\"em\"]))"
   ]
  },
  {
   "cell_type": "code",
   "execution_count": 6,
   "id": "3aef8483-bca5-43cc-8500-3eb86372105d",
   "metadata": {},
   "outputs": [
    {
     "data": {
      "text/plain": [
       "879.495758403792"
      ]
     },
     "execution_count": 6,
     "metadata": {},
     "output_type": "execute_result"
    }
   ],
   "source": [
    "welch_df(394, np.std(UND_full[\"f1\"]), 606, np.std(FS_full[\"f1\"]))"
   ]
  },
  {
   "cell_type": "markdown",
   "id": "1byMx599DuOd",
   "metadata": {
    "id": "1byMx599DuOd"
   },
   "source": [
    "## Visualization"
   ]
  },
  {
   "cell_type": "code",
   "execution_count": 21,
   "id": "iJjiklGgDwTM",
   "metadata": {
    "id": "iJjiklGgDwTM"
   },
   "outputs": [
    {
     "name": "stderr",
     "output_type": "stream",
     "text": [
      "/scratch-local/yhuang.14605433/ipykernel_3784257/3247511758.py:7: FutureWarning: \n",
      "\n",
      "Passing `palette` without assigning `hue` is deprecated and will be removed in v0.14.0. Assign the `x` variable to `hue` and set `legend=False` for the same effect.\n",
      "\n",
      "  ax = sns.boxplot(x=\"Subset\", y=\"F1\", data=df_f1, palette=\"Set2\", showfliers=False)\n",
      "/scratch-local/yhuang.14605433/ipykernel_3784257/3247511758.py:33: FutureWarning: \n",
      "\n",
      "The `ci` parameter is deprecated. Use `errorbar=('ci', 95)` for the same effect.\n",
      "\n",
      "  sns.barplot(x=\"Subset\", y=\"EM\", data=df_em, palette=\"Set2\", ci=95)\n",
      "/scratch-local/yhuang.14605433/ipykernel_3784257/3247511758.py:33: FutureWarning: \n",
      "\n",
      "Passing `palette` without assigning `hue` is deprecated and will be removed in v0.14.0. Assign the `x` variable to `hue` and set `legend=False` for the same effect.\n",
      "\n",
      "  sns.barplot(x=\"Subset\", y=\"EM\", data=df_em, palette=\"Set2\", ci=95)\n"
     ]
    }
   ],
   "source": [
    "df_f1 = pd.DataFrame({\n",
    "    \"F1\": FS_f1_list + UND_f1_list,\n",
    "    \"Subset\": [\"Fully specified\"] * len(FS_f1_list) + [\"Underspecified\"] * len(UND_f1_list)\n",
    "})\n",
    "\n",
    "plt.figure(figsize=(6, 4))\n",
    "ax = sns.boxplot(x=\"Subset\", y=\"F1\", data=df_f1, palette=\"Set2\", showfliers=False)\n",
    "\n",
    "# 计算中位数\n",
    "medians = df_f1.groupby(\"Subset\")[\"F1\"].median()\n",
    "\n",
    "# 标注中位数数值\n",
    "for i, (subset, median_val) in enumerate(medians.items()):\n",
    "    ax.text(\n",
    "        i, median_val + 0.03, f\"{median_val:.2f}\",\n",
    "        ha='center', va='bottom', fontsize=11, weight='bold', color='black'\n",
    "    )\n",
    "\n",
    "plt.title(\"gpt-4o-2024-11-20 F1 Score Distribution by Subset_BASELINE - HotpotQA\")\n",
    "plt.ylim(-0.05, 1.05)\n",
    "plt.ylabel(\"F1 Score\")\n",
    "plt.xlabel(\"\")\n",
    "plt.tight_layout()\n",
    "plt.savefig(\"HotpotQA_f1_boxplot_gpt_BASELINE.png\", dpi=300)\n",
    "plt.close()\n",
    "\n",
    "df_em = pd.DataFrame({\n",
    "    \"EM\": FS_em_list + UND_em_list,\n",
    "    \"Subset\": [\"Fully specified\"] * len(FS_em_list) + [\"Underspecified\"] * len(UND_em_list)\n",
    "})\n",
    "\n",
    "plt.figure(figsize=(6, 4))\n",
    "sns.barplot(x=\"Subset\", y=\"EM\", data=df_em, palette=\"Set2\", ci=95)\n",
    "plt.title(\"gpt-4o-2024-11-20 Exact Match Rate by Subset_BASELINE (± CI) - HotpotQA\")\n",
    "plt.tight_layout()\n",
    "plt.savefig(\"HotpotQA_em_barplot_gpt_BASELINE.png\",dpi=300)\n",
    "plt.close()"
   ]
  },
  {
   "cell_type": "code",
   "execution_count": 22,
   "id": "dFPopvHE7JwA",
   "metadata": {
    "id": "dFPopvHE7JwA"
   },
   "outputs": [
    {
     "data": {
      "image/png": "[encoded data removed]",
      "text/plain": [
       "<IPython.core.display.Image object>"
      ]
     },
     "execution_count": 22,
     "metadata": {},
     "output_type": "execute_result"
    }
   ],
   "source": [
    "from IPython.display import Image\n",
    "Image(\"HotpotQA_f1_boxplot_gpt_BASELINE.png\")"
   ]
  },
  {
   "cell_type": "code",
   "execution_count": 23,
   "id": "hCnh-QTH7NGH",
   "metadata": {
    "id": "hCnh-QTH7NGH"
   },
   "outputs": [
    {
     "data": {
      "image/png": "[encoded data removed]",
      "text/plain": [
       "<IPython.core.display.Image object>"
      ]
     },
     "execution_count": 23,
     "metadata": {},
     "output_type": "execute_result"
    }
   ],
   "source": [
    "Image(\"HotpotQA_em_barplot_gpt_BASELINE.png\")"
   ]
  },
  {
   "cell_type": "markdown",
   "id": "a43f504e",
   "metadata": {},
   "source": [
    "### Ragas Evaluations"
   ]
  },
  {
   "cell_type": "code",
   "execution_count": 3,
   "id": "16a7f072",
   "metadata": {},
   "outputs": [
    {
     "data": {
      "application/vnd.jupyter.widget-view+json": {
       "model_id": "bce7ac19b5f44bdf874b15481326b469",
       "version_major": 2,
       "version_minor": 0
      },
      "text/plain": [
       "Generating train split: 0 examples [00:00, ? examples/s]"
      ]
     },
     "metadata": {},
     "output_type": "display_data"
    },
    {
     "data": {
      "application/vnd.jupyter.widget-view+json": {
       "model_id": "9f4d8437ae8848e0ad8bd5d04892436c",
       "version_major": 2,
       "version_minor": 0
      },
      "text/plain": [
       "Generating train split: 0 examples [00:00, ? examples/s]"
      ]
     },
     "metadata": {},
     "output_type": "display_data"
    }
   ],
   "source": [
    "evaluator_llm = LangchainLLMWrapper(ChatDeepSeek(model=\"deepseek-chat\", verbose=True, temperature=0))\n",
    "\n",
    "UND_full = load_dataset(\n",
    "    \"json\",\n",
    "    data_files=\"BASELINE_HotpotQA_UND_qa_gpt_with_squad_scores.jsonl\",\n",
    "    split=\"train\"  # 必须指定 split，否则默认返回 DatasetDict\n",
    ")\n",
    "\n",
    "FS_full = load_dataset(\n",
    "    \"json\",\n",
    "    data_files=\"BASELINE_HotpotQA_FS_qa_gpt_with_squad_scores.jsonl\",\n",
    "    split=\"train\"\n",
    ")"
   ]
  },
  {
   "cell_type": "code",
   "execution_count": 7,
   "id": "75b90473",
   "metadata": {},
   "outputs": [
    {
     "name": "stdout",
     "output_type": "stream",
     "text": [
      "模型答案: ['1949']\n",
      "参考答案: ['1959']\n",
      "组合 1-1: 分数 = 0.0\n",
      "最高分数: 0.0\n",
      "最佳组合: None\n"
     ]
    }
   ],
   "source": [
    "async def test_single_sample(row, evaluator=evaluator_llm):\n",
    "    \"\"\"测试单个样本的评分\"\"\"\n",
    "    scorer = AnswerAccuracy(llm=evaluator)\n",
    "    \n",
    "    model_answers = row['model_short_answer'] if isinstance(row['model_short_answer'], list) else [row['model_short_answer']]\n",
    "    reference_answers = row['answer'] if isinstance(row['answer'], list) else [row['answer']]\n",
    "    \n",
    "    print(f\"模型答案: {model_answers}\")\n",
    "    print(f\"参考答案: {reference_answers}\")\n",
    "    \n",
    "    max_score = 0.0\n",
    "    best_combination = None\n",
    "    \n",
    "    for i, model_ans in enumerate(model_answers):\n",
    "        for j, ref_ans in enumerate(reference_answers):\n",
    "            sample = SingleTurnSample(\n",
    "                user_input=row['question'],\n",
    "                response=model_ans,\n",
    "                reference=ref_ans\n",
    "            )\n",
    "            score = await scorer.single_turn_ascore(sample)\n",
    "            print(f\"组合 {i+1}-{j+1}: 分数 = {score}\")\n",
    "            \n",
    "            if score > max_score:\n",
    "                max_score = score\n",
    "                best_combination = (model_ans, ref_ans)\n",
    "    \n",
    "    print(f\"最高分数: {max_score}\")\n",
    "    print(f\"最佳组合: {best_combination}\")\n",
    "    return max_score\n",
    "\n",
    "# 测试使用\n",
    "test_score = await test_single_sample(UND_full[0])"
   ]
  },
  {
   "cell_type": "code",
   "execution_count": 8,
   "id": "2460ff17",
   "metadata": {},
   "outputs": [],
   "source": [
    "async def answer_accuracy(input_dataset, long_answer=False, evaluator=evaluator_llm):\n",
    "    # 在函数开始时创建一次 scorer\n",
    "    scorer = AnswerAccuracy(llm=evaluator)\n",
    "    \n",
    "    if long_answer:\n",
    "        score_list_long = []\n",
    "        score_list_short = []\n",
    "        \n",
    "        for i, row in enumerate(tqdm(input_dataset, desc=\"Calculating short and long answer accuracy\")):\n",
    "            try:\n",
    "                # 长答案评分\n",
    "                if 'model_long_answer' in row and 'long_answer' in row:\n",
    "                    sample_long = SingleTurnSample(\n",
    "                        user_input=row['question'],\n",
    "                        response=row['model_long_answer'],\n",
    "                        reference=row['long_answer']\n",
    "                    )\n",
    "                    score_long = await scorer.single_turn_ascore(sample_long)\n",
    "                    score_list_long.append(score_long)\n",
    "                else:\n",
    "                    score_list_long.append(0.0)\n",
    "\n",
    "                # 短答案评分 - 处理列表情况\n",
    "                if 'model_short_answer' in row and 'answer' in row:\n",
    "                    model_answers = row['model_short_answer'] if isinstance(row['model_short_answer'], list) else [row['model_short_answer']]\n",
    "                    reference_answers = row['answer'] if isinstance(row['answer'], list) else [row['answer']]\n",
    "                    \n",
    "                    # 计算所有组合的分数，取最高分\n",
    "                    max_score = 0.0\n",
    "                    for model_ans in model_answers:\n",
    "                        for ref_ans in reference_answers:\n",
    "                            sample_short = SingleTurnSample(\n",
    "                                user_input=row['question'],\n",
    "                                response=model_ans,\n",
    "                                reference=ref_ans\n",
    "                            )\n",
    "                            score = await scorer.single_turn_ascore(sample_short)\n",
    "                            max_score = max(max_score, score)\n",
    "                    \n",
    "                    score_list_short.append(max_score)\n",
    "                else:\n",
    "                    score_list_short.append(0.0)\n",
    "                \n",
    "            except Exception as e:\n",
    "                print(f\"处理第 {i+1} 个样本时出错: {e}\")\n",
    "                score_list_long.append(0.0)\n",
    "                score_list_short.append(0.0)\n",
    "\n",
    "        ragas_scored_dataset = input_dataset.add_column(\"ragas_AA_long\", score_list_long)\n",
    "        ragas_scored_dataset = ragas_scored_dataset.add_column(\"ragas_AA_short\", score_list_short)\n",
    "\n",
    "        return ragas_scored_dataset\n",
    "    else:\n",
    "        score_list = []\n",
    "        \n",
    "        for i, row in enumerate(tqdm(input_dataset, desc=\"Calculating short answer accuracy\")):\n",
    "            try:\n",
    "                # 短答案评分 - 处理列表情况\n",
    "                if 'model_short_answer' in row and 'answer' in row:\n",
    "                    model_answers = row['model_short_answer'] if isinstance(row['model_short_answer'], list) else [row['model_short_answer']]\n",
    "                    reference_answers = row['answer'] if isinstance(row['answer'], list) else [row['answer']]\n",
    "                    \n",
    "                    # 计算所有组合的分数，取最高分\n",
    "                    max_score = 0.0\n",
    "                    for model_ans in model_answers:\n",
    "                        for ref_ans in reference_answers:\n",
    "                            sample = SingleTurnSample(\n",
    "                                user_input=row['question'],\n",
    "                                response=model_ans,\n",
    "                                reference=ref_ans\n",
    "                            )\n",
    "                            score = await scorer.single_turn_ascore(sample)\n",
    "                            max_score = max(max_score, score)\n",
    "                    \n",
    "                    score_list.append(max_score)\n",
    "                else:\n",
    "                    score_list.append(0.0)\n",
    "                \n",
    "            except Exception as e:\n",
    "                print(f\"处理第 {i+1} 个样本时出错: {e}\")\n",
    "                score_list.append(0.0)\n",
    "\n",
    "        ragas_scored_dataset = input_dataset.add_column(\"ragas_AA_short\", score_list)\n",
    "\n",
    "        return ragas_scored_dataset"
   ]
  },
  {
   "cell_type": "code",
   "execution_count": 9,
   "id": "0c38221f",
   "metadata": {},
   "outputs": [
    {
     "name": "stderr",
     "output_type": "stream",
     "text": [
      "Calculating short answer accuracy: 100%|██████████| 496/496 [1:16:07<00:00,  9.21s/it]\n"
     ]
    },
    {
     "data": {
      "application/vnd.jupyter.widget-view+json": {
       "model_id": "831756513c7f4ec7bd3edc1d23ca660c",
       "version_major": 2,
       "version_minor": 0
      },
      "text/plain": [
       "Creating CSV from Arrow format:   0%|          | 0/1 [00:00<?, ?ba/s]"
      ]
     },
     "metadata": {},
     "output_type": "display_data"
    },
    {
     "data": {
      "text/plain": [
       "1629216"
      ]
     },
     "execution_count": 9,
     "metadata": {},
     "output_type": "execute_result"
    }
   ],
   "source": [
    "UND_ragas = await answer_accuracy(UND_full)\n",
    "UND_ragas.to_csv(\"HotpotQA_UND_gpt4o_Ragas.csv\")"
   ]
  },
  {
   "cell_type": "code",
   "execution_count": 10,
   "id": "163ffb2b",
   "metadata": {},
   "outputs": [
    {
     "name": "stderr",
     "output_type": "stream",
     "text": [
      "Calculating short answer accuracy: 100%|██████████| 504/504 [1:17:17<00:00,  9.20s/it]\n"
     ]
    },
    {
     "data": {
      "application/vnd.jupyter.widget-view+json": {
       "model_id": "de84c025f90047678b17a9a103e2d1f3",
       "version_major": 2,
       "version_minor": 0
      },
      "text/plain": [
       "Creating CSV from Arrow format:   0%|          | 0/1 [00:00<?, ?ba/s]"
      ]
     },
     "metadata": {},
     "output_type": "display_data"
    },
    {
     "data": {
      "text/plain": [
       "1565471"
      ]
     },
     "execution_count": 10,
     "metadata": {},
     "output_type": "execute_result"
    }
   ],
   "source": [
    "FS_ragas = await answer_accuracy(FS_full)\n",
    "FS_ragas.to_csv(\"HotpotQA_FS_gpt4o_Ragas.csv\")"
   ]
  },
  {
   "cell_type": "code",
   "execution_count": 11,
   "id": "9a4f1e95",
   "metadata": {},
   "outputs": [
    {
     "name": "stdout",
     "output_type": "stream",
     "text": [
      "UND AA (avg): 42.19\n",
      "FS AA (avg): 65.43\n",
      "AA: t=8.096, p=0.0000\n"
     ]
    }
   ],
   "source": [
    "UND_ragas_AA = list(UND_ragas[\"ragas_AA_short\"])\n",
    "FS_ragas_AA = list(FS_ragas[\"ragas_AA_short\"])\n",
    "\n",
    "UND_mean_AA = np.mean(UND_ragas_AA)\n",
    "print(f\"UND AA (avg): {UND_mean_AA * 100:.2f}\")\n",
    "\n",
    "\n",
    "FS_mean_AA = np.mean(FS_ragas_AA)\n",
    "print(f\"FS AA (avg): {FS_mean_AA * 100:.2f}\")\n",
    "\n",
    "AA_tstat, AA_pval = ttest_ind(FS_ragas_AA, UND_ragas_AA, equal_var=False)\n",
    "print(f\"AA: t={AA_tstat:.3f}, p={AA_pval:.4f}\")"
   ]
  }
 ],
 "metadata": {
  "colab": {
   "provenance": []
  },
  "kernelspec": {
   "display_name": ".venv",
   "language": "python",
   "name": "python3"
  },
  "language_info": {
   "codemirror_mode": {
    "name": "ipython",
    "version": 3
   },
   "file_extension": ".py",
   "mimetype": "text/x-python",
   "name": "python",
   "nbconvert_exporter": "python",
   "pygments_lexer": "ipython3",
   "version": "3.13.7"
  }
 },
 "nbformat": 4,
 "nbformat_minor": 5
}

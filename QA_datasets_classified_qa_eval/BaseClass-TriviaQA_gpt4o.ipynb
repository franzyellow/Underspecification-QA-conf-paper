{
 "cells": [
  {
   "cell_type": "code",
   "execution_count": 1,
   "id": "2bd93a81-ab98-4fbc-bc5e-c1ab916661b6",
   "metadata": {},
   "outputs": [
    {
     "data": {
      "text/plain": [
       "True"
      ]
     },
     "execution_count": 1,
     "metadata": {},
     "output_type": "execute_result"
    }
   ],
   "source": [
    "import os\n",
    "import dspy\n",
    "import pandas as pd\n",
    "from sklearn.metrics import classification_report\n",
    "import matplotlib.pyplot as plt\n",
    "from sklearn.metrics import confusion_matrix\n",
    "from sklearn.metrics import ConfusionMatrixDisplay\n",
    "from tqdm import tqdm\n",
    "from typing import List, Literal, List, Dict, Any, Optional\n",
    "from dspy.evaluate import Evaluate\n",
    "from dspy import LabeledFewShot\n",
    "from dspy.teleprompt import BootstrapFewShotWithRandomSearch\n",
    "import numpy as np\n",
    "import seaborn as sns\n",
    "\n",
    "from datasets import load_dataset\n",
    "import random\n",
    "import json\n",
    "import re\n",
    "from functools import partial\n",
    "from datasets import Dataset\n",
    "from copy import deepcopy\n",
    "import evaluate\n",
    "import nltk\n",
    "from scipy.stats import ttest_ind\n",
    "import string\n",
    "from collections import Counter\n",
    "\n",
    "import openai\n",
    "import os\n",
    "import time\n",
    "import pandas as pd\n",
    "\n",
    "from ragas.llms import LangchainLLMWrapper\n",
    "from langchain_deepseek import ChatDeepSeek\n",
    "from ragas.dataset_schema import SingleTurnSample\n",
    "from ragas.metrics import AnswerAccuracy\n",
    "from dotenv import load_dotenv\n",
    "load_dotenv()"
   ]
  },
  {
   "cell_type": "code",
   "execution_count": null,
   "id": "15ce90bf-a77c-45e8-81f3-188ade99ecd7",
   "metadata": {},
   "outputs": [],
   "source": [
    "\"\"\"\n",
    "module load CUDA/12.4.0\n",
    "source ~/sglang-venv-2/bin/activate\n",
    "huggingface-cli login\n",
    "\n",
    "\n",
    "# 创建所有必要的目录\n",
    "mkdir -p /scratch-local/yhuang/sglang_cache\n",
    "mkdir -p /scratch-local/yhuang/huggingface_cache\n",
    "mkdir -p /scratch-local/yhuang/torch_cache\n",
    "mkdir -p /scratch-local/yhuang/cuda_cache\n",
    "mkdir -p /scratch-local/yhuang/xdg_cache\n",
    "mkdir -p /scratch-local/yhuang/tmp\n",
    "mkdir -p /scratch-local/yhuang/logs\n",
    "\n",
    "# 设置所有相关环境变量\n",
    "export SGLANG_CACHE_DIR=/scratch-local/yhuang/sglang_cache\n",
    "export TRANSFORMERS_CACHE=/scratch-local/yhuang/huggingface_cache\n",
    "export HF_HOME=/scratch-local/yhuang/huggingface_cache\n",
    "export HF_DATASETS_CACHE=/scratch-local/yhuang/huggingface_cache/datasets\n",
    "export TORCH_HOME=/scratch-local/yhuang/torch_cache\n",
    "export CUDA_CACHE_PATH=/scratch-local/yhuang/cuda_cache\n",
    "export XDG_CACHE_HOME=/scratch-local/yhuang/xdg_cache\n",
    "export TMPDIR=/scratch-local/yhuang/tmp\n",
    "export TEMP=/scratch-local/yhuang/tmp\n",
    "export TMP=/scratch-local/yhuang/tmp\n",
    "export SGLANG_LOG_DIR=/scratch-local/yhuang/logs\n",
    "\n",
    "# launching\n",
    "python -m sglang.launch_server --port 7501 --model-path Qwen/Qwen3-4B --trust-remote-code\n",
    "CUDA_VISIBLE_DEVICES=0,1 python -m sglang.launch_server --port 7501 --model-path Qwen/Qwen3-32B --trust-remote-code --tp 2\n",
    "\"\"\""
   ]
  },
  {
   "cell_type": "markdown",
   "id": "485f2ea3-4206-4b41-950b-f2c0347b73a4",
   "metadata": {},
   "source": [
    "#### Loading the TriviaQA sample"
   ]
  },
  {
   "cell_type": "code",
   "execution_count": 2,
   "id": "068bdbf1-8985-40dc-9986-ded8fbe65a75",
   "metadata": {},
   "outputs": [],
   "source": [
    "import os\n",
    "\n",
    "os.environ[\"HF_DATASETS_CACHE\"] = \"/scratch-local/yhuang/huggingface_cache\"\n",
    "# 确保目录存在\n",
    "os.makedirs('/scratch-local/yhuang/huggingface_cache', exist_ok=True)"
   ]
  },
  {
   "cell_type": "code",
   "execution_count": 3,
   "id": "96299c98-356b-42e7-98ca-be13e1fb5763",
   "metadata": {},
   "outputs": [
    {
     "data": {
      "application/vnd.jupyter.widget-view+json": {
       "model_id": "13150e4fec1040e9a28d5639f0ad9851",
       "version_major": 2,
       "version_minor": 0
      },
      "text/plain": [
       "Generating train split: 0 examples [00:00, ? examples/s]"
      ]
     },
     "metadata": {},
     "output_type": "display_data"
    }
   ],
   "source": [
    "TriviaQA_sample = load_dataset(\n",
    "    \"json\",\n",
    "    data_files=\"trivia_sample_raw.jsonl\",\n",
    "    split=\"train\"  # 必须指定 split，否则默认返回 DatasetDict\n",
    ")"
   ]
  },
  {
   "cell_type": "markdown",
   "id": "hYao-kS6wkFv",
   "metadata": {
    "id": "hYao-kS6wkFv"
   },
   "source": [
    "## Using the off-the-shelf Qwen3-4B for classification"
   ]
  },
  {
   "cell_type": "markdown",
   "id": "gtF5XkdgwpJc",
   "metadata": {
    "id": "gtF5XkdgwpJc"
   },
   "source": [
    "#### Prompt setting"
   ]
  },
  {
   "cell_type": "code",
   "execution_count": 4,
   "id": "dF9115fRwnO2",
   "metadata": {
    "id": "dF9115fRwnO2"
   },
   "outputs": [],
   "source": [
    "system_prompt = \"\"\"\n",
    "You are an expert analyst. Your task is to analyze and determine whether an input user query is \"fully specified\" or \"underspecified\".\n",
    "\n",
    "\"\"\"\n",
    "\n",
    "task_FS_UND = \"\"\"\n",
    "Analyze the following input user query:\n",
    "\n",
    "{\"query\": \"TARGET\"}\n",
    "\n",
    "Please provide your analysis in the following JSON format:\n",
    "\n",
    "{\"query\": \"TARGET\", \"reasoning\": \"[YOUR_DETAILED_REASONING]\", \"judgment\": \"[fully specified/underspecified]\"}\n",
    "\"\"\""
   ]
  },
  {
   "cell_type": "markdown",
   "id": "GvhJL80GwybN",
   "metadata": {
    "id": "GvhJL80GwybN"
   },
   "source": [
    "#### Loading the model"
   ]
  },
  {
   "cell_type": "code",
   "execution_count": 5,
   "id": "35106d7d-a90a-45f7-895c-378a07f1133f",
   "metadata": {},
   "outputs": [
    {
     "data": {
      "application/vnd.jupyter.widget-view+json": {
       "model_id": "d224e234100f42d890a4c320fdab0125",
       "version_major": 2,
       "version_minor": 0
      },
      "text/plain": [
       "Loading checkpoint shards:   0%|          | 0/3 [00:00<?, ?it/s]"
      ]
     },
     "metadata": {},
     "output_type": "display_data"
    },
    {
     "name": "stdout",
     "output_type": "stream",
     "text": [
      "cuda\n"
     ]
    }
   ],
   "source": [
    "Qwen3_4B = \"Qwen/Qwen3-4B\"\n",
    "\n",
    "import os\n",
    "os.environ['TRANSFORMERS_CACHE'] = '/scratch-local/yhuang/huggingface_cache'\n",
    "# 确保目录存在\n",
    "os.makedirs('/scratch-local/yhuang/huggingface_cache', exist_ok=True)\n",
    "\n",
    "# Load model directly\n",
    "from transformers import AutoTokenizer, AutoModelForCausalLM\n",
    "\n",
    "tokenizer = AutoTokenizer.from_pretrained(Qwen3_4B, padding_side='left')\n",
    "model = AutoModelForCausalLM.from_pretrained(Qwen3_4B)\n",
    "\n",
    "# 将模型移到可用设备\n",
    "device = torch.device(\"cuda\" if torch.cuda.is_available() else \"cpu\")\n",
    "print(device)\n",
    "model = model.to(device)"
   ]
  },
  {
   "cell_type": "markdown",
   "id": "9fcd74f6-7cda-450c-8203-580700eda9cb",
   "metadata": {},
   "source": [
    "#### Helper functions"
   ]
  },
  {
   "cell_type": "code",
   "execution_count": 6,
   "id": "a4T_hq_7wxjj",
   "metadata": {
    "id": "a4T_hq_7wxjj"
   },
   "outputs": [],
   "source": [
    "def batch_generate_responses_qwen3(prompts, system_prompt=system_prompt,\n",
    "                             temperature=0.7, max_new_tokens=32768, batch_size=5,\n",
    "                             enable_thinking=True, parse_thinking=True):\n",
    "    \"\"\"\n",
    "    批量生成Qwen 3模型的回复\n",
    "\n",
    "    参数:\n",
    "        prompts: 字符串列表，每个字符串是一个提示词\n",
    "        system_prompt: 系统提示词\n",
    "        max_new_tokens: 生成的最大token数，默认为512\n",
    "        batch_size: 每批处理的提示词数量，默认为4\n",
    "        enable_thinking: 是否启用思考模式，默认为True\n",
    "        parse_thinking: 是否解析思考内容，默认为True\n",
    "\n",
    "    返回:\n",
    "        如果parse_thinking=True，返回(思考内容列表, 回复内容列表)的元组\n",
    "        如果parse_thinking=False，返回回复列表\n",
    "    \"\"\"\n",
    "\n",
    "    responses = []\n",
    "    thinking_contents = [] if parse_thinking else None\n",
    "\n",
    "    # 按批次处理\n",
    "    for i in tqdm(range(0, len(prompts), batch_size)):\n",
    "        batch_prompts = prompts[i:i+batch_size]\n",
    "        batch_texts = []\n",
    "\n",
    "        # 为每个提示词准备输入文本\n",
    "        for prompt in batch_prompts:\n",
    "            if system_prompt:\n",
    "                messages = [\n",
    "                    {\"role\": \"system\", \"content\": system_prompt},\n",
    "                    {\"role\": \"user\", \"content\": prompt}\n",
    "                ]\n",
    "            else:\n",
    "                messages = [\n",
    "                    {\"role\": \"user\", \"content\": prompt}\n",
    "                ]\n",
    "\n",
    "            text = tokenizer.apply_chat_template(\n",
    "                messages,\n",
    "                tokenize=False,\n",
    "                add_generation_prompt=True,\n",
    "                enable_thinking=enable_thinking  # 启用思考模式\n",
    "            )\n",
    "            batch_texts.append(text)\n",
    "\n",
    "        # 批量编码输入\n",
    "        model_inputs = tokenizer(batch_texts, return_tensors=\"pt\", padding=True, truncation=True).to(model.device)\n",
    "\n",
    "        # 生成回复\n",
    "        with torch.no_grad():\n",
    "            generated_ids = model.generate(\n",
    "                **model_inputs,\n",
    "                max_new_tokens=max_new_tokens,\n",
    "                do_sample=True,\n",
    "                temperature=temperature,\n",
    "                top_p=0.9,\n",
    "                repetition_penalty=1.2\n",
    "            )\n",
    "\n",
    "        # 处理生成的回复\n",
    "        batch_responses = []\n",
    "        batch_thinking = [] if parse_thinking else None\n",
    "\n",
    "        for input_ids, output_ids in zip(model_inputs.input_ids, generated_ids):\n",
    "            response_ids = output_ids[len(input_ids):].tolist()\n",
    "\n",
    "            if parse_thinking and enable_thinking:\n",
    "                # 解析思考内容\n",
    "                try:\n",
    "                    # 寻找</think>对应的token ID (151668)\n",
    "                    index = len(response_ids) - response_ids[::-1].index(151668)\n",
    "                except ValueError:\n",
    "                    index = 0\n",
    "\n",
    "                thinking_content = tokenizer.decode(response_ids[:index], skip_special_tokens=True).strip(\"\\n\")\n",
    "                content = tokenizer.decode(response_ids[index:], skip_special_tokens=True).strip(\"\\n\")\n",
    "\n",
    "                batch_thinking.append(thinking_content)\n",
    "                batch_responses.append(content)\n",
    "            else:\n",
    "                # 不解析思考内容，直接返回完整回复\n",
    "                response = tokenizer.decode(response_ids, skip_special_tokens=True)\n",
    "                batch_responses.append(response)\n",
    "\n",
    "        responses.extend(batch_responses)\n",
    "        if parse_thinking:\n",
    "            thinking_contents.extend(batch_thinking)\n",
    "\n",
    "    if parse_thinking:\n",
    "        return thinking_contents, responses\n",
    "    else:\n",
    "        return responses\n",
    "\n",
    "def get_judgments_from_responses(responses: List[str]) -> List[Optional[str]]:\n",
    "    \"\"\"\n",
    "    推荐的解析函数，结合了多种方法的优点\n",
    "    \"\"\"\n",
    "    judgments = []\n",
    "\n",
    "    for i, response in enumerate(responses):\n",
    "        judgment = None\n",
    "\n",
    "        try:\n",
    "            # 方法1: 尝试直接解析JSON\n",
    "            clean_response = response.strip()\n",
    "            if clean_response.startswith('{') and clean_response.endswith('}'):\n",
    "                data = json.loads(clean_response)\n",
    "                judgment = data.get('judgment')\n",
    "            else:\n",
    "                # 方法2: 寻找JSON部分\n",
    "                start_idx = clean_response.find('{')\n",
    "                end_idx = clean_response.rfind('}')\n",
    "                if start_idx != -1 and end_idx != -1:\n",
    "                    json_part = clean_response[start_idx:end_idx+1]\n",
    "                    data = json.loads(json_part)\n",
    "                    judgment = data.get('judgment')\n",
    "\n",
    "        except json.JSONDecodeError:\n",
    "            # 方法3: 使用正则表达式作为后备\n",
    "            pattern = r'\"judgment\"\\s*:\\s*\"([^\"]*)\"'\n",
    "            match = re.search(pattern, response)\n",
    "            if match:\n",
    "                judgment = match.group(1)\n",
    "\n",
    "        if judgment is None:\n",
    "            print(f\"Warning: response {i} cannot retrieve judgment\")\n",
    "            print(f\"Respond content: {response[:200]}...\")\n",
    "            judgment = \"error\"\n",
    "\n",
    "        judgments.append(judgment)\n",
    "\n",
    "    return judgments\n",
    "\n",
    "\n",
    "\n",
    "def run_experiment(input_prompts, test_df):\n",
    "  output = batch_generate_responses_qwen3(input_prompts)\n",
    "  df = test_df.copy()\n",
    "  df['thinking'] = output[0]\n",
    "  df['model_response'] = output[1]\n",
    "  to_process = output[1]\n",
    "  processed_judgments = get_judgments_from_responses(to_process)\n",
    "  df['model_pred'] = processed_judgments\n",
    "\n",
    "  return df\n",
    "\n",
    "def prepare_test_prompts(test_df, task_text, learning_df=None, instruction_text=None, theory=False):\n",
    "  print(\"Start preparing prompts...\")\n",
    "  if learning_df is not None and instruction_text is not None:\n",
    "    print(f\"# learning samples: {len(learning_df)}\")\n",
    "    examples = []\n",
    "    if theory:\n",
    "      for _, row in learning_df.iterrows():\n",
    "        example = {\n",
    "                \"query\": row['request'],\n",
    "                \"reasoning\": row['reasoning'],\n",
    "                \"category\": row['category'],\n",
    "                \"judgment\": row['gold_judgment']\n",
    "              }\n",
    "        examples.append(json.dumps(example, ensure_ascii=False))\n",
    "\n",
    "      examples_text = '\\n\\n'.join(examples)\n",
    "      base_prompt = instruction_text + examples_text + task_text\n",
    "    else:\n",
    "      for _, row in learning_df.iterrows():\n",
    "        example = {\n",
    "                \"query\": row['request'],\n",
    "                \"judgment\": row['gold_judgment']\n",
    "              }\n",
    "        examples.append(json.dumps(example, ensure_ascii=False))\n",
    "\n",
    "      examples_text = '\\n\\n'.join(examples)\n",
    "      base_prompt = instruction_text + examples_text + task_text\n",
    "\n",
    "  else:\n",
    "    base_prompt = task_text\n",
    "\n",
    "  print(f\"# Testing data points: {len(test_df)}\")\n",
    "  test_prompts = []\n",
    "  for _, row in test_df.iterrows():\n",
    "    query = row['question']\n",
    "    complete_prompt = base_prompt.replace(\"TARGET\", query)\n",
    "    test_prompts.append(complete_prompt)\n",
    "\n",
    "  print(f\"Generation complete: {len(test_prompts)} prompts\")\n",
    "\n",
    "  avg_length = sum(len(p) for p in test_prompts) // len(test_prompts)\n",
    "  print(f\"Average prompt length: {avg_length:,} bytes (~{avg_length//4:,} tokens)\")\n",
    "\n",
    "  return test_prompts\n",
    "\n",
    "\n",
    "def add_columns_to_dataset(dataset, columns_dict, inplace=False):\n",
    "    \"\"\"\n",
    "    Adding multiple columns to a HuggingFace Dataset\n",
    "\n",
    "    params：\n",
    "        dataset (Dataset): The original dataset\n",
    "        columns_dict (dict): The new columns organized in a dict, keys are column names, value lists should be of the same length with Dataset\n",
    "        inplace (bool): whether to change the orignial Dataset or create a new copy\n",
    "\n",
    "    return：\n",
    "        Dataset: The new dataset with new columns added\n",
    "    \"\"\"\n",
    "    if not inplace:\n",
    "        dataset = deepcopy(dataset)\n",
    "\n",
    "    for column_name, values in columns_dict.items():\n",
    "        if len(values) != len(dataset):\n",
    "            raise ValueError(f\"Length mismatch：'{column_name}' The column length is {len(values)}, but the dataset has {len(dataset)} samples.\")\n",
    "        dataset = dataset.add_column(column_name, values)\n",
    "\n",
    "    return dataset\n",
    "\n",
    "def merge_df_into_dataset_by_order(dataset, df: pd.DataFrame, \n",
    "                                   columns=None, prefix: str=\"\", inplace=False):\n",
    "    \"\"\"\n",
    "    将 DataFrame 的指定列，按行顺序写回 HuggingFace Dataset。\n",
    "    要求：df 与 dataset 行顺序一致、长度相同。\n",
    "    \"\"\"\n",
    "    if columns is None:\n",
    "        # 默认把 df 的所有列都写回（可用 prefix 避免重名）\n",
    "        columns = list(df.columns)\n",
    "\n",
    "    if len(df) != len(dataset):\n",
    "        raise ValueError(f\"Length mismatch: df={len(df)} vs dataset={len(dataset)}.\")\n",
    "\n",
    "    # 将 NaN -> None，并转成 Python 原生类型列表\n",
    "    columns_dict = {}\n",
    "    for col in columns:\n",
    "        series = df[col]\n",
    "        # 统一把 NaN 转成 None\n",
    "        values = series.where(series.notna(), None).tolist()\n",
    "        columns_dict[f\"{prefix}{col}\"] = values\n",
    "\n",
    "    # 你已有的工具函数\n",
    "    updated_dataset = add_columns_to_dataset(dataset, columns_dict, inplace=inplace)\n",
    "    return updated_dataset"
   ]
  },
  {
   "cell_type": "markdown",
   "id": "kYLcYgB5w7Yg",
   "metadata": {
    "id": "kYLcYgB5w7Yg"
   },
   "source": [
    "#### Direct classification with Qwen3-4B"
   ]
  },
  {
   "cell_type": "code",
   "execution_count": 7,
   "id": "cfX3fNQUw1ho",
   "metadata": {
    "id": "cfX3fNQUw1ho"
   },
   "outputs": [
    {
     "name": "stdout",
     "output_type": "stream",
     "text": [
      "Start preparing prompts...\n",
      "# Testing data points: 1000\n",
      "Generation complete: 1000 prompts\n",
      "Average prompt length: 381 bytes (~95 tokens)\n",
      "\n",
      "Analyze the following input user query:\n",
      "\n",
      "{\"query\": \"What general name is given to a rotating star which emits a regular beat of radiation?\"}\n",
      "\n",
      "Please provide your analysis in the following JSON format:\n",
      "\n",
      "{\"query\": \"What general name is given to a rotating star which emits a regular beat of radiation?\", \"reasoning\": \"[YOUR_DETAILED_REASONING]\", \"judgment\": \"[fully specified/underspecified]\"}\n",
      "\n"
     ]
    }
   ],
   "source": [
    "df_TriviaQA_sample = pd.read_json(\"trivia_sample_raw.jsonl\", lines=True)\n",
    "test_prompts = prepare_test_prompts(df_TriviaQA_sample, task_FS_UND)\n",
    "print(test_prompts[0])"
   ]
  },
  {
   "cell_type": "code",
   "execution_count": 8,
   "id": "9935cd00-317c-4748-9e1b-5722486ce627",
   "metadata": {},
   "outputs": [
    {
     "name": "stderr",
     "output_type": "stream",
     "text": [
      "100%|██████████| 200/200 [1:57:28<00:00, 35.24s/it]  \n"
     ]
    },
    {
     "data": {
      "text/html": [
       "<div>\n",
       "<style scoped>\n",
       "    .dataframe tbody tr th:only-of-type {\n",
       "        vertical-align: middle;\n",
       "    }\n",
       "\n",
       "    .dataframe tbody tr th {\n",
       "        vertical-align: top;\n",
       "    }\n",
       "\n",
       "    .dataframe thead th {\n",
       "        text-align: right;\n",
       "    }\n",
       "</style>\n",
       "<table border=\"1\" class=\"dataframe\">\n",
       "  <thead>\n",
       "    <tr style=\"text-align: right;\">\n",
       "      <th></th>\n",
       "      <th>question</th>\n",
       "      <th>id</th>\n",
       "      <th>normalized_aliases</th>\n",
       "      <th>thinking</th>\n",
       "      <th>model_response</th>\n",
       "      <th>model_pred</th>\n",
       "    </tr>\n",
       "  </thead>\n",
       "  <tbody>\n",
       "    <tr>\n",
       "      <th>0</th>\n",
       "      <td>What general name is given to a rotating star ...</td>\n",
       "      <td>sfq_178</td>\n",
       "      <td>[yukon optics, beltex optics, pulsar]</td>\n",
       "      <td>&lt;think&gt;\\nOkay, let's tackle this query. The us...</td>\n",
       "      <td>{\\n  \"query\": \"What general name is given to a...</td>\n",
       "      <td>fully specified</td>\n",
       "    </tr>\n",
       "    <tr>\n",
       "      <th>1</th>\n",
       "      <td>\"Which Gilbert and Sullivan operetta is sub ti...</td>\n",
       "      <td>sfq_11822</td>\n",
       "      <td>[ruddigore, ruddigore witch s curse, rudigore,...</td>\n",
       "      <td>&lt;think&gt;\\nOkay, let's see. The user is asking w...</td>\n",
       "      <td>{\\n  \"query\": \"Which Gilbert and Sullivan oper...</td>\n",
       "      <td>underspecified</td>\n",
       "    </tr>\n",
       "    <tr>\n",
       "      <th>2</th>\n",
       "      <td>Which English cricketer had figures for bowlin...</td>\n",
       "      <td>sfq_17752</td>\n",
       "      <td>[james laker, jim laker]</td>\n",
       "      <td>&lt;think&gt;\\nOkay, let's see. The user is asking w...</td>\n",
       "      <td>{\\n  \"query\": \"Which English cricketer had fig...</td>\n",
       "      <td>fully specified</td>\n",
       "    </tr>\n",
       "    <tr>\n",
       "      <th>3</th>\n",
       "      <td>Wolf Mankowitz wrote the 1953 novel ‘A Kid For...</td>\n",
       "      <td>qb_2689</td>\n",
       "      <td>[farthings, farthing, farthing disambiguation,...</td>\n",
       "      <td>&lt;think&gt;\\nOkay, let's take a look at this user ...</td>\n",
       "      <td>{\\n  \"query\": \"Wolf Mankowitz wrote the 1953 n...</td>\n",
       "      <td>underspecified</td>\n",
       "    </tr>\n",
       "    <tr>\n",
       "      <th>4</th>\n",
       "      <td>Who is the patron saint of dancers?</td>\n",
       "      <td>sfq_6199</td>\n",
       "      <td>[saint crescentia, saint vitus, vitus, s vito,...</td>\n",
       "      <td>&lt;think&gt;\\nOkay, let's see. The user is asking, ...</td>\n",
       "      <td>{\\n  \"query\": \"Who is the patron saint of danc...</td>\n",
       "      <td>underspecified</td>\n",
       "    </tr>\n",
       "    <tr>\n",
       "      <th>...</th>\n",
       "      <td>...</td>\n",
       "      <td>...</td>\n",
       "      <td>...</td>\n",
       "      <td>...</td>\n",
       "      <td>...</td>\n",
       "      <td>...</td>\n",
       "    </tr>\n",
       "    <tr>\n",
       "      <th>995</th>\n",
       "      <td>In what French region would you find Omaha, Ju...</td>\n",
       "      <td>jp_159</td>\n",
       "      <td>[normandy france, normandy, normandy region]</td>\n",
       "      <td>&lt;think&gt;\\nOkay, let's see. The user is asking a...</td>\n",
       "      <td>{\\n  \"query\": \"In what French region would you...</td>\n",
       "      <td>fully specified</td>\n",
       "    </tr>\n",
       "    <tr>\n",
       "      <th>996</th>\n",
       "      <td>Who famously had children with both Julius Cae...</td>\n",
       "      <td>jp_2596</td>\n",
       "      <td>[keeuopatrai, queen cleopatra vii, queen cleop...</td>\n",
       "      <td>&lt;think&gt;\\nOkay, let's tackle this query. The us...</td>\n",
       "      <td>{\\n  \"query\": \"Who famously had children with ...</td>\n",
       "      <td>fully specified</td>\n",
       "    </tr>\n",
       "    <tr>\n",
       "      <th>997</th>\n",
       "      <td>Which band released the albums Sheer Heart Att...</td>\n",
       "      <td>sfq_20578</td>\n",
       "      <td>[quene, queen disambiguation, queen album, que...</td>\n",
       "      <td>&lt;think&gt;\\nOkay, let's tackle this query. The us...</td>\n",
       "      <td>{\\n  \"query\": \"Which band released the albums ...</td>\n",
       "      <td>fully specified</td>\n",
       "    </tr>\n",
       "    <tr>\n",
       "      <th>998</th>\n",
       "      <td>In which 1984 film did Tom Hanks fall in love ...</td>\n",
       "      <td>qf_2678</td>\n",
       "      <td>[splash american band, splash band, splash alb...</td>\n",
       "      <td>&lt;think&gt;\\nOkay, let's tackle this query. The us...</td>\n",
       "      <td>{\\n    \"query\": \"In which 1984 film did Tom Ha...</td>\n",
       "      <td>fully specified</td>\n",
       "    </tr>\n",
       "    <tr>\n",
       "      <th>999</th>\n",
       "      <td>At which English racecourse did two horses col...</td>\n",
       "      <td>bb_1342</td>\n",
       "      <td>[newbury, newbury disambiguation]</td>\n",
       "      <td>&lt;think&gt;\\nOkay, let's see. The user is asking a...</td>\n",
       "      <td>{\\n    \"query\": \"At which English racecourse d...</td>\n",
       "      <td>fully specified</td>\n",
       "    </tr>\n",
       "  </tbody>\n",
       "</table>\n",
       "<p>1000 rows × 6 columns</p>\n",
       "</div>"
      ],
      "text/plain": [
       "                                              question         id  \\\n",
       "0    What general name is given to a rotating star ...    sfq_178   \n",
       "1    \"Which Gilbert and Sullivan operetta is sub ti...  sfq_11822   \n",
       "2    Which English cricketer had figures for bowlin...  sfq_17752   \n",
       "3    Wolf Mankowitz wrote the 1953 novel ‘A Kid For...    qb_2689   \n",
       "4                  Who is the patron saint of dancers?   sfq_6199   \n",
       "..                                                 ...        ...   \n",
       "995  In what French region would you find Omaha, Ju...     jp_159   \n",
       "996  Who famously had children with both Julius Cae...    jp_2596   \n",
       "997  Which band released the albums Sheer Heart Att...  sfq_20578   \n",
       "998  In which 1984 film did Tom Hanks fall in love ...    qf_2678   \n",
       "999  At which English racecourse did two horses col...    bb_1342   \n",
       "\n",
       "                                    normalized_aliases  \\\n",
       "0                [yukon optics, beltex optics, pulsar]   \n",
       "1    [ruddigore, ruddigore witch s curse, rudigore,...   \n",
       "2                             [james laker, jim laker]   \n",
       "3    [farthings, farthing, farthing disambiguation,...   \n",
       "4    [saint crescentia, saint vitus, vitus, s vito,...   \n",
       "..                                                 ...   \n",
       "995       [normandy france, normandy, normandy region]   \n",
       "996  [keeuopatrai, queen cleopatra vii, queen cleop...   \n",
       "997  [quene, queen disambiguation, queen album, que...   \n",
       "998  [splash american band, splash band, splash alb...   \n",
       "999                  [newbury, newbury disambiguation]   \n",
       "\n",
       "                                              thinking  \\\n",
       "0    <think>\\nOkay, let's tackle this query. The us...   \n",
       "1    <think>\\nOkay, let's see. The user is asking w...   \n",
       "2    <think>\\nOkay, let's see. The user is asking w...   \n",
       "3    <think>\\nOkay, let's take a look at this user ...   \n",
       "4    <think>\\nOkay, let's see. The user is asking, ...   \n",
       "..                                                 ...   \n",
       "995  <think>\\nOkay, let's see. The user is asking a...   \n",
       "996  <think>\\nOkay, let's tackle this query. The us...   \n",
       "997  <think>\\nOkay, let's tackle this query. The us...   \n",
       "998  <think>\\nOkay, let's tackle this query. The us...   \n",
       "999  <think>\\nOkay, let's see. The user is asking a...   \n",
       "\n",
       "                                        model_response       model_pred  \n",
       "0    {\\n  \"query\": \"What general name is given to a...  fully specified  \n",
       "1    {\\n  \"query\": \"Which Gilbert and Sullivan oper...   underspecified  \n",
       "2    {\\n  \"query\": \"Which English cricketer had fig...  fully specified  \n",
       "3    {\\n  \"query\": \"Wolf Mankowitz wrote the 1953 n...   underspecified  \n",
       "4    {\\n  \"query\": \"Who is the patron saint of danc...   underspecified  \n",
       "..                                                 ...              ...  \n",
       "995  {\\n  \"query\": \"In what French region would you...  fully specified  \n",
       "996  {\\n  \"query\": \"Who famously had children with ...  fully specified  \n",
       "997  {\\n  \"query\": \"Which band released the albums ...  fully specified  \n",
       "998  {\\n    \"query\": \"In which 1984 film did Tom Ha...  fully specified  \n",
       "999  {\\n    \"query\": \"At which English racecourse d...  fully specified  \n",
       "\n",
       "[1000 rows x 6 columns]"
      ]
     },
     "execution_count": 8,
     "metadata": {},
     "output_type": "execute_result"
    }
   ],
   "source": [
    "test_df = run_experiment(test_prompts, df_TriviaQA_sample)\n",
    "test_df.to_csv('BASELINE_TriviaQA_classification_all.csv')\n",
    "test_df"
   ]
  },
  {
   "cell_type": "code",
   "execution_count": 9,
   "id": "9d360492-50b6-46c0-a6f9-4a96fbbcc86d",
   "metadata": {},
   "outputs": [],
   "source": [
    "annotated_dataset = merge_df_into_dataset_by_order(\n",
    "    TriviaQA_sample, \n",
    "    test_df, \n",
    "    columns=[\"thinking\", \"model_response\", \"model_pred\"],\n",
    "    prefix=\"qwen3_\",\n",
    "    inplace=False\n",
    ")"
   ]
  },
  {
   "cell_type": "code",
   "execution_count": 10,
   "id": "d6f2e6bd-ac68-43ec-8243-e3f4c39bf497",
   "metadata": {},
   "outputs": [
    {
     "data": {
      "application/vnd.jupyter.widget-view+json": {
       "model_id": "5efae61a0e094124b248abf46dac1c6b",
       "version_major": 2,
       "version_minor": 0
      },
      "text/plain": [
       "Filter:   0%|          | 0/1000 [00:00<?, ? examples/s]"
      ]
     },
     "metadata": {},
     "output_type": "display_data"
    },
    {
     "data": {
      "application/vnd.jupyter.widget-view+json": {
       "model_id": "ab69640325524bca97fded3072f3cd36",
       "version_major": 2,
       "version_minor": 0
      },
      "text/plain": [
       "Filter:   0%|          | 0/1000 [00:00<?, ? examples/s]"
      ]
     },
     "metadata": {},
     "output_type": "display_data"
    },
    {
     "name": "stdout",
     "output_type": "stream",
     "text": [
      "Underspecified samples: 159\n",
      "Fully specified samples: 841\n"
     ]
    },
    {
     "data": {
      "application/vnd.jupyter.widget-view+json": {
       "model_id": "083076be0d4e4759aa3994db9ebe01af",
       "version_major": 2,
       "version_minor": 0
      },
      "text/plain": [
       "Creating json from Arrow format:   0%|          | 0/1 [00:00<?, ?ba/s]"
      ]
     },
     "metadata": {},
     "output_type": "display_data"
    },
    {
     "data": {
      "application/vnd.jupyter.widget-view+json": {
       "model_id": "2c27723a899e46c58cbc78edc3e9823c",
       "version_major": 2,
       "version_minor": 0
      },
      "text/plain": [
       "Creating json from Arrow format:   0%|          | 0/1 [00:00<?, ?ba/s]"
      ]
     },
     "metadata": {},
     "output_type": "display_data"
    },
    {
     "data": {
      "application/vnd.jupyter.widget-view+json": {
       "model_id": "250030da7cf94f66be1ffcb2acd1392c",
       "version_major": 2,
       "version_minor": 0
      },
      "text/plain": [
       "Creating json from Arrow format:   0%|          | 0/1 [00:00<?, ?ba/s]"
      ]
     },
     "metadata": {},
     "output_type": "display_data"
    },
    {
     "data": {
      "text/plain": [
       "2487696"
      ]
     },
     "execution_count": 10,
     "metadata": {},
     "output_type": "execute_result"
    }
   ],
   "source": [
    "# Create the UND subset\n",
    "underspecified_set = annotated_dataset.filter(\n",
    "    lambda x: x[\"qwen3_model_pred\"].strip().lower() == \"underspecified\"\n",
    ")\n",
    "\n",
    "# Create the FS subset\n",
    "fully_specified_set = annotated_dataset.filter(\n",
    "    lambda x: x[\"qwen3_model_pred\"].strip().lower() == \"fully specified\"\n",
    ")\n",
    "\n",
    "# The size of subsets\n",
    "print(f\"Underspecified samples: {len(underspecified_set)}\")\n",
    "print(f\"Fully specified samples: {len(fully_specified_set)}\")\n",
    "\n",
    "annotated_dataset.to_json(\"BASELINE_classified_TriviaQA_sample_all.jsonl\", orient=\"records\", lines=True)\n",
    "underspecified_set.to_json(\"BASELINE_classified_TriviaQA_sample_UND.jsonl\", orient=\"records\", lines=True)\n",
    "fully_specified_set.to_json(\"BASELINE_classified_TriviaQA_sample_FS.jsonl\", orient=\"records\", lines=True)"
   ]
  },
  {
   "cell_type": "markdown",
   "id": "uoAbWr_bxoJ6",
   "metadata": {
    "id": "uoAbWr_bxoJ6"
   },
   "source": [
    "# QA implementations"
   ]
  },
  {
   "cell_type": "code",
   "execution_count": 2,
   "id": "UUaXuf71xqlb",
   "metadata": {
    "id": "UUaXuf71xqlb"
   },
   "outputs": [
    {
     "data": {
      "application/vnd.jupyter.widget-view+json": {
       "model_id": "25cde318eb5544b0a90e334a16d0a1cb",
       "version_major": 2,
       "version_minor": 0
      },
      "text/plain": [
       "Generating train split: 0 examples [00:00, ? examples/s]"
      ]
     },
     "metadata": {},
     "output_type": "display_data"
    },
    {
     "data": {
      "application/vnd.jupyter.widget-view+json": {
       "model_id": "f840f6e2dbe84775879890a0bcbc2dea",
       "version_major": 2,
       "version_minor": 0
      },
      "text/plain": [
       "Generating train split: 0 examples [00:00, ? examples/s]"
      ]
     },
     "metadata": {},
     "output_type": "display_data"
    }
   ],
   "source": [
    "underspecified_set = load_dataset(\n",
    "    \"json\",\n",
    "    data_files=\"BASELINE_classified_TriviaQA_sample_UND.jsonl\",\n",
    "    split=\"train\"  # 必须指定 split，否则默认返回 DatasetDict\n",
    ")\n",
    "\n",
    "fully_specified_set = load_dataset(\n",
    "    \"json\",\n",
    "    data_files=\"BASELINE_classified_TriviaQA_sample_FS.jsonl\",\n",
    "    split=\"train\"\n",
    ")"
   ]
  },
  {
   "cell_type": "markdown",
   "id": "3880w7oIxxR6",
   "metadata": {
    "id": "3880w7oIxxR6"
   },
   "source": [
    "## Loading GPT for short QA"
   ]
  },
  {
   "cell_type": "code",
   "execution_count": null,
   "id": "ifThtguIxsvQ",
   "metadata": {
    "id": "ifThtguIxsvQ"
   },
   "outputs": [],
   "source": [
    "from openai import OpenAI\n",
    "\n",
    "client = OpenAI() # Delete when sharing"
   ]
  },
  {
   "cell_type": "code",
   "execution_count": 4,
   "id": "hOpJXZpNy1wI",
   "metadata": {
    "id": "hOpJXZpNy1wI"
   },
   "outputs": [],
   "source": [
    "def ask_short_answer(question, client, model=\"gpt-4o-2024-11-20\", temperature=0, max_retries=5, sleep_time=2.0):\n",
    "    system_prompt = (\n",
    "        \"Answer the question with concise responses. \"\n",
    "        \"Return answers as a list of strings. If there's only one answer, return a single-item list. \"\n",
    "        \"Each answer should be brief and direct.\"\n",
    "    )\n",
    "    retries = 0\n",
    "    while retries < max_retries:\n",
    "        try:\n",
    "            response = client.chat.completions.create(\n",
    "                model=model,\n",
    "                messages=[\n",
    "                    {\"role\": \"system\", \"content\": system_prompt},\n",
    "                    {\"role\": \"user\", \"content\": question}\n",
    "                ],\n",
    "                temperature=temperature\n",
    "            )\n",
    "            content = response.choices[0].message.content\n",
    "            if content.startswith(\"[\"):\n",
    "                return eval(content)\n",
    "            else:\n",
    "                return [content.strip()]\n",
    "        except Exception as e:\n",
    "            retries += 1\n",
    "            time.sleep(sleep_time * retries)\n",
    "    return [\"[Error]: Max retries exceeded\"]"
   ]
  },
  {
   "cell_type": "code",
   "execution_count": 5,
   "id": "Wk3_XPN1_Rie",
   "metadata": {
    "id": "Wk3_XPN1_Rie"
   },
   "outputs": [],
   "source": [
    "def run_batch_shortQA_api(batch, client, **kwargs):\n",
    "    short_answers = []\n",
    "    for q in batch[\"question\"]:\n",
    "        try:\n",
    "            answer = ask_short_answer(q, client=client, **kwargs)\n",
    "            short_answers.append(answer)\n",
    "        except Exception as e:\n",
    "            print(f\"Error: {e}\")\n",
    "            short_answers.append([\"error\"])\n",
    "    return {\"model_short_answer\": short_answers}"
   ]
  },
  {
   "cell_type": "code",
   "execution_count": 6,
   "id": "GJWuyCDQ_THB",
   "metadata": {
    "id": "GJWuyCDQ_THB"
   },
   "outputs": [],
   "source": [
    "def batch_QA_with_progress(dataset, batch_fn, output_key, batch_size=5, fill_value=\"error\", **batch_fn_kwargs):\n",
    "    all_outputs = []\n",
    "    for i in tqdm(range(0, len(dataset), batch_size), desc=f\"Running {output_key}\"):\n",
    "        batch = dataset.select(range(i, min(i + batch_size, len(dataset))))\n",
    "        try:\n",
    "            output = batch_fn(batch, **batch_fn_kwargs)\n",
    "            if output_key not in output:\n",
    "                raise ValueError(f\"Missing key '{output_key}' in batch result\")\n",
    "            all_outputs.extend(output[output_key])\n",
    "        except Exception as e:\n",
    "            print(f\"Batch error at {i}: {e}\")\n",
    "            all_outputs.extend([fill_value] * len(batch))\n",
    "\n",
    "    if len(all_outputs) != len(dataset):\n",
    "        print(f\"[Warning] Output length mismatch, auto-filling\")\n",
    "        all_outputs.extend([fill_value] * (len(dataset) - len(all_outputs)))\n",
    "\n",
    "    return {output_key: all_outputs}"
   ]
  },
  {
   "cell_type": "markdown",
   "id": "1OcCHxcE_WUt",
   "metadata": {
    "id": "1OcCHxcE_WUt"
   },
   "source": [
    "## Implementations"
   ]
  },
  {
   "cell_type": "code",
   "execution_count": 7,
   "id": "1FhNGJz1_VkE",
   "metadata": {
    "id": "1FhNGJz1_VkE"
   },
   "outputs": [
    {
     "name": "stderr",
     "output_type": "stream",
     "text": [
      "Running model_short_answer: 100%|██████████| 32/32 [01:58<00:00,  3.70s/it]\n"
     ]
    }
   ],
   "source": [
    "short_results_UND = batch_QA_with_progress(\n",
    "    underspecified_set,\n",
    "    batch_fn=run_batch_shortQA_api,\n",
    "    output_key=\"model_short_answer\",\n",
    "    fill_value=[\"error\"],\n",
    "    client=client,\n",
    "    model=\"gpt-4o-2024-11-20\",\n",
    "    temperature=0.0\n",
    ")"
   ]
  },
  {
   "cell_type": "code",
   "execution_count": 8,
   "id": "1ZWw6mDN_aIp",
   "metadata": {
    "id": "1ZWw6mDN_aIp"
   },
   "outputs": [
    {
     "name": "stderr",
     "output_type": "stream",
     "text": [
      "Running model_short_answer: 100%|██████████| 169/169 [06:46<00:00,  2.41s/it]\n"
     ]
    }
   ],
   "source": [
    "# batch QA for FS\n",
    "short_results_FS = batch_QA_with_progress(\n",
    "    fully_specified_set,\n",
    "    batch_fn=run_batch_shortQA_api,\n",
    "    output_key=\"model_short_answer\",\n",
    "    fill_value=[\"error\"],\n",
    "    client=client,\n",
    "    model=\"gpt-4o-2024-11-20\",\n",
    "    temperature=0.0\n",
    ")"
   ]
  },
  {
   "cell_type": "code",
   "execution_count": 9,
   "id": "0u4mNHin_fN3",
   "metadata": {
    "id": "0u4mNHin_fN3"
   },
   "outputs": [
    {
     "data": {
      "application/vnd.jupyter.widget-view+json": {
       "model_id": "be22b7c3bed24dfd90f6e50d94d29851",
       "version_major": 2,
       "version_minor": 0
      },
      "text/plain": [
       "Creating json from Arrow format:   0%|          | 0/1 [00:00<?, ?ba/s]"
      ]
     },
     "metadata": {},
     "output_type": "display_data"
    },
    {
     "data": {
      "text/plain": [
       "571169"
      ]
     },
     "execution_count": 9,
     "metadata": {},
     "output_type": "execute_result"
    }
   ],
   "source": [
    "qa_underspecified = deepcopy(underspecified_set)\n",
    "\n",
    "for key in short_results_UND:\n",
    "    qa_underspecified = qa_underspecified.add_column(key, short_results_UND[key])\n",
    "\n",
    "qa_underspecified.to_json(\"BASELINE_TriviaQA_UND_qa_gpt.jsonl\", orient=\"records\", lines=True)"
   ]
  },
  {
   "cell_type": "code",
   "execution_count": 10,
   "id": "025OPrRz_kKo",
   "metadata": {
    "id": "025OPrRz_kKo"
   },
   "outputs": [
    {
     "data": {
      "application/vnd.jupyter.widget-view+json": {
       "model_id": "4ee772c6cc314f36b5b5c2401341dcdb",
       "version_major": 2,
       "version_minor": 0
      },
      "text/plain": [
       "Creating json from Arrow format:   0%|          | 0/1 [00:00<?, ?ba/s]"
      ]
     },
     "metadata": {},
     "output_type": "display_data"
    },
    {
     "data": {
      "text/plain": [
       "2520623"
      ]
     },
     "execution_count": 10,
     "metadata": {},
     "output_type": "execute_result"
    }
   ],
   "source": [
    "qa_fully_specified = deepcopy(fully_specified_set)\n",
    "\n",
    "for key in short_results_FS:\n",
    "    qa_fully_specified = qa_fully_specified.add_column(key, short_results_FS[key])\n",
    "\n",
    "qa_fully_specified.to_json(\"BASELINE_TriviaQA_FS_qa_gpt.jsonl\", orient=\"records\", lines=True)"
   ]
  },
  {
   "cell_type": "code",
   "execution_count": 11,
   "id": "sQXa-d3i_oiP",
   "metadata": {
    "id": "sQXa-d3i_oiP"
   },
   "outputs": [],
   "source": [
    "df = pd.read_json(\"BASELINE_TriviaQA_UND_qa_gpt.jsonl\", lines=True)\n",
    "df.to_csv('BASELINE_TriviaQA_UND_qa_gpt.csv')\n",
    "\n",
    "df = pd.read_json(\"BASELINE_TriviaQA_FS_qa_gpt.jsonl\", lines=True)\n",
    "df.to_csv('BASELINE_TriviaQA_FS_qa_gpt.csv')"
   ]
  },
  {
   "cell_type": "markdown",
   "id": "b-y-zAKl_zgV",
   "metadata": {
    "id": "b-y-zAKl_zgV"
   },
   "source": [
    "# Evaluations"
   ]
  },
  {
   "cell_type": "code",
   "execution_count": 12,
   "id": "FSl7HKut_014",
   "metadata": {
    "id": "FSl7HKut_014"
   },
   "outputs": [
    {
     "data": {
      "application/vnd.jupyter.widget-view+json": {
       "model_id": "75729ad45bd34150b4639dd52da1f5e4",
       "version_major": 2,
       "version_minor": 0
      },
      "text/plain": [
       "Generating train split: 0 examples [00:00, ? examples/s]"
      ]
     },
     "metadata": {},
     "output_type": "display_data"
    },
    {
     "data": {
      "application/vnd.jupyter.widget-view+json": {
       "model_id": "1d7b6cb30c034910bb74aada66dcce49",
       "version_major": 2,
       "version_minor": 0
      },
      "text/plain": [
       "Generating train split: 0 examples [00:00, ? examples/s]"
      ]
     },
     "metadata": {},
     "output_type": "display_data"
    }
   ],
   "source": [
    "underspecified_set_qa = load_dataset(\n",
    "    \"json\",\n",
    "    data_files=\"BASELINE_TriviaQA_UND_qa_gpt.jsonl\",\n",
    "    split=\"train\"  # 必须指定 split，否则默认返回 DatasetDict\n",
    ")\n",
    "\n",
    "fully_specified_set_qa = load_dataset(\n",
    "    \"json\",\n",
    "    data_files=\"BASELINE_TriviaQA_FS_qa_gpt.jsonl\",\n",
    "    split=\"train\"\n",
    ")"
   ]
  },
  {
   "cell_type": "markdown",
   "id": "t5xCXLGJ_6PP",
   "metadata": {
    "id": "t5xCXLGJ_6PP"
   },
   "source": [
    "## Squad EM + F1"
   ]
  },
  {
   "cell_type": "code",
   "execution_count": 13,
   "id": "c6Hffeen_8ec",
   "metadata": {
    "id": "c6Hffeen_8ec"
   },
   "outputs": [
    {
     "name": "stdout",
     "output_type": "stream",
     "text": [
      "Exact Match: 81.81\n",
      "F1 Score: 88.68\n"
     ]
    }
   ],
   "source": [
    "# Official squad script for avg EM and F1, not possible for t-test\n",
    "\n",
    "\n",
    "# Evaluate fully specified subset\n",
    "dataset = load_dataset(\"json\", data_files=\"BASELINE_TriviaQA_FS_qa_gpt.jsonl\", split=\"train\")\n",
    "\n",
    "# 加载 HuggingFace 的 squad 评估器\n",
    "squad_metric = evaluate.load(\"squad\")\n",
    "\n",
    "# 构造 predictions 和 references（标准格式）\n",
    "predictions = [\n",
    "    {\n",
    "        \"id\": str(i),\n",
    "        \"prediction_text\": pred[0] if isinstance(pred, list) and pred else \"\"\n",
    "    }\n",
    "    for i, pred in enumerate(dataset[\"model_short_answer\"])\n",
    "]\n",
    "\n",
    "references = [\n",
    "    {\n",
    "        \"id\": str(i),\n",
    "        \"answers\": {\n",
    "            \"text\": ref if isinstance(ref, list) else [ref],\n",
    "            \"answer_start\": [0] * len(ref if isinstance(ref, list) else [ref])\n",
    "        }\n",
    "    }\n",
    "    for i, ref in enumerate(dataset[\"normalized_aliases\"])\n",
    "]\n",
    "\n",
    "# 计算 SQuAD-style EM 和 F1\n",
    "results = squad_metric.compute(predictions=predictions, references=references)\n",
    "\n",
    "# 打印平均指标\n",
    "print(f\"Exact Match: {results['exact_match']:.2f}\")\n",
    "print(f\"F1 Score: {results['f1']:.2f}\")"
   ]
  },
  {
   "cell_type": "code",
   "execution_count": 14,
   "id": "XuC5wJBwBFmx",
   "metadata": {
    "id": "XuC5wJBwBFmx"
   },
   "outputs": [
    {
     "name": "stdout",
     "output_type": "stream",
     "text": [
      "Exact Match: 64.78\n",
      "F1 Score: 75.75\n"
     ]
    }
   ],
   "source": [
    "# Evaluate underspecified subset\n",
    "dataset = load_dataset(\"json\", data_files=\"BASELINE_TriviaQA_UND_qa_gpt.jsonl\", split=\"train\")\n",
    "\n",
    "# 加载 HuggingFace 的 squad 评估器\n",
    "squad_metric = evaluate.load(\"squad\")\n",
    "\n",
    "# 构造 predictions 和 references（标准格式）\n",
    "predictions = [\n",
    "    {\n",
    "        \"id\": str(i),\n",
    "        \"prediction_text\": pred[0] if isinstance(pred, list) and pred else \"\"\n",
    "    }\n",
    "    for i, pred in enumerate(dataset[\"model_short_answer\"])\n",
    "]\n",
    "\n",
    "references = [\n",
    "    {\n",
    "        \"id\": str(i),\n",
    "        \"answers\": {\n",
    "            \"text\": ref if isinstance(ref, list) else [ref],\n",
    "            \"answer_start\": [0] * len(ref if isinstance(ref, list) else [ref])\n",
    "        }\n",
    "    }\n",
    "    for i, ref in enumerate(dataset[\"normalized_aliases\"])\n",
    "]\n",
    "\n",
    "# 计算 SQuAD-style EM 和 F1\n",
    "results = squad_metric.compute(predictions=predictions, references=references)\n",
    "\n",
    "# 打印平均指标\n",
    "print(f\"Exact Match: {results['exact_match']:.2f}\")\n",
    "print(f\"F1 Score: {results['f1']:.2f}\")"
   ]
  },
  {
   "cell_type": "code",
   "execution_count": 15,
   "id": "tCBAvQK7DIbD",
   "metadata": {
    "id": "tCBAvQK7DIbD"
   },
   "outputs": [],
   "source": [
    "def evaluate_squad_per_sample_multi_ref_pred(dataset, pred_col=\"model_short_answer\", ref_col=\"normalized_aliases\"):\n",
    "    \"\"\"\n",
    "    对每个样本逐一计算 EM 和 F1，支持多个参考答案和多个预测答案（list[str]）。\n",
    "    返回带 \"em\", \"f1\" 列的新 Dataset，以及 f1/em 列表用于统计分析。\n",
    "    Also considering multiple answers in both gold and pred and take the maximum score\n",
    "    \"\"\"\n",
    "\n",
    "    def normalize_answer(s):\n",
    "        def remove_articles(text):\n",
    "            return re.sub(r'\\b(a|an|the)\\b', ' ', text)\n",
    "        def white_space_fix(text):\n",
    "            return ' '.join(text.split())\n",
    "        def remove_punc(text):\n",
    "            return ''.join(ch for ch in text if ch not in string.punctuation)\n",
    "        def lower(text):\n",
    "            return text.lower()\n",
    "        return white_space_fix(remove_articles(remove_punc(lower(s))))\n",
    "\n",
    "    def compute_exact(a_pred, a_gold):\n",
    "    # 如果是 list，转成 set 并 normalize 每个元素\n",
    "        if isinstance(a_pred, list) and isinstance(a_gold, list):\n",
    "          pred_set = set(normalize_answer(a) for a in a_pred)\n",
    "          gold_set = set(normalize_answer(a) for a in a_gold)\n",
    "          return int(pred_set == gold_set)\n",
    "        else:\n",
    "          return int(normalize_answer(a_pred) == normalize_answer(a_gold))\n",
    "\n",
    "    def compute_f1(a_pred, a_gold):\n",
    "        pred_tokens = normalize_answer(a_pred).split()\n",
    "        gold_tokens = normalize_answer(a_gold).split()\n",
    "        common = Counter(pred_tokens) & Counter(gold_tokens)\n",
    "        num_same = sum(common.values())\n",
    "        if num_same == 0:\n",
    "            return 0.0\n",
    "        precision = num_same / len(pred_tokens)\n",
    "        recall = num_same / len(gold_tokens)\n",
    "        return 2 * precision * recall / (precision + recall)\n",
    "\n",
    "    new_data = []\n",
    "    f1_scores = []\n",
    "    em_scores = []\n",
    "\n",
    "    for item in dataset:\n",
    "        preds = item.get(pred_col, [])\n",
    "        golds = item.get(ref_col, [])\n",
    "        # 转为 list\n",
    "        if not isinstance(preds, list):\n",
    "            preds = [preds] if preds else []\n",
    "        if not isinstance(golds, list):\n",
    "            golds = [golds] if golds else []\n",
    "\n",
    "        # 多对多最大匹配\n",
    "        if not preds or not golds:\n",
    "            em = 0.0\n",
    "            f1 = 0.0\n",
    "        else:\n",
    "            em = max(compute_exact(p, g) for p in preds for g in golds)\n",
    "            f1 = max(compute_f1(p, g) for p in preds for g in golds)\n",
    "\n",
    "        new_item = deepcopy(item)\n",
    "        new_item[\"em\"] = em\n",
    "        new_item[\"f1\"] = f1\n",
    "        new_data.append(new_item)\n",
    "        em_scores.append(em)\n",
    "        f1_scores.append(f1)\n",
    "\n",
    "    return Dataset.from_list(new_data), f1_scores, em_scores"
   ]
  },
  {
   "cell_type": "code",
   "execution_count": 16,
   "id": "5oL_Tt_bDMFZ",
   "metadata": {
    "id": "5oL_Tt_bDMFZ"
   },
   "outputs": [
    {
     "data": {
      "application/vnd.jupyter.widget-view+json": {
       "model_id": "06026fe51b304bb2bdf48ae4993b8b5c",
       "version_major": 2,
       "version_minor": 0
      },
      "text/plain": [
       "Creating json from Arrow format:   0%|          | 0/1 [00:00<?, ?ba/s]"
      ]
     },
     "metadata": {},
     "output_type": "display_data"
    },
    {
     "data": {
      "text/plain": [
       "573938"
      ]
     },
     "execution_count": 16,
     "metadata": {},
     "output_type": "execute_result"
    }
   ],
   "source": [
    "squad_scored_UND, UND_f1_list, UND_em_list = evaluate_squad_per_sample_multi_ref_pred(underspecified_set_qa)\n",
    "squad_scored_UND.to_json(\"BASELINE_TriviaQA_UND_qa_gpt_with_squad_scores.jsonl\", orient=\"records\", lines=True)"
   ]
  },
  {
   "cell_type": "code",
   "execution_count": 17,
   "id": "46b7ESGGDN-B",
   "metadata": {
    "id": "46b7ESGGDN-B"
   },
   "outputs": [
    {
     "data": {
      "application/vnd.jupyter.widget-view+json": {
       "model_id": "2a2f8b0d4e9e4f6e8a2446662ca29129",
       "version_major": 2,
       "version_minor": 0
      },
      "text/plain": [
       "Creating json from Arrow format:   0%|          | 0/1 [00:00<?, ?ba/s]"
      ]
     },
     "metadata": {},
     "output_type": "display_data"
    },
    {
     "data": {
      "text/plain": [
       "2534633"
      ]
     },
     "execution_count": 17,
     "metadata": {},
     "output_type": "execute_result"
    }
   ],
   "source": [
    "squad_scored_FS, FS_f1_list, FS_em_list = evaluate_squad_per_sample_multi_ref_pred(fully_specified_set_qa)\n",
    "squad_scored_FS.to_json(\"BASELINE_TriviaQA_FS_qa_gpt_with_squad_scores.jsonl\", orient=\"records\", lines=True)"
   ]
  },
  {
   "cell_type": "code",
   "execution_count": 18,
   "id": "yVOus4fRDqpr",
   "metadata": {
    "id": "yVOus4fRDqpr"
   },
   "outputs": [
    {
     "name": "stdout",
     "output_type": "stream",
     "text": [
      "UND Exact Match (avg): 64.78\n",
      "UND F1 Score (avg): 75.77\n",
      "FS Exact Match (avg): 81.93\n",
      "FS F1 Score (avg): 88.77\n",
      "F1: t=4.163, p=0.0000\n",
      "EM: t=4.260, p=0.0000\n"
     ]
    }
   ],
   "source": [
    "UND_mean_em = np.mean(UND_em_list)  # em_scores: EM list per sample\n",
    "UND_mean_f1 = np.mean(UND_f1_list)  # f1_scores F1 list per sample\n",
    "print(f\"UND Exact Match (avg): {UND_mean_em * 100:.2f}\")\n",
    "print(f\"UND F1 Score (avg): {UND_mean_f1 * 100:.2f}\")\n",
    "\n",
    "FS_mean_em = np.mean(FS_em_list)  # em_scores: EM list per sample\n",
    "FS_mean_f1 = np.mean(FS_f1_list)  # f1_scores F1 list per sample\n",
    "print(f\"FS Exact Match (avg): {FS_mean_em * 100:.2f}\")\n",
    "print(f\"FS F1 Score (avg): {FS_mean_f1 * 100:.2f}\")\n",
    "\n",
    "f1_tstat, f1_pval = ttest_ind(FS_f1_list, UND_f1_list, equal_var=False)\n",
    "print(f\"F1: t={f1_tstat:.3f}, p={f1_pval:.4f}\")\n",
    "\n",
    "em_tstat, em_pval = ttest_ind(FS_em_list, UND_em_list, equal_var=False)\n",
    "print(f\"EM: t={em_tstat:.3f}, p={em_pval:.4f}\")"
   ]
  },
  {
   "cell_type": "code",
   "execution_count": 19,
   "id": "12ff9d14-29fc-4ccc-8587-072b5424e983",
   "metadata": {},
   "outputs": [
    {
     "data": {
      "application/vnd.jupyter.widget-view+json": {
       "model_id": "366a82020a6c436fa7d31c142a6e1a43",
       "version_major": 2,
       "version_minor": 0
      },
      "text/plain": [
       "Generating train split: 0 examples [00:00, ? examples/s]"
      ]
     },
     "metadata": {},
     "output_type": "display_data"
    },
    {
     "data": {
      "application/vnd.jupyter.widget-view+json": {
       "model_id": "58deb902dacf475996158d98b160c480",
       "version_major": 2,
       "version_minor": 0
      },
      "text/plain": [
       "Generating train split: 0 examples [00:00, ? examples/s]"
      ]
     },
     "metadata": {},
     "output_type": "display_data"
    }
   ],
   "source": [
    "UND_full = load_dataset(\n",
    "    \"json\",\n",
    "    data_files=\"BASELINE_TriviaQA_UND_qa_gpt_with_squad_scores.jsonl\",\n",
    "    split=\"train\"  # 必须指定 split，否则默认返回 DatasetDict\n",
    ")\n",
    "\n",
    "FS_full = load_dataset(\n",
    "    \"json\",\n",
    "    data_files=\"BASELINE_TriviaQA_FS_qa_gpt_with_squad_scores.jsonl\",\n",
    "    split=\"train\"\n",
    ")"
   ]
  },
  {
   "cell_type": "code",
   "execution_count": 20,
   "id": "09e230a3-1b40-4c45-a862-1aa29825a8b5",
   "metadata": {},
   "outputs": [],
   "source": [
    "df = pd.read_json(\"BASELINE_TriviaQA_UND_qa_gpt_with_squad_scores.jsonl\", lines=True)\n",
    "df.to_csv('BASELINE_TriviaQA_UND_qa_gpt_with_squad_scores.csv')\n",
    "\n",
    "df = pd.read_json(\"BASELINE_TriviaQA_FS_qa_gpt_with_squad_scores.jsonl\", lines=True)\n",
    "df.to_csv('BASELINE_TriviaQA_FS_qa_gpt_with_squad_scores.csv')"
   ]
  },
  {
   "cell_type": "code",
   "execution_count": 3,
   "id": "4f79ad33-c685-44a3-bf47-f8a488b37fcc",
   "metadata": {},
   "outputs": [
    {
     "name": "stdout",
     "output_type": "stream",
     "text": [
      "gpt_4o TriviaQA NQ UND qa EM SD: 0.46504199449411593\n",
      "gpt_4o TriviaQA NQ FS qa EM SD: 0.40458189638495196\n",
      "gpt_4o TriviaQA NQ UND qa F1 SD: 0.3622724129981127\n",
      "gpt_4o TriviaQA NQ FS qa F1 SD: 0.2936539771078576\n"
     ]
    }
   ],
   "source": [
    "print(f'gpt_4o TriviaQA NQ UND qa EM SD: {np.std(UND_full[\"em\"])}')\n",
    "print(f'gpt_4o TriviaQA NQ FS qa EM SD: {np.std(FS_full[\"em\"])}')\n",
    "print(f'gpt_4o TriviaQA NQ UND qa F1 SD: {np.std(UND_full[\"f1\"])}')\n",
    "print(f'gpt_4o TriviaQA NQ FS qa F1 SD: {np.std(FS_full[\"f1\"])}')"
   ]
  },
  {
   "cell_type": "code",
   "execution_count": 4,
   "id": "87427362-6cf5-4417-9483-f90f6849a681",
   "metadata": {},
   "outputs": [],
   "source": [
    "def welch_df(n1, sd1, n2, sd2):\n",
    "    var1 = sd1**2\n",
    "    var2 = sd2**2\n",
    "    numerator = (var1/n1 + var2/n2)**2\n",
    "    denominator = ((var1/n1)**2)/(n1 - 1) + ((var2/n2)**2)/(n2 - 1)\n",
    "    return numerator / denominator"
   ]
  },
  {
   "cell_type": "code",
   "execution_count": 5,
   "id": "4387b53e-d41f-4433-ae6d-b7aaacb98538",
   "metadata": {},
   "outputs": [
    {
     "data": {
      "text/plain": [
       "113.52656977914847"
      ]
     },
     "execution_count": 5,
     "metadata": {},
     "output_type": "execute_result"
    }
   ],
   "source": [
    "welch_df(98, np.std(UND_full[\"em\"]), 902, np.std(FS_full[\"em\"]))"
   ]
  },
  {
   "cell_type": "code",
   "execution_count": 6,
   "id": "b5f169bd-017e-4b7b-905d-e69adc7265dd",
   "metadata": {},
   "outputs": [
    {
     "data": {
      "text/plain": [
       "111.28240242834372"
      ]
     },
     "execution_count": 6,
     "metadata": {},
     "output_type": "execute_result"
    }
   ],
   "source": [
    "welch_df(98, np.std(UND_full[\"f1\"]), 902, np.std(FS_full[\"f1\"]))"
   ]
  },
  {
   "cell_type": "markdown",
   "id": "1byMx599DuOd",
   "metadata": {
    "id": "1byMx599DuOd"
   },
   "source": [
    "## Visualization"
   ]
  },
  {
   "cell_type": "code",
   "execution_count": 41,
   "id": "bee126ff-6d0b-435a-966d-af7d67101fa5",
   "metadata": {},
   "outputs": [
    {
     "name": "stdout",
     "output_type": "stream",
     "text": [
      "FS F1: {0.5714285714285715, 1.0, 0.6666666666666666, 0.0, 0.5, 0.3076923076923077, 0.8, 0.7272727272727272, 0.2222222222222222, 0.75, 0.25, 0.18181818181818182, 0.1935483870967742, 0.3636363636363636, 0.6, 0.5454545454545454, 0.14285714285714285, 0.15384615384615385, 0.2, 0.23529411764705882, 0.13333333333333333, 0.19999999999999998, 0.7777777777777778, 0.2857142857142857, 0.28571428571428575, 0.8571428571428571, 0.33333333333333337, 0.8461538461538461, 0.4, 0.888888888888889, 0.9333333333333333, 0.7499999999999999}\n",
      "UND F1: 0.0 1.0\n"
     ]
    }
   ],
   "source": [
    "print(\"FS F1:\", set(FS_f1_list))\n",
    "print(\"UND F1:\", min(UND_f1_list), max(UND_f1_list))"
   ]
  },
  {
   "cell_type": "code",
   "execution_count": 42,
   "id": "c3dbbda7-5a70-4237-8d64-293b644734aa",
   "metadata": {},
   "outputs": [
    {
     "name": "stdout",
     "output_type": "stream",
     "text": [
      "Q1=1.00, Median=1.00, Q3=1.00\n"
     ]
    }
   ],
   "source": [
    "import numpy as np\n",
    "q1 = np.percentile(FS_f1_list, 25)\n",
    "q2 = np.percentile(FS_f1_list, 50)\n",
    "q3 = np.percentile(FS_f1_list, 75)\n",
    "print(f\"Q1={q1:.2f}, Median={q2:.2f}, Q3={q3:.2f}\")"
   ]
  },
  {
   "cell_type": "code",
   "execution_count": 21,
   "id": "d583b0cb-aa90-4fff-8dd3-9ba95832ae1c",
   "metadata": {},
   "outputs": [
    {
     "name": "stderr",
     "output_type": "stream",
     "text": [
      "/scratch-local/yhuang.14606769/ipykernel_3805573/3359582170.py:7: FutureWarning: \n",
      "\n",
      "Passing `palette` without assigning `hue` is deprecated and will be removed in v0.14.0. Assign the `x` variable to `hue` and set `legend=False` for the same effect.\n",
      "\n",
      "  sns.boxplot(x=\"Subset\", y=\"F1\", data=df_f1, palette=\"Set2\", showfliers=False)\n"
     ]
    }
   ],
   "source": [
    "df_f1 = pd.DataFrame({\n",
    "    \"F1\": FS_f1_list + UND_f1_list,\n",
    "    \"Subset\": [\"Fully specified\"] * len(FS_f1_list) + [\"Underspecified\"] * len(UND_f1_list)\n",
    "})\n",
    "\n",
    "plt.figure(figsize=(6, 4))\n",
    "sns.boxplot(x=\"Subset\", y=\"F1\", data=df_f1, palette=\"Set2\", showfliers=False)\n",
    "plt.title(\"gpt-4o-2024-11-20 F1 Score Distribution by Subset_BASELINE\")\n",
    "plt.tight_layout()\n",
    "plt.savefig(\"TriviaQA_f1_boxplot_gpt_BASELINE.png\")\n",
    "plt.close()"
   ]
  },
  {
   "cell_type": "code",
   "execution_count": 22,
   "id": "iJjiklGgDwTM",
   "metadata": {
    "id": "iJjiklGgDwTM"
   },
   "outputs": [
    {
     "name": "stderr",
     "output_type": "stream",
     "text": [
      "/scratch-local/yhuang.14606769/ipykernel_3805573/483144419.py:7: FutureWarning: \n",
      "\n",
      "The `ci` parameter is deprecated. Use `errorbar=('ci', 95)` for the same effect.\n",
      "\n",
      "  sns.barplot(x=\"Subset\", y=\"EM\", data=df_em, palette=\"Set2\", ci=95)\n",
      "/scratch-local/yhuang.14606769/ipykernel_3805573/483144419.py:7: FutureWarning: \n",
      "\n",
      "Passing `palette` without assigning `hue` is deprecated and will be removed in v0.14.0. Assign the `x` variable to `hue` and set `legend=False` for the same effect.\n",
      "\n",
      "  sns.barplot(x=\"Subset\", y=\"EM\", data=df_em, palette=\"Set2\", ci=95)\n"
     ]
    }
   ],
   "source": [
    "df_em = pd.DataFrame({\n",
    "    \"EM\": FS_em_list + UND_em_list,\n",
    "    \"Subset\": [\"Fully specified\"] * len(FS_em_list) + [\"Underspecified\"] * len(UND_em_list)\n",
    "})\n",
    "\n",
    "plt.figure(figsize=(6, 4))\n",
    "sns.barplot(x=\"Subset\", y=\"EM\", data=df_em, palette=\"Set2\", ci=95)\n",
    "plt.title(\"gpt-4o-2024-11-20 Exact Match Rate by Subset_BASELINE (± CI)\")\n",
    "plt.tight_layout()\n",
    "plt.savefig(\"TriviaQA_em_barplot_gpt_BASELINE.png\",dpi=300)\n",
    "plt.close()"
   ]
  },
  {
   "cell_type": "code",
   "execution_count": 23,
   "id": "432569fa-ba6a-483c-b6e4-8a744e48775b",
   "metadata": {},
   "outputs": [
    {
     "name": "stderr",
     "output_type": "stream",
     "text": [
      "/scratch-local/yhuang.14606769/ipykernel_3805573/3277561390.py:7: FutureWarning: \n",
      "\n",
      "Passing `palette` without assigning `hue` is deprecated and will be removed in v0.14.0. Assign the `x` variable to `hue` and set `legend=False` for the same effect.\n",
      "\n",
      "  sns.violinplot(\n",
      "/scratch-local/yhuang.14606769/ipykernel_3805573/3277561390.py:33: UserWarning: Matplotlib is currently using agg, which is a non-GUI backend, so cannot show the figure.\n",
      "  plt.show()\n"
     ]
    }
   ],
   "source": [
    "# 设置学术风格\n",
    "sns.set_theme(style=\"whitegrid\", font_scale=1.2)\n",
    "\n",
    "plt.figure(figsize=(6.5, 4.5))\n",
    "\n",
    "# Violin plot 只显示分布，不显示 quartile\n",
    "sns.violinplot(\n",
    "    x=\"Subset\", y=\"F1\", data=df_f1,\n",
    "    palette=\"Set2\", inner=None, cut=0\n",
    ")\n",
    "\n",
    "# 叠加 boxplot 显示中位数和 IQR，透明一点避免遮住 violin\n",
    "sns.boxplot(\n",
    "    x=\"Subset\", y=\"F1\", data=df_f1,\n",
    "    width=0.2, showcaps=True, boxprops={'facecolor':'white', 'zorder':2},\n",
    "    whiskerprops={'linewidth':1.5}, medianprops={'color':'black', 'linewidth':2},\n",
    "    showfliers=False\n",
    ")\n",
    "\n",
    "# 叠加 stripplot 显示原始点（可选）\n",
    "sns.stripplot(\n",
    "    x=\"Subset\", y=\"F1\", data=df_f1,\n",
    "    color='black', size=2.5, jitter=True, alpha=0.4\n",
    ")\n",
    "\n",
    "plt.ylim(-0.05, 1.05)\n",
    "plt.title(\"gpt-4o-2024-11-20 F1 Score Distribution by Subset_BASELINE\", fontsize=14)\n",
    "plt.xlabel(\"\")\n",
    "plt.ylabel(\"F1 Score\", fontsize=12)\n",
    "\n",
    "plt.tight_layout()\n",
    "plt.savefig(\"fig_gpt4o_f1_by_subset_BASELINE.png\", dpi=300) \n",
    "plt.show()"
   ]
  },
  {
   "cell_type": "code",
   "execution_count": 24,
   "id": "dFPopvHE7JwA",
   "metadata": {
    "id": "dFPopvHE7JwA"
   },
   "outputs": [
    {
     "data": {
      "image/png": "[encoded data removed]",
      "text/plain": [
       "<IPython.core.display.Image object>"
      ]
     },
     "execution_count": 24,
     "metadata": {},
     "output_type": "execute_result"
    }
   ],
   "source": [
    "from IPython.display import Image\n",
    "Image(\"TriviaQA_f1_boxplot_gpt_BASELINE.png\")"
   ]
  },
  {
   "cell_type": "code",
   "execution_count": 25,
   "id": "faf0408b-5b55-455d-9f69-77956bcf5436",
   "metadata": {},
   "outputs": [
    {
     "data": {
      "image/png": "[encoded data removed]",
      "text/plain": [
       "<IPython.core.display.Image object>"
      ]
     },
     "execution_count": 25,
     "metadata": {},
     "output_type": "execute_result"
    }
   ],
   "source": [
    "from IPython.display import Image\n",
    "Image(\"fig_gpt4o_f1_by_subset_BASELINE.png\")"
   ]
  },
  {
   "cell_type": "code",
   "execution_count": 26,
   "id": "hCnh-QTH7NGH",
   "metadata": {
    "id": "hCnh-QTH7NGH"
   },
   "outputs": [
    {
     "data": {
      "image/png": "[encoded data removed]",
      "text/plain": [
       "<IPython.core.display.Image object>"
      ]
     },
     "execution_count": 26,
     "metadata": {},
     "output_type": "execute_result"
    }
   ],
   "source": [
    "Image(\"TriviaQA_em_barplot_gpt_BASELINE.png\")"
   ]
  },
  {
   "cell_type": "markdown",
   "id": "54b8bed1",
   "metadata": {},
   "source": [
    "### Ragas Evaluation"
   ]
  },
  {
   "cell_type": "code",
   "execution_count": 2,
   "id": "ad2d92ab",
   "metadata": {},
   "outputs": [],
   "source": [
    "evaluator_llm = LangchainLLMWrapper(ChatDeepSeek(model=\"deepseek-chat\", verbose=True, temperature=0))\n",
    "\n",
    "UND_full = load_dataset(\n",
    "    \"json\",\n",
    "    data_files=\"BASELINE_TriviaQA_UND_qa_gpt_with_squad_scores.jsonl\",\n",
    "    split=\"train\"  # 必须指定 split，否则默认返回 DatasetDict\n",
    ")\n",
    "\n",
    "FS_full = load_dataset(\n",
    "    \"json\",\n",
    "    data_files=\"BASELINE_TriviaQA_FS_qa_gpt_with_squad_scores.jsonl\",\n",
    "    split=\"train\"\n",
    ")"
   ]
  },
  {
   "cell_type": "code",
   "execution_count": 5,
   "id": "3156b938",
   "metadata": {},
   "outputs": [
    {
     "name": "stdout",
     "output_type": "stream",
     "text": [
      "模型答案: ['Ruddigore']\n",
      "参考答案: ['ruddigore', 'ruddigore witch s curse', 'rudigore', 'ruddygore']\n",
      "组合 1-1: 分数 = 1.0\n",
      "最高分数: 1.0\n",
      "最佳组合: ('Ruddigore', 'ruddigore')\n"
     ]
    }
   ],
   "source": [
    "async def test_single_sample_optimized(row, evaluator=evaluator_llm):\n",
    "    \"\"\"测试单个样本的评分\"\"\"\n",
    "    scorer = AnswerAccuracy(llm=evaluator)\n",
    "    \n",
    "    model_answers = row['model_short_answer'] if isinstance(row['model_short_answer'], list) else [row['model_short_answer']]\n",
    "    reference_answers = row['normalized_aliases'] if isinstance(row['normalized_aliases'], list) else [row['normalized_aliases']]\n",
    "    \n",
    "    print(f\"模型答案: {model_answers}\")\n",
    "    print(f\"参考答案: {reference_answers}\")\n",
    "    \n",
    "    max_score = 0.0\n",
    "    best_combination = None\n",
    "    \n",
    "    for i, model_ans in enumerate(model_answers):\n",
    "        for j, ref_ans in enumerate(reference_answers):\n",
    "            sample = SingleTurnSample(\n",
    "                user_input=row['question'],\n",
    "                response=model_ans,\n",
    "                reference=ref_ans\n",
    "            )\n",
    "            score = await scorer.single_turn_ascore(sample)\n",
    "            print(f\"组合 {i+1}-{j+1}: 分数 = {score}\")\n",
    "            \n",
    "            if score > max_score:\n",
    "                max_score = score\n",
    "                best_combination = (model_ans, ref_ans)\n",
    "                if score == 1.0:\n",
    "                    break  # 跳出内层循环\n",
    "        if max_score == 1.0:\n",
    "            break  # 跳出外层循环\n",
    "    \n",
    "    print(f\"最高分数: {max_score}\")\n",
    "    print(f\"最佳组合: {best_combination}\")\n",
    "    return max_score\n",
    "\n",
    "# 测试使用\n",
    "test_score = await test_single_sample_optimized(UND_full[0])"
   ]
  },
  {
   "cell_type": "code",
   "execution_count": 3,
   "id": "71b22d7c",
   "metadata": {},
   "outputs": [],
   "source": [
    "async def answer_accuracy_optimized(input_dataset, evaluator=evaluator_llm):\n",
    "    # 在函数开始时创建一次 scorer\n",
    "    scorer = AnswerAccuracy(llm=evaluator)\n",
    "    \n",
    "\n",
    "    score_list = []\n",
    "        \n",
    "    for i, row in enumerate(tqdm(input_dataset, desc=\"Calculating short answer accuracy\")):\n",
    "        try:\n",
    "            # 短答案评分 - 处理列表情况\n",
    "            if 'model_short_answer' in row and 'normalized_aliases' in row:\n",
    "                model_answers = row['model_short_answer'] if isinstance(row['model_short_answer'], list) else [row['model_short_answer']]\n",
    "                reference_answers = row['normalized_aliases'] if isinstance(row['normalized_aliases'], list) else [row['normalized_aliases']]\n",
    "                    \n",
    "                # 计算所有组合的分数，取最高分\n",
    "                max_score = 0.0\n",
    "                for model_ans in model_answers:\n",
    "                    for ref_ans in reference_answers:\n",
    "                        sample = SingleTurnSample(\n",
    "                                user_input=row['question'],\n",
    "                                response=model_ans,\n",
    "                                reference=ref_ans\n",
    "                            )\n",
    "                        score = await scorer.single_turn_ascore(sample)\n",
    "                        max_score = max(max_score, score)\n",
    "                        if max_score == 1.0:\n",
    "                            break  # 跳出内层循环\n",
    "                    if max_score == 1.0:\n",
    "                        break  # 跳出外层循环\n",
    "                \n",
    "                score_list.append(max_score)\n",
    "            else:\n",
    "                score_list.append(0.0)\n",
    "                \n",
    "        except Exception as e:\n",
    "            print(f\"处理第 {i+1} 个样本时出错: {e}\")\n",
    "            score_list.append(0.0)\n",
    "\n",
    "    ragas_scored_dataset = input_dataset.add_column(\"ragas_AA_short\", score_list)\n",
    "\n",
    "    return ragas_scored_dataset"
   ]
  },
  {
   "cell_type": "code",
   "execution_count": 9,
   "id": "0629b7da",
   "metadata": {},
   "outputs": [
    {
     "name": "stderr",
     "output_type": "stream",
     "text": [
      "Calculating short answer accuracy: 100%|██████████| 159/159 [1:43:07<00:00, 38.91s/it]   \n"
     ]
    },
    {
     "data": {
      "application/vnd.jupyter.widget-view+json": {
       "model_id": "333b0dcee93248a09b466ca222f3b486",
       "version_major": 2,
       "version_minor": 0
      },
      "text/plain": [
       "Creating CSV from Arrow format:   0%|          | 0/1 [00:00<?, ?ba/s]"
      ]
     },
     "metadata": {},
     "output_type": "display_data"
    },
    {
     "data": {
      "text/plain": [
       "549079"
      ]
     },
     "execution_count": 9,
     "metadata": {},
     "output_type": "execute_result"
    }
   ],
   "source": [
    "UND_ragas = await answer_accuracy_optimized(UND_full)\n",
    "UND_ragas.to_csv(\"TriviaQA_UND_gpt4o_Ragas.csv\")"
   ]
  },
  {
   "cell_type": "code",
   "execution_count": 4,
   "id": "a47f81c3",
   "metadata": {},
   "outputs": [
    {
     "name": "stderr",
     "output_type": "stream",
     "text": [
      "Calculating short answer accuracy: 100%|██████████| 841/841 [6:11:46<00:00, 26.52s/it]    \n"
     ]
    },
    {
     "data": {
      "application/vnd.jupyter.widget-view+json": {
       "model_id": "305a2f72e0fb48368052e33e7b345288",
       "version_major": 2,
       "version_minor": 0
      },
      "text/plain": [
       "Creating CSV from Arrow format:   0%|          | 0/1 [00:00<?, ?ba/s]"
      ]
     },
     "metadata": {},
     "output_type": "display_data"
    },
    {
     "data": {
      "text/plain": [
       "2406145"
      ]
     },
     "execution_count": 4,
     "metadata": {},
     "output_type": "execute_result"
    }
   ],
   "source": [
    "FS_ragas = await answer_accuracy_optimized(FS_full)\n",
    "FS_ragas.to_csv(\"TriviaQA_FS_gpt4o_Ragas.csv\")"
   ]
  },
  {
   "cell_type": "code",
   "execution_count": 6,
   "id": "c2aeccdb",
   "metadata": {},
   "outputs": [
    {
     "name": "stdout",
     "output_type": "stream",
     "text": [
      "UND AA (avg): 84.28\n",
      "FS AA (avg): 94.50\n",
      "AA: t=3.565, p=0.0005\n"
     ]
    }
   ],
   "source": [
    "df = pd.read_csv(\"TriviaQA_UND_gpt4o_Ragas.csv\")\n",
    "UND_ragas_AA = df[\"ragas_AA_short\"].tolist()\n",
    "\n",
    "#UND_ragas_AA = list(UND_ragas[\"ragas_AA_short\"])\n",
    "FS_ragas_AA = list(FS_ragas[\"ragas_AA_short\"])\n",
    "\n",
    "UND_mean_AA = np.mean(UND_ragas_AA)\n",
    "print(f\"UND AA (avg): {UND_mean_AA * 100:.2f}\")\n",
    "\n",
    "\n",
    "FS_mean_AA = np.mean(FS_ragas_AA)\n",
    "print(f\"FS AA (avg): {FS_mean_AA * 100:.2f}\")\n",
    "\n",
    "AA_tstat, AA_pval = ttest_ind(FS_ragas_AA, UND_ragas_AA, equal_var=False)\n",
    "print(f\"AA: t={AA_tstat:.3f}, p={AA_pval:.4f}\")"
   ]
  }
 ],
 "metadata": {
  "colab": {
   "provenance": []
  },
  "kernelspec": {
   "display_name": ".venv",
   "language": "python",
   "name": "python3"
  },
  "language_info": {
   "codemirror_mode": {
    "name": "ipython",
    "version": 3
   },
   "file_extension": ".py",
   "mimetype": "text/x-python",
   "name": "python",
   "nbconvert_exporter": "python",
   "pygments_lexer": "ipython3",
   "version": "3.13.7"
  }
 },
 "nbformat": 4,
 "nbformat_minor": 5
}
